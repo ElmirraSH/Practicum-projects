{
 "cells": [
  {
   "cell_type": "markdown",
   "metadata": {
    "id": "4mJbK1knrJgz"
   },
   "source": [
    "# Проект: Исследование стартапов"
   ]
  },
  {
   "cell_type": "markdown",
   "metadata": {
    "id": "P6j0r3worJg0"
   },
   "source": [
    "## Введение"
   ]
  },
  {
   "cell_type": "markdown",
   "metadata": {
    "id": "8lQtbsIUyFG6"
   },
   "source": [
    "Финансовая компания хочет войти на инвестиционный рынок, инвестировать в стартапы. \n",
    "### Цель: исследовать исторические данные о покупке и продаже стартапов, учитывая факт, что данные неполные."
   ]
  },
  {
   "cell_type": "markdown",
   "metadata": {},
   "source": [
    "## Описание данных\n",
    "\n",
    "Таблица `acquisition` <br>\n",
    "Содержит информацию о покупках одними компаниями других компаний:\n",
    "- id — идентификатор покупки.\n",
    "- acquiring_company_id — идентификатор покупающей компании.\n",
    "- acquired_company_id — идентификатор покупаемой компании.\n",
    "- term_code — варианты расчёта.\n",
    "- price_amount — сумма сделки.\n",
    "- acquired_at — дата сделки.\n",
    "\n",
    "\n",
    "Таблица `company_and_rounds` <br>\n",
    "Содержит информацию о компаниях и раундах финансирования:\n",
    "- company ID — идентификатор компании.\n",
    "- name — название компании.\n",
    "- category code — категория области деятельности компании.\n",
    "- status — статус компании.\n",
    "- founded at — дата инвестирования.\n",
    "- closed at — дата закрытия компании.\n",
    "- domain — официальный сайт компании.\n",
    "- network username — ник компании в сети.\n",
    "- country code — код страны компании.\n",
    "- investment rounds — число инвестиционных раундов.\n",
    "- funding rounds — число раундов финансирования.\n",
    "- funding total — сумма финансирования.\n",
    "- milestones — вехи финансирования.\n",
    "- funding round id — идентификатор этапа финансирования.\n",
    "- company id — идентификатор компании.\n",
    "- funded at — дата финансирования.\n",
    "- funding round type — тип финансирования.\n",
    "- raised amount — сумма финансирования.\n",
    "- pre money valuation — предварительная денежная оценка.\n",
    "- participants — число участников.\n",
    "- is first round — является ли раунд первым.\n",
    "- is last round — является раунд последним.\n",
    "\n",
    "\n",
    "Таблица `education` <br>\n",
    "Содержит информацию об образовании сотрудника:\n",
    "- id — идентификатор записи об образовании.\n",
    "- person_id — идентификатор работника.\n",
    "- instituition — название учебного заведения.\n",
    "- graduated_at — дата получения образования.\n",
    "\n",
    "Таблица `people` <br>\n",
    "Содержит информацию о сотрудниках:\n",
    "- id — идентификатор сотрудника.\n",
    "- first_name — имя сотрудника.\n",
    "- last_name — фамилия сотрудника.\n",
    "- company_id — идентификатор компании.\n",
    "- network_username — ник в социальных сетях.\n",
    "\n",
    "\n",
    "Таблица `degrees` <br>\n",
    "Содержит информацию о типе образования сотрудника:\n",
    "- id — идентификатор записи.\n",
    "- object_id — идентификатор сотрудника.\n",
    "- degree_type — тип образования.\n",
    "- subject — специальность.\n",
    "\n",
    "\n",
    "Таблица `fund` <br>\n",
    "Содержит информацию о фондах:\n",
    "- id — идентификатор фонда.\n",
    "- name — название фонда.\n",
    "- category_code — категория области деятельности компании.\n",
    "- founded_at — дата создания фонда.\n",
    "- domain — сайт фонда.\n",
    "- network_username — ник фонда в сети.\n",
    "- country_code — код страны фонда.\n",
    "- investment_rounds — число инвестиционных раундов.\n",
    "- invested_companies — число профинансированных компаний.\n",
    "- milestones — вехи финансирования.\n",
    "\n",
    "\n",
    "Таблица `investment` <br>\n",
    "Содержит информацию о раундах инвестирования:\n",
    "- id — идентификатор этапа инвестирования.\n",
    "- funding_round_id — идентификатор раунда инвестирования.\n",
    "- company_id — индентификатор компании.\n",
    "- funding_round_type — тип финансирования.\n",
    "- fund_id — идентификатор фонда."
   ]
  },
  {
   "cell_type": "markdown",
   "metadata": {},
   "source": [
    "## Cодержание\n",
    "[1. Знакомство с данными: загрузка и первичная предобработка](#1-bullet)\n",
    "- [1.1. Вывод общей информации, исправление названия столбцов](#1-bullet)\n",
    "- [1.2. Смена типов и анализ пропусков](#2-bullet)\n",
    "\n",
    "[2. Предварительное исследование](#3-bullet)\n",
    "- [2.1. Раунды финансирования по годам](#3-bullet)\n",
    "- [2.2. Люди и их образование](#4-bullet)\n",
    "- [2.3. Можно ли использовать столбцы с именем network_username для объединения данных](#5-bullet)\n",
    "- [2.4. Проблемный датасет и причина возникновения пропусков](#6-bullet)\n",
    "\n",
    "[3. Исследовательский анализ объединённых таблиц](#7-bullet)\n",
    "- [3.1. Объединение данных](#8-bullet)\n",
    "- [3.2. Анализ выбросов funding_total](#9-bullet)\n",
    "- [3.3. Исследовать компании, которые были проданы за ноль или за один доллар, и при этом известно, что у них был ненулевой общий объём финансирования.](#10-bullet)\n",
    "- [3.4. Цены стартапов по категориям](#11-bullet)\n",
    "- [3.5. Сколько раундов продержится стартап перед покупкой](#12-bullet)\n",
    "\n",
    "[4. Итоговый вывод и рекомендации](#13-bullet)\n"
   ]
  },
  {
   "cell_type": "markdown",
   "metadata": {
    "id": "xqr6uttCrJg0"
   },
   "source": [
    "<a class=\"anchor\" id=\"1-bullet\"></a>\n",
    "## Шаг 1. Знакомство с данными: загрузка и первичная предобработка\n",
    "\n",
    "\n",
    "### 1.1. Вывод общей информации, исправление названия столбцов\n",
    "* Загрузим все данные по проекту.\n",
    "\n",
    "* Проверим названия столбцов и есть ли в датасетах полные дубликаты строк.\n",
    "\n",
    "* Выведем информацию, которая необходима для принятия решений о предобработке, для каждого из датасетов."
   ]
  },
  {
   "cell_type": "code",
   "execution_count": 1,
   "metadata": {
    "colab": {
     "base_uri": "https://localhost:8080/"
    },
    "id": "W_W4jRazrJg0",
    "outputId": "d2409aad-233f-4bb4-ec71-7da96594f9df",
    "vscode": {
     "languageId": "plaintext"
    }
   },
   "outputs": [],
   "source": [
    "import pandas as pd\n",
    "import matplotlib.pyplot as plt\n",
    "import seaborn as sns "
   ]
  },
  {
   "cell_type": "code",
   "execution_count": 2,
   "metadata": {},
   "outputs": [],
   "source": [
    "acquisition=pd.read_csv('https://code.s3.yandex.net/datasets/acquisition.csv')\n",
    "company_and_rounds=pd.read_csv('https://code.s3.yandex.net/datasets/company_and_rounds.csv')\n",
    "degrees=pd.read_csv('https://code.s3.yandex.net/datasets/degrees.csv')\n",
    "education=pd.read_csv('https://code.s3.yandex.net/datasets/education.csv')\n",
    "fund=pd.read_csv('https://code.s3.yandex.net/datasets/fund.csv')\n",
    "investment=pd.read_csv('https://code.s3.yandex.net/datasets/investment.csv')\n",
    "people=pd.read_csv('https://code.s3.yandex.net/datasets/people.csv')"
   ]
  },
  {
   "cell_type": "code",
   "execution_count": 3,
   "metadata": {},
   "outputs": [],
   "source": [
    "pd.set_option('display.max_columns', 100) #Устанавливаем максимальное выведение столбцов до 100, чтобы при анализе могли видеть все столбцы"
   ]
  },
  {
   "cell_type": "code",
   "execution_count": 4,
   "metadata": {
    "id": "2Tm4Pk__Felf"
   },
   "outputs": [
    {
     "name": "stdout",
     "output_type": "stream",
     "text": [
      "<class 'pandas.core.frame.DataFrame'>\n",
      "RangeIndex: 9407 entries, 0 to 9406\n",
      "Data columns (total 6 columns):\n",
      " #   Column                Non-Null Count  Dtype \n",
      "---  ------                --------------  ----- \n",
      " 0   id                    9407 non-null   int64 \n",
      " 1   acquiring_company_id  9407 non-null   int64 \n",
      " 2   acquired_company_id   9407 non-null   int64 \n",
      " 3   term_code             1831 non-null   object\n",
      " 4   price_amount          9407 non-null   int64 \n",
      " 5   acquired_at           9378 non-null   object\n",
      "dtypes: int64(4), object(2)\n",
      "memory usage: 441.1+ KB\n"
     ]
    },
    {
     "data": {
      "text/html": [
       "<div>\n",
       "<style scoped>\n",
       "    .dataframe tbody tr th:only-of-type {\n",
       "        vertical-align: middle;\n",
       "    }\n",
       "\n",
       "    .dataframe tbody tr th {\n",
       "        vertical-align: top;\n",
       "    }\n",
       "\n",
       "    .dataframe thead th {\n",
       "        text-align: right;\n",
       "    }\n",
       "</style>\n",
       "<table border=\"1\" class=\"dataframe\">\n",
       "  <thead>\n",
       "    <tr style=\"text-align: right;\">\n",
       "      <th></th>\n",
       "      <th>id</th>\n",
       "      <th>acquiring_company_id</th>\n",
       "      <th>acquired_company_id</th>\n",
       "      <th>term_code</th>\n",
       "      <th>price_amount</th>\n",
       "      <th>acquired_at</th>\n",
       "    </tr>\n",
       "  </thead>\n",
       "  <tbody>\n",
       "    <tr>\n",
       "      <th>0</th>\n",
       "      <td>1</td>\n",
       "      <td>11</td>\n",
       "      <td>10</td>\n",
       "      <td>NaN</td>\n",
       "      <td>20000000</td>\n",
       "      <td>2007-05-30</td>\n",
       "    </tr>\n",
       "    <tr>\n",
       "      <th>1</th>\n",
       "      <td>7</td>\n",
       "      <td>59</td>\n",
       "      <td>72</td>\n",
       "      <td>cash</td>\n",
       "      <td>60000000</td>\n",
       "      <td>2007-07-01</td>\n",
       "    </tr>\n",
       "    <tr>\n",
       "      <th>2</th>\n",
       "      <td>8</td>\n",
       "      <td>24</td>\n",
       "      <td>132</td>\n",
       "      <td>cash</td>\n",
       "      <td>280000000</td>\n",
       "      <td>2007-05-01</td>\n",
       "    </tr>\n",
       "    <tr>\n",
       "      <th>3</th>\n",
       "      <td>9</td>\n",
       "      <td>59</td>\n",
       "      <td>155</td>\n",
       "      <td>cash</td>\n",
       "      <td>100000000</td>\n",
       "      <td>2007-06-01</td>\n",
       "    </tr>\n",
       "    <tr>\n",
       "      <th>4</th>\n",
       "      <td>10</td>\n",
       "      <td>212</td>\n",
       "      <td>215</td>\n",
       "      <td>cash</td>\n",
       "      <td>25000000</td>\n",
       "      <td>2007-07-01</td>\n",
       "    </tr>\n",
       "  </tbody>\n",
       "</table>\n",
       "</div>"
      ],
      "text/plain": [
       "   id  acquiring_company_id  acquired_company_id term_code  price_amount  \\\n",
       "0   1                    11                   10       NaN      20000000   \n",
       "1   7                    59                   72      cash      60000000   \n",
       "2   8                    24                  132      cash     280000000   \n",
       "3   9                    59                  155      cash     100000000   \n",
       "4  10                   212                  215      cash      25000000   \n",
       "\n",
       "  acquired_at  \n",
       "0  2007-05-30  \n",
       "1  2007-07-01  \n",
       "2  2007-05-01  \n",
       "3  2007-06-01  \n",
       "4  2007-07-01  "
      ]
     },
     "execution_count": 4,
     "metadata": {},
     "output_type": "execute_result"
    }
   ],
   "source": [
    "acquisition.info()\n",
    "acquisition.head()"
   ]
  },
  {
   "cell_type": "markdown",
   "metadata": {
    "id": "oNqJ2qpRFebv"
   },
   "source": [
    "В `acquisition` 9407 строк, есть пропуски. Столбец aquired_at необходимо привести в формату даты"
   ]
  },
  {
   "cell_type": "code",
   "execution_count": 5,
   "metadata": {},
   "outputs": [
    {
     "name": "stdout",
     "output_type": "stream",
     "text": [
      "<class 'pandas.core.frame.DataFrame'>\n",
      "RangeIndex: 217774 entries, 0 to 217773\n",
      "Data columns (total 22 columns):\n",
      " #   Column                 Non-Null Count   Dtype  \n",
      "---  ------                 --------------   -----  \n",
      " 0   company  ID            217472 non-null  float64\n",
      " 1   name                   217472 non-null  object \n",
      " 2   category  code         143886 non-null  object \n",
      " 3   status                 217472 non-null  object \n",
      " 4   founded  at            109956 non-null  object \n",
      " 5   closed  at             3449 non-null    object \n",
      " 6   domain                 147159 non-null  object \n",
      " 7   network  username      95534 non-null   object \n",
      " 8   country  code          108607 non-null  object \n",
      " 9   investment  rounds     217472 non-null  float64\n",
      " 10  funding  rounds        217472 non-null  float64\n",
      " 11  funding  total         217472 non-null  float64\n",
      " 12  milestones             217472 non-null  float64\n",
      " 13  funding  round  id     52928 non-null   float64\n",
      " 14  company  id            52928 non-null   float64\n",
      " 15  funded  at             52680 non-null   object \n",
      " 16  funding  round  type   52928 non-null   object \n",
      " 17  raised  amount         52928 non-null   float64\n",
      " 18  pre  money  valuation  52928 non-null   float64\n",
      " 19  participants           52928 non-null   float64\n",
      " 20  is  first  round       52928 non-null   float64\n",
      " 21  is  last  round        52928 non-null   float64\n",
      "dtypes: float64(12), object(10)\n",
      "memory usage: 36.6+ MB\n"
     ]
    },
    {
     "data": {
      "text/html": [
       "<div>\n",
       "<style scoped>\n",
       "    .dataframe tbody tr th:only-of-type {\n",
       "        vertical-align: middle;\n",
       "    }\n",
       "\n",
       "    .dataframe tbody tr th {\n",
       "        vertical-align: top;\n",
       "    }\n",
       "\n",
       "    .dataframe thead th {\n",
       "        text-align: right;\n",
       "    }\n",
       "</style>\n",
       "<table border=\"1\" class=\"dataframe\">\n",
       "  <thead>\n",
       "    <tr style=\"text-align: right;\">\n",
       "      <th></th>\n",
       "      <th>company  ID</th>\n",
       "      <th>name</th>\n",
       "      <th>category  code</th>\n",
       "      <th>status</th>\n",
       "      <th>founded  at</th>\n",
       "      <th>closed  at</th>\n",
       "      <th>domain</th>\n",
       "      <th>network  username</th>\n",
       "      <th>country  code</th>\n",
       "      <th>investment  rounds</th>\n",
       "      <th>funding  rounds</th>\n",
       "      <th>funding  total</th>\n",
       "      <th>milestones</th>\n",
       "      <th>funding  round  id</th>\n",
       "      <th>company  id</th>\n",
       "      <th>funded  at</th>\n",
       "      <th>funding  round  type</th>\n",
       "      <th>raised  amount</th>\n",
       "      <th>pre  money  valuation</th>\n",
       "      <th>participants</th>\n",
       "      <th>is  first  round</th>\n",
       "      <th>is  last  round</th>\n",
       "    </tr>\n",
       "  </thead>\n",
       "  <tbody>\n",
       "    <tr>\n",
       "      <th>0</th>\n",
       "      <td>1.0</td>\n",
       "      <td>Wetpaint</td>\n",
       "      <td>web</td>\n",
       "      <td>operating</td>\n",
       "      <td>2005-10-17</td>\n",
       "      <td>NaN</td>\n",
       "      <td>wetpaint-inc.com</td>\n",
       "      <td>BachelrWetpaint</td>\n",
       "      <td>USA</td>\n",
       "      <td>0.0</td>\n",
       "      <td>3.0</td>\n",
       "      <td>39750000.0</td>\n",
       "      <td>5.0</td>\n",
       "      <td>888.0</td>\n",
       "      <td>1.0</td>\n",
       "      <td>2005-10-01</td>\n",
       "      <td>series-a</td>\n",
       "      <td>5250000.0</td>\n",
       "      <td>0.0</td>\n",
       "      <td>2.0</td>\n",
       "      <td>0.0</td>\n",
       "      <td>1.0</td>\n",
       "    </tr>\n",
       "    <tr>\n",
       "      <th>1</th>\n",
       "      <td>1.0</td>\n",
       "      <td>Wetpaint</td>\n",
       "      <td>web</td>\n",
       "      <td>operating</td>\n",
       "      <td>2005-10-17</td>\n",
       "      <td>NaN</td>\n",
       "      <td>wetpaint-inc.com</td>\n",
       "      <td>BachelrWetpaint</td>\n",
       "      <td>USA</td>\n",
       "      <td>0.0</td>\n",
       "      <td>3.0</td>\n",
       "      <td>39750000.0</td>\n",
       "      <td>5.0</td>\n",
       "      <td>889.0</td>\n",
       "      <td>1.0</td>\n",
       "      <td>2007-01-01</td>\n",
       "      <td>series-b</td>\n",
       "      <td>9500000.0</td>\n",
       "      <td>0.0</td>\n",
       "      <td>3.0</td>\n",
       "      <td>0.0</td>\n",
       "      <td>0.0</td>\n",
       "    </tr>\n",
       "    <tr>\n",
       "      <th>2</th>\n",
       "      <td>1.0</td>\n",
       "      <td>Wetpaint</td>\n",
       "      <td>web</td>\n",
       "      <td>operating</td>\n",
       "      <td>2005-10-17</td>\n",
       "      <td>NaN</td>\n",
       "      <td>wetpaint-inc.com</td>\n",
       "      <td>BachelrWetpaint</td>\n",
       "      <td>USA</td>\n",
       "      <td>0.0</td>\n",
       "      <td>3.0</td>\n",
       "      <td>39750000.0</td>\n",
       "      <td>5.0</td>\n",
       "      <td>2312.0</td>\n",
       "      <td>1.0</td>\n",
       "      <td>2008-05-19</td>\n",
       "      <td>series-c+</td>\n",
       "      <td>25000000.0</td>\n",
       "      <td>0.0</td>\n",
       "      <td>4.0</td>\n",
       "      <td>1.0</td>\n",
       "      <td>0.0</td>\n",
       "    </tr>\n",
       "    <tr>\n",
       "      <th>3</th>\n",
       "      <td>10.0</td>\n",
       "      <td>Flektor</td>\n",
       "      <td>games_video</td>\n",
       "      <td>acquired</td>\n",
       "      <td>NaN</td>\n",
       "      <td>NaN</td>\n",
       "      <td>flektor.com</td>\n",
       "      <td>NaN</td>\n",
       "      <td>USA</td>\n",
       "      <td>0.0</td>\n",
       "      <td>0.0</td>\n",
       "      <td>0.0</td>\n",
       "      <td>0.0</td>\n",
       "      <td>NaN</td>\n",
       "      <td>NaN</td>\n",
       "      <td>NaN</td>\n",
       "      <td>NaN</td>\n",
       "      <td>NaN</td>\n",
       "      <td>NaN</td>\n",
       "      <td>NaN</td>\n",
       "      <td>NaN</td>\n",
       "      <td>NaN</td>\n",
       "    </tr>\n",
       "    <tr>\n",
       "      <th>4</th>\n",
       "      <td>100.0</td>\n",
       "      <td>There</td>\n",
       "      <td>games_video</td>\n",
       "      <td>acquired</td>\n",
       "      <td>NaN</td>\n",
       "      <td>NaN</td>\n",
       "      <td>there.com</td>\n",
       "      <td>NaN</td>\n",
       "      <td>USA</td>\n",
       "      <td>0.0</td>\n",
       "      <td>0.0</td>\n",
       "      <td>0.0</td>\n",
       "      <td>4.0</td>\n",
       "      <td>NaN</td>\n",
       "      <td>NaN</td>\n",
       "      <td>NaN</td>\n",
       "      <td>NaN</td>\n",
       "      <td>NaN</td>\n",
       "      <td>NaN</td>\n",
       "      <td>NaN</td>\n",
       "      <td>NaN</td>\n",
       "      <td>NaN</td>\n",
       "    </tr>\n",
       "  </tbody>\n",
       "</table>\n",
       "</div>"
      ],
      "text/plain": [
       "   company  ID      name category  code     status founded  at closed  at  \\\n",
       "0          1.0  Wetpaint            web  operating  2005-10-17        NaN   \n",
       "1          1.0  Wetpaint            web  operating  2005-10-17        NaN   \n",
       "2          1.0  Wetpaint            web  operating  2005-10-17        NaN   \n",
       "3         10.0   Flektor    games_video   acquired         NaN        NaN   \n",
       "4        100.0     There    games_video   acquired         NaN        NaN   \n",
       "\n",
       "             domain network  username country  code  investment  rounds  \\\n",
       "0  wetpaint-inc.com   BachelrWetpaint           USA                 0.0   \n",
       "1  wetpaint-inc.com   BachelrWetpaint           USA                 0.0   \n",
       "2  wetpaint-inc.com   BachelrWetpaint           USA                 0.0   \n",
       "3       flektor.com               NaN           USA                 0.0   \n",
       "4         there.com               NaN           USA                 0.0   \n",
       "\n",
       "   funding  rounds  funding  total  milestones  funding  round  id  \\\n",
       "0              3.0      39750000.0         5.0               888.0   \n",
       "1              3.0      39750000.0         5.0               889.0   \n",
       "2              3.0      39750000.0         5.0              2312.0   \n",
       "3              0.0             0.0         0.0                 NaN   \n",
       "4              0.0             0.0         4.0                 NaN   \n",
       "\n",
       "   company  id  funded  at funding  round  type  raised  amount  \\\n",
       "0          1.0  2005-10-01             series-a       5250000.0   \n",
       "1          1.0  2007-01-01             series-b       9500000.0   \n",
       "2          1.0  2008-05-19            series-c+      25000000.0   \n",
       "3          NaN         NaN                  NaN             NaN   \n",
       "4          NaN         NaN                  NaN             NaN   \n",
       "\n",
       "   pre  money  valuation  participants  is  first  round  is  last  round  \n",
       "0                    0.0           2.0               0.0              1.0  \n",
       "1                    0.0           3.0               0.0              0.0  \n",
       "2                    0.0           4.0               1.0              0.0  \n",
       "3                    NaN           NaN               NaN              NaN  \n",
       "4                    NaN           NaN               NaN              NaN  "
      ]
     },
     "execution_count": 5,
     "metadata": {},
     "output_type": "execute_result"
    }
   ],
   "source": [
    "company_and_rounds.info()\n",
    "company_and_rounds.head()"
   ]
  },
  {
   "cell_type": "markdown",
   "metadata": {},
   "source": [
    "В `company_and_rounds` 217774 строк, есть пропуски. \n",
    "- Необходимо привести названия столбцов в snake_case\n",
    "- столбцы founded at, сlosed at, funded at в форматы даты\t\n",
    "- столбцы investment  rounds, funding rounds, milestones,funding round id, company id, participants, в целочисленный формат int (после проверки уникальных)\n",
    "- проверить столбцы is first round, is last round (если единицы и нули, то можно преобразовать в булевый формат или целочисленный, чтобы удобно было анализировать в дальнейшем)\n",
    "\n",
    "Так же два столбца company ID и company id, данные в которых не совпадают"
   ]
  },
  {
   "cell_type": "code",
   "execution_count": 6,
   "metadata": {},
   "outputs": [
    {
     "name": "stdout",
     "output_type": "stream",
     "text": [
      "<class 'pandas.core.frame.DataFrame'>\n",
      "RangeIndex: 109610 entries, 0 to 109609\n",
      "Data columns (total 4 columns):\n",
      " #   Column       Non-Null Count   Dtype \n",
      "---  ------       --------------   ----- \n",
      " 0   id           109610 non-null  int64 \n",
      " 1   object_id    109610 non-null  object\n",
      " 2   degree_type  98392 non-null   object\n",
      " 3   subject      81298 non-null   object\n",
      "dtypes: int64(1), object(3)\n",
      "memory usage: 3.3+ MB\n"
     ]
    },
    {
     "data": {
      "text/html": [
       "<div>\n",
       "<style scoped>\n",
       "    .dataframe tbody tr th:only-of-type {\n",
       "        vertical-align: middle;\n",
       "    }\n",
       "\n",
       "    .dataframe tbody tr th {\n",
       "        vertical-align: top;\n",
       "    }\n",
       "\n",
       "    .dataframe thead th {\n",
       "        text-align: right;\n",
       "    }\n",
       "</style>\n",
       "<table border=\"1\" class=\"dataframe\">\n",
       "  <thead>\n",
       "    <tr style=\"text-align: right;\">\n",
       "      <th></th>\n",
       "      <th>id</th>\n",
       "      <th>object_id</th>\n",
       "      <th>degree_type</th>\n",
       "      <th>subject</th>\n",
       "    </tr>\n",
       "  </thead>\n",
       "  <tbody>\n",
       "    <tr>\n",
       "      <th>0</th>\n",
       "      <td>1</td>\n",
       "      <td>p:6117</td>\n",
       "      <td>MBA</td>\n",
       "      <td>NaN</td>\n",
       "    </tr>\n",
       "    <tr>\n",
       "      <th>1</th>\n",
       "      <td>2</td>\n",
       "      <td>p:6136</td>\n",
       "      <td>BA</td>\n",
       "      <td>English, French</td>\n",
       "    </tr>\n",
       "    <tr>\n",
       "      <th>2</th>\n",
       "      <td>3</td>\n",
       "      <td>p:6136</td>\n",
       "      <td>MS</td>\n",
       "      <td>Mass Communication</td>\n",
       "    </tr>\n",
       "    <tr>\n",
       "      <th>3</th>\n",
       "      <td>4</td>\n",
       "      <td>p:6005</td>\n",
       "      <td>MS</td>\n",
       "      <td>Internet Technology</td>\n",
       "    </tr>\n",
       "    <tr>\n",
       "      <th>4</th>\n",
       "      <td>5</td>\n",
       "      <td>p:5832</td>\n",
       "      <td>BCS</td>\n",
       "      <td>Computer Science, Psychology</td>\n",
       "    </tr>\n",
       "  </tbody>\n",
       "</table>\n",
       "</div>"
      ],
      "text/plain": [
       "   id object_id degree_type                       subject\n",
       "0   1    p:6117         MBA                           NaN\n",
       "1   2    p:6136          BA               English, French\n",
       "2   3    p:6136          MS            Mass Communication\n",
       "3   4    p:6005          MS           Internet Technology\n",
       "4   5    p:5832         BCS  Computer Science, Psychology"
      ]
     },
     "execution_count": 6,
     "metadata": {},
     "output_type": "execute_result"
    }
   ],
   "source": [
    "degrees.info()\n",
    "degrees.head()"
   ]
  },
  {
   "cell_type": "markdown",
   "metadata": {},
   "source": [
    "В `degrees` 109610 строк, есть пропуски, которые не важны для анализа. Формат данных корректный"
   ]
  },
  {
   "cell_type": "code",
   "execution_count": 7,
   "metadata": {},
   "outputs": [
    {
     "name": "stdout",
     "output_type": "stream",
     "text": [
      "<class 'pandas.core.frame.DataFrame'>\n",
      "RangeIndex: 109610 entries, 0 to 109609\n",
      "Data columns (total 4 columns):\n",
      " #   Column        Non-Null Count   Dtype \n",
      "---  ------        --------------   ----- \n",
      " 0   id            109610 non-null  int64 \n",
      " 1   person_id     109610 non-null  int64 \n",
      " 2   instituition  109555 non-null  object\n",
      " 3   graduated_at  58054 non-null   object\n",
      "dtypes: int64(2), object(2)\n",
      "memory usage: 3.3+ MB\n"
     ]
    },
    {
     "data": {
      "text/html": [
       "<div>\n",
       "<style scoped>\n",
       "    .dataframe tbody tr th:only-of-type {\n",
       "        vertical-align: middle;\n",
       "    }\n",
       "\n",
       "    .dataframe tbody tr th {\n",
       "        vertical-align: top;\n",
       "    }\n",
       "\n",
       "    .dataframe thead th {\n",
       "        text-align: right;\n",
       "    }\n",
       "</style>\n",
       "<table border=\"1\" class=\"dataframe\">\n",
       "  <thead>\n",
       "    <tr style=\"text-align: right;\">\n",
       "      <th></th>\n",
       "      <th>id</th>\n",
       "      <th>person_id</th>\n",
       "      <th>instituition</th>\n",
       "      <th>graduated_at</th>\n",
       "    </tr>\n",
       "  </thead>\n",
       "  <tbody>\n",
       "    <tr>\n",
       "      <th>0</th>\n",
       "      <td>1</td>\n",
       "      <td>6117</td>\n",
       "      <td>NaN</td>\n",
       "      <td>NaN</td>\n",
       "    </tr>\n",
       "    <tr>\n",
       "      <th>1</th>\n",
       "      <td>2</td>\n",
       "      <td>6136</td>\n",
       "      <td>Washington University, St. Louis</td>\n",
       "      <td>1990-01-01</td>\n",
       "    </tr>\n",
       "    <tr>\n",
       "      <th>2</th>\n",
       "      <td>3</td>\n",
       "      <td>6136</td>\n",
       "      <td>Boston University</td>\n",
       "      <td>1992-01-01</td>\n",
       "    </tr>\n",
       "    <tr>\n",
       "      <th>3</th>\n",
       "      <td>4</td>\n",
       "      <td>6005</td>\n",
       "      <td>University of Greenwich</td>\n",
       "      <td>2006-01-01</td>\n",
       "    </tr>\n",
       "    <tr>\n",
       "      <th>4</th>\n",
       "      <td>5</td>\n",
       "      <td>5832</td>\n",
       "      <td>Rice University</td>\n",
       "      <td>NaN</td>\n",
       "    </tr>\n",
       "  </tbody>\n",
       "</table>\n",
       "</div>"
      ],
      "text/plain": [
       "   id  person_id                      instituition graduated_at\n",
       "0   1       6117                               NaN          NaN\n",
       "1   2       6136  Washington University, St. Louis   1990-01-01\n",
       "2   3       6136                 Boston University   1992-01-01\n",
       "3   4       6005           University of Greenwich   2006-01-01\n",
       "4   5       5832                   Rice University          NaN"
      ]
     },
     "execution_count": 7,
     "metadata": {},
     "output_type": "execute_result"
    }
   ],
   "source": [
    "education.info()\n",
    "education.head()"
   ]
  },
  {
   "cell_type": "markdown",
   "metadata": {},
   "source": [
    "В `education` 109610 строк, есть пропуски в столбце graduated_at (вероятно,  из-за того, что люди продолжают обучение). \n",
    "- graduated_at преобразовать в формат даты "
   ]
  },
  {
   "cell_type": "code",
   "execution_count": 8,
   "metadata": {},
   "outputs": [
    {
     "name": "stdout",
     "output_type": "stream",
     "text": [
      "<class 'pandas.core.frame.DataFrame'>\n",
      "RangeIndex: 226709 entries, 0 to 226708\n",
      "Data columns (total 5 columns):\n",
      " #   Column            Non-Null Count   Dtype  \n",
      "---  ------            --------------   -----  \n",
      " 0   id                226709 non-null  int64  \n",
      " 1   first_name        226704 non-null  object \n",
      " 2   last_name         226708 non-null  object \n",
      " 3   company_id        34615 non-null   float64\n",
      " 4   network_username  38867 non-null   object \n",
      "dtypes: float64(1), int64(1), object(3)\n",
      "memory usage: 8.6+ MB\n"
     ]
    },
    {
     "data": {
      "text/html": [
       "<div>\n",
       "<style scoped>\n",
       "    .dataframe tbody tr th:only-of-type {\n",
       "        vertical-align: middle;\n",
       "    }\n",
       "\n",
       "    .dataframe tbody tr th {\n",
       "        vertical-align: top;\n",
       "    }\n",
       "\n",
       "    .dataframe thead th {\n",
       "        text-align: right;\n",
       "    }\n",
       "</style>\n",
       "<table border=\"1\" class=\"dataframe\">\n",
       "  <thead>\n",
       "    <tr style=\"text-align: right;\">\n",
       "      <th></th>\n",
       "      <th>id</th>\n",
       "      <th>first_name</th>\n",
       "      <th>last_name</th>\n",
       "      <th>company_id</th>\n",
       "      <th>network_username</th>\n",
       "    </tr>\n",
       "  </thead>\n",
       "  <tbody>\n",
       "    <tr>\n",
       "      <th>0</th>\n",
       "      <td>10</td>\n",
       "      <td>Mark</td>\n",
       "      <td>Zuckerberg</td>\n",
       "      <td>5.0</td>\n",
       "      <td>NaN</td>\n",
       "    </tr>\n",
       "    <tr>\n",
       "      <th>1</th>\n",
       "      <td>100</td>\n",
       "      <td>Peter</td>\n",
       "      <td>Lester</td>\n",
       "      <td>27.0</td>\n",
       "      <td>NaN</td>\n",
       "    </tr>\n",
       "    <tr>\n",
       "      <th>2</th>\n",
       "      <td>1000</td>\n",
       "      <td>Dr. Steven</td>\n",
       "      <td>E. Saunders</td>\n",
       "      <td>292.0</td>\n",
       "      <td>NaN</td>\n",
       "    </tr>\n",
       "    <tr>\n",
       "      <th>3</th>\n",
       "      <td>10000</td>\n",
       "      <td>Neil</td>\n",
       "      <td>Capel</td>\n",
       "      <td>2526.0</td>\n",
       "      <td>NaN</td>\n",
       "    </tr>\n",
       "    <tr>\n",
       "      <th>4</th>\n",
       "      <td>100000</td>\n",
       "      <td>Sue</td>\n",
       "      <td>Pilsch</td>\n",
       "      <td>NaN</td>\n",
       "      <td>NaN</td>\n",
       "    </tr>\n",
       "  </tbody>\n",
       "</table>\n",
       "</div>"
      ],
      "text/plain": [
       "       id  first_name    last_name  company_id network_username\n",
       "0      10        Mark   Zuckerberg         5.0              NaN\n",
       "1     100       Peter       Lester        27.0              NaN\n",
       "2    1000  Dr. Steven  E. Saunders       292.0              NaN\n",
       "3   10000        Neil        Capel      2526.0              NaN\n",
       "4  100000         Sue       Pilsch         NaN              NaN"
      ]
     },
     "execution_count": 8,
     "metadata": {},
     "output_type": "execute_result"
    }
   ],
   "source": [
    "people.info()\n",
    "people.head()"
   ]
  },
  {
   "cell_type": "markdown",
   "metadata": {},
   "source": [
    "В `people` 226709 строк, есть пропуски. \n",
    "- company_id преобразовать в int"
   ]
  },
  {
   "cell_type": "code",
   "execution_count": 9,
   "metadata": {},
   "outputs": [
    {
     "name": "stdout",
     "output_type": "stream",
     "text": [
      "<class 'pandas.core.frame.DataFrame'>\n",
      "RangeIndex: 11652 entries, 0 to 11651\n",
      "Data columns (total 9 columns):\n",
      " #   Column              Non-Null Count  Dtype \n",
      "---  ------              --------------  ----- \n",
      " 0   id                  11652 non-null  int64 \n",
      " 1   name                11650 non-null  object\n",
      " 2   founded_at          4605 non-null   object\n",
      " 3   domain              7362 non-null   object\n",
      " 4   network_username    2149 non-null   object\n",
      " 5   country_code        7053 non-null   object\n",
      " 6   investment_rounds   11652 non-null  int64 \n",
      " 7   invested_companies  11652 non-null  int64 \n",
      " 8   milestones          11652 non-null  int64 \n",
      "dtypes: int64(4), object(5)\n",
      "memory usage: 819.4+ KB\n"
     ]
    },
    {
     "data": {
      "text/html": [
       "<div>\n",
       "<style scoped>\n",
       "    .dataframe tbody tr th:only-of-type {\n",
       "        vertical-align: middle;\n",
       "    }\n",
       "\n",
       "    .dataframe tbody tr th {\n",
       "        vertical-align: top;\n",
       "    }\n",
       "\n",
       "    .dataframe thead th {\n",
       "        text-align: right;\n",
       "    }\n",
       "</style>\n",
       "<table border=\"1\" class=\"dataframe\">\n",
       "  <thead>\n",
       "    <tr style=\"text-align: right;\">\n",
       "      <th></th>\n",
       "      <th>id</th>\n",
       "      <th>name</th>\n",
       "      <th>founded_at</th>\n",
       "      <th>domain</th>\n",
       "      <th>network_username</th>\n",
       "      <th>country_code</th>\n",
       "      <th>investment_rounds</th>\n",
       "      <th>invested_companies</th>\n",
       "      <th>milestones</th>\n",
       "    </tr>\n",
       "  </thead>\n",
       "  <tbody>\n",
       "    <tr>\n",
       "      <th>0</th>\n",
       "      <td>13131</td>\n",
       "      <td>NaN</td>\n",
       "      <td>NaN</td>\n",
       "      <td>NaN</td>\n",
       "      <td>NaN</td>\n",
       "      <td>NaN</td>\n",
       "      <td>0</td>\n",
       "      <td>0</td>\n",
       "      <td>0</td>\n",
       "    </tr>\n",
       "    <tr>\n",
       "      <th>1</th>\n",
       "      <td>1</td>\n",
       "      <td>Greylock Partners</td>\n",
       "      <td>1965-01-01</td>\n",
       "      <td>greylock.com</td>\n",
       "      <td>greylockvc</td>\n",
       "      <td>USA</td>\n",
       "      <td>307</td>\n",
       "      <td>196</td>\n",
       "      <td>0</td>\n",
       "    </tr>\n",
       "    <tr>\n",
       "      <th>2</th>\n",
       "      <td>10</td>\n",
       "      <td>Mission Ventures</td>\n",
       "      <td>1996-01-01</td>\n",
       "      <td>missionventures.com</td>\n",
       "      <td>NaN</td>\n",
       "      <td>USA</td>\n",
       "      <td>58</td>\n",
       "      <td>33</td>\n",
       "      <td>0</td>\n",
       "    </tr>\n",
       "    <tr>\n",
       "      <th>3</th>\n",
       "      <td>100</td>\n",
       "      <td>Kapor Enterprises, Inc.</td>\n",
       "      <td>NaN</td>\n",
       "      <td>kei.com</td>\n",
       "      <td>NaN</td>\n",
       "      <td>USA</td>\n",
       "      <td>2</td>\n",
       "      <td>1</td>\n",
       "      <td>0</td>\n",
       "    </tr>\n",
       "    <tr>\n",
       "      <th>4</th>\n",
       "      <td>1000</td>\n",
       "      <td>Speed Ventures</td>\n",
       "      <td>NaN</td>\n",
       "      <td>NaN</td>\n",
       "      <td>NaN</td>\n",
       "      <td>NaN</td>\n",
       "      <td>0</td>\n",
       "      <td>0</td>\n",
       "      <td>1</td>\n",
       "    </tr>\n",
       "  </tbody>\n",
       "</table>\n",
       "</div>"
      ],
      "text/plain": [
       "      id                     name  founded_at               domain  \\\n",
       "0  13131                      NaN         NaN                  NaN   \n",
       "1      1        Greylock Partners  1965-01-01         greylock.com   \n",
       "2     10         Mission Ventures  1996-01-01  missionventures.com   \n",
       "3    100  Kapor Enterprises, Inc.         NaN              kei.com   \n",
       "4   1000           Speed Ventures         NaN                  NaN   \n",
       "\n",
       "  network_username country_code  investment_rounds  invested_companies  \\\n",
       "0              NaN          NaN                  0                   0   \n",
       "1       greylockvc          USA                307                 196   \n",
       "2              NaN          USA                 58                  33   \n",
       "3              NaN          USA                  2                   1   \n",
       "4              NaN          NaN                  0                   0   \n",
       "\n",
       "   milestones  \n",
       "0           0  \n",
       "1           0  \n",
       "2           0  \n",
       "3           0  \n",
       "4           1  "
      ]
     },
     "execution_count": 9,
     "metadata": {},
     "output_type": "execute_result"
    }
   ],
   "source": [
    "fund.info()\n",
    "fund.head()"
   ]
  },
  {
   "cell_type": "markdown",
   "metadata": {},
   "source": [
    "В `fund` 11652 строк, есть пропуски. \n",
    "- founded_at преобразовать в формат даты"
   ]
  },
  {
   "cell_type": "code",
   "execution_count": 10,
   "metadata": {},
   "outputs": [
    {
     "name": "stdout",
     "output_type": "stream",
     "text": [
      "<class 'pandas.core.frame.DataFrame'>\n",
      "RangeIndex: 61403 entries, 0 to 61402\n",
      "Data columns (total 4 columns):\n",
      " #   Column            Non-Null Count  Dtype\n",
      "---  ------            --------------  -----\n",
      " 0   id                61403 non-null  int64\n",
      " 1   funding_round_id  61403 non-null  int64\n",
      " 2   company_id        61403 non-null  int64\n",
      " 3   fund_id           61403 non-null  int64\n",
      "dtypes: int64(4)\n",
      "memory usage: 1.9 MB\n"
     ]
    },
    {
     "data": {
      "text/html": [
       "<div>\n",
       "<style scoped>\n",
       "    .dataframe tbody tr th:only-of-type {\n",
       "        vertical-align: middle;\n",
       "    }\n",
       "\n",
       "    .dataframe tbody tr th {\n",
       "        vertical-align: top;\n",
       "    }\n",
       "\n",
       "    .dataframe thead th {\n",
       "        text-align: right;\n",
       "    }\n",
       "</style>\n",
       "<table border=\"1\" class=\"dataframe\">\n",
       "  <thead>\n",
       "    <tr style=\"text-align: right;\">\n",
       "      <th></th>\n",
       "      <th>id</th>\n",
       "      <th>funding_round_id</th>\n",
       "      <th>company_id</th>\n",
       "      <th>fund_id</th>\n",
       "    </tr>\n",
       "  </thead>\n",
       "  <tbody>\n",
       "    <tr>\n",
       "      <th>0</th>\n",
       "      <td>1</td>\n",
       "      <td>1</td>\n",
       "      <td>4</td>\n",
       "      <td>1</td>\n",
       "    </tr>\n",
       "    <tr>\n",
       "      <th>1</th>\n",
       "      <td>2</td>\n",
       "      <td>1</td>\n",
       "      <td>4</td>\n",
       "      <td>2</td>\n",
       "    </tr>\n",
       "    <tr>\n",
       "      <th>2</th>\n",
       "      <td>3</td>\n",
       "      <td>3</td>\n",
       "      <td>5</td>\n",
       "      <td>4</td>\n",
       "    </tr>\n",
       "    <tr>\n",
       "      <th>3</th>\n",
       "      <td>4</td>\n",
       "      <td>4</td>\n",
       "      <td>5</td>\n",
       "      <td>1</td>\n",
       "    </tr>\n",
       "    <tr>\n",
       "      <th>4</th>\n",
       "      <td>5</td>\n",
       "      <td>4</td>\n",
       "      <td>5</td>\n",
       "      <td>5</td>\n",
       "    </tr>\n",
       "  </tbody>\n",
       "</table>\n",
       "</div>"
      ],
      "text/plain": [
       "   id  funding_round_id  company_id  fund_id\n",
       "0   1                 1           4        1\n",
       "1   2                 1           4        2\n",
       "2   3                 3           5        4\n",
       "3   4                 4           5        1\n",
       "4   5                 4           5        5"
      ]
     },
     "execution_count": 10,
     "metadata": {},
     "output_type": "execute_result"
    }
   ],
   "source": [
    "investment.info()\n",
    "investment.head()"
   ]
  },
  {
   "cell_type": "markdown",
   "metadata": {},
   "source": [
    "В `investment` 61403 строк, пропусков нет, данные корректны. \n"
   ]
  },
  {
   "cell_type": "code",
   "execution_count": 11,
   "metadata": {},
   "outputs": [
    {
     "name": "stdout",
     "output_type": "stream",
     "text": [
      "В Dataframe acquisition найдено 0 полных явных дубликатов.\n",
      "В Dataframe company_and_rounds найдено 0 полных явных дубликатов.\n",
      "В Dataframe degrees найдено 0 полных явных дубликатов.\n",
      "В Dataframe education найдено 0 полных явных дубликатов.\n",
      "В Dataframe fund найдено 0 полных явных дубликатов.\n",
      "В Dataframe investment найдено 0 полных явных дубликатов.\n",
      "В Dataframe people найдено 0 полных явных дубликатов.\n"
     ]
    }
   ],
   "source": [
    "dfs=[acquisition, company_and_rounds, degrees, education, fund, investment, people]\n",
    "df_names = ['acquisition', 'company_and_rounds', 'degrees', 'education', 'fund', 'investment', 'people']\n",
    "\n",
    "for i, df in enumerate(dfs):\n",
    "    duplicates_count= df.duplicated().sum()\n",
    "    print (f\"В Dataframe {df_names[i]} найдено {duplicates_count} полных явных дубликатов.\")"
   ]
  },
  {
   "cell_type": "code",
   "execution_count": 12,
   "metadata": {},
   "outputs": [
    {
     "data": {
      "text/plain": [
       "Index(['company_ID', 'name', 'category_code', 'status', 'founded_at',\n",
       "       'closed_at', 'domain', 'network_username', 'country_code',\n",
       "       'investment_rounds', 'funding_rounds', 'funding_total', 'milestones',\n",
       "       'funding_round_id', 'company_id', 'funded_at', 'funding_round_type',\n",
       "       'raised_amount', 'pre_money_valuation', 'participants',\n",
       "       'is_first_round', 'is_last_round'],\n",
       "      dtype='object')"
      ]
     },
     "execution_count": 12,
     "metadata": {},
     "output_type": "execute_result"
    }
   ],
   "source": [
    "#Приведем названия столбцов датафрейма company_and_rounds в snake_case, оставив company_ID (первый столбец), company_id (повторяющийся столбец)\n",
    "company_and_rounds.columns= company_and_rounds.columns.str.replace('  ', ' ').str.replace(' ', '_')\n",
    "company_and_rounds.columns"
   ]
  },
  {
   "cell_type": "code",
   "execution_count": 13,
   "metadata": {
    "scrolled": true
   },
   "outputs": [
    {
     "name": "stdout",
     "output_type": "stream",
     "text": [
      "В столбце investment_rounds уникальные значения [  0.   1.   3.  32.   2.   4.   9.  30.  17.   7.   6.   8.  18.   5.\n",
      "  25.  19.  49.  21.  16.  14.  37.  96.  22.  10.  12. 478.  15.  89.\n",
      "  11.  24. 297.  20.  29. 125.  33.  40.  38.  68.  13.  44.  58.  51.\n",
      "  nan]\n",
      "В столбце funding_rounds уникальные значения [ 3.  0.  1.  5.  2.  7.  4.  6.  8. 10.  9. 13. 11. 15. 14. 12. nan]\n",
      "В столбце milestones уникальные значения [ 5.  0.  4.  1.  3.  2.  6.  8.  7.  9. nan]\n",
      "В столбце funding_round_id уникальные значения [  888.   889.  2312. ... 56543. 56928. 57063.]\n",
      "В столбце participants уникальные значения [ 2.  3.  4. nan  1.  5.  0.  6.  7. 16.  9. 10. 12.  8. 13. 21. 11. 15.\n",
      " 20. 14. 28. 18. 23. 25. 17. 29. 22. 32. 19. 24. 26. 27. 36.]\n",
      "В столбце is_first_round уникальные значения [ 0.  1. nan]\n",
      "В столбце is_last_round уникальные значения [ 1.  0. nan]\n"
     ]
    }
   ],
   "source": [
    "for column in ['investment_rounds', 'funding_rounds', 'milestones', 'funding_round_id', 'participants', 'is_first_round', 'is_last_round']:\n",
    "    print(f\"В столбце {column} уникальные значения {company_and_rounds[column].unique()}\")"
   ]
  },
  {
   "cell_type": "markdown",
   "metadata": {},
   "source": [
    "Все данные целочисленные, но содержат пропуски, поэтому данные представлены в формате float. "
   ]
  },
  {
   "cell_type": "markdown",
   "metadata": {
    "id": "mg2gEwh0rJg0"
   },
   "source": [
    "<a class=\"anchor\" id=\"2-bullet\"></a>\n",
    "### 1.2. Смена типов и анализ пропусков\n"
   ]
  },
  {
   "cell_type": "markdown",
   "metadata": {},
   "source": [
    "Проверим пропуски в абсолютных и относительных количествах во всех датафреймах"
   ]
  },
  {
   "cell_type": "code",
   "execution_count": 14,
   "metadata": {},
   "outputs": [
    {
     "name": "stdout",
     "output_type": "stream",
     "text": [
      "В Dataframe acquisition абсолютных пропусков: id                         0\n",
      "acquiring_company_id       0\n",
      "acquired_company_id        0\n",
      "term_code               7576\n",
      "price_amount               0\n",
      "acquired_at               29\n",
      "dtype: int64 .\n",
      "В Dataframe acquisition относительных пропусков: id                       0.000000\n",
      "acquiring_company_id     0.000000\n",
      "acquired_company_id      0.000000\n",
      "term_code               80.535771\n",
      "price_amount             0.000000\n",
      "acquired_at              0.308281\n",
      "dtype: float64 .\n",
      "В Dataframe company_and_rounds абсолютных пропусков: company_ID                302\n",
      "name                      302\n",
      "category_code           73888\n",
      "status                    302\n",
      "founded_at             107818\n",
      "closed_at              214325\n",
      "domain                  70615\n",
      "network_username       122240\n",
      "country_code           109167\n",
      "investment_rounds         302\n",
      "funding_rounds            302\n",
      "funding_total             302\n",
      "milestones                302\n",
      "funding_round_id       164846\n",
      "company_id             164846\n",
      "funded_at              165094\n",
      "funding_round_type     164846\n",
      "raised_amount          164846\n",
      "pre_money_valuation    164846\n",
      "participants           164846\n",
      "is_first_round         164846\n",
      "is_last_round          164846\n",
      "dtype: int64 .\n",
      "В Dataframe company_and_rounds относительных пропусков: company_ID              0.138676\n",
      "name                    0.138676\n",
      "category_code          33.928752\n",
      "status                  0.138676\n",
      "founded_at             49.509124\n",
      "closed_at              98.416248\n",
      "domain                 32.425818\n",
      "network_username       56.131586\n",
      "country_code           50.128574\n",
      "investment_rounds       0.138676\n",
      "funding_rounds          0.138676\n",
      "funding_total           0.138676\n",
      "milestones              0.138676\n",
      "funding_round_id       75.695905\n",
      "company_id             75.695905\n",
      "funded_at              75.809784\n",
      "funding_round_type     75.695905\n",
      "raised_amount          75.695905\n",
      "pre_money_valuation    75.695905\n",
      "participants           75.695905\n",
      "is_first_round         75.695905\n",
      "is_last_round          75.695905\n",
      "dtype: float64 .\n",
      "В Dataframe degrees абсолютных пропусков: id                 0\n",
      "object_id          0\n",
      "degree_type    11218\n",
      "subject        28312\n",
      "dtype: int64 .\n",
      "В Dataframe degrees относительных пропусков: id              0.000000\n",
      "object_id       0.000000\n",
      "degree_type    10.234468\n",
      "subject        25.829760\n",
      "dtype: float64 .\n",
      "В Dataframe education абсолютных пропусков: id                  0\n",
      "person_id           0\n",
      "instituition       55\n",
      "graduated_at    51556\n",
      "dtype: int64 .\n",
      "В Dataframe education относительных пропусков: id               0.000000\n",
      "person_id        0.000000\n",
      "instituition     0.050178\n",
      "graduated_at    47.035854\n",
      "dtype: float64 .\n",
      "В Dataframe fund абсолютных пропусков: id                       0\n",
      "name                     2\n",
      "founded_at            7047\n",
      "domain                4290\n",
      "network_username      9503\n",
      "country_code          4599\n",
      "investment_rounds        0\n",
      "invested_companies       0\n",
      "milestones               0\n",
      "dtype: int64 .\n",
      "В Dataframe fund относительных пропусков: id                     0.000000\n",
      "name                   0.017164\n",
      "founded_at            60.478888\n",
      "domain                36.817714\n",
      "network_username      81.556814\n",
      "country_code          39.469619\n",
      "investment_rounds      0.000000\n",
      "invested_companies     0.000000\n",
      "milestones             0.000000\n",
      "dtype: float64 .\n",
      "В Dataframe investment абсолютных пропусков: id                  0\n",
      "funding_round_id    0\n",
      "company_id          0\n",
      "fund_id             0\n",
      "dtype: int64 .\n",
      "В Dataframe investment относительных пропусков: id                  0.0\n",
      "funding_round_id    0.0\n",
      "company_id          0.0\n",
      "fund_id             0.0\n",
      "dtype: float64 .\n",
      "В Dataframe people абсолютных пропусков: id                       0\n",
      "first_name               5\n",
      "last_name                1\n",
      "company_id          192094\n",
      "network_username    187842\n",
      "dtype: int64 .\n",
      "В Dataframe people относительных пропусков: id                   0.000000\n",
      "first_name           0.002205\n",
      "last_name            0.000441\n",
      "company_id          84.731528\n",
      "network_username    82.855996\n",
      "dtype: float64 .\n"
     ]
    }
   ],
   "source": [
    "for i, df in enumerate(dfs):\n",
    "    null_count_abs= df.isna().sum()\n",
    "    share_null= df.isna().sum()/ len(df)*100\n",
    "    print (f\"В Dataframe {df_names[i]} абсолютных пропусков: {null_count_abs} .\")\n",
    "    print (f\"В Dataframe {df_names[i]} относительных пропусков: {share_null} .\")"
   ]
  },
  {
   "cell_type": "markdown",
   "metadata": {},
   "source": [
    "В `company_and_rounds`:\n",
    "- по 302 пропуска в company_ID, name, status, investment_rounds, funding_rounds, funding_total, milestones, что составляет 0,14% от всей таблицы, эти данные важны для анализа, поэтому оставим без изменения\n",
    "- и по 164846 пропусков со столбцов funding_round_id до is_last_round.\n",
    "Вероятно, этот датафрейм представляет собой объединенные таблицы. "
   ]
  },
  {
   "cell_type": "code",
   "execution_count": 15,
   "metadata": {},
   "outputs": [
    {
     "data": {
      "text/html": [
       "<div>\n",
       "<style scoped>\n",
       "    .dataframe tbody tr th:only-of-type {\n",
       "        vertical-align: middle;\n",
       "    }\n",
       "\n",
       "    .dataframe tbody tr th {\n",
       "        vertical-align: top;\n",
       "    }\n",
       "\n",
       "    .dataframe thead th {\n",
       "        text-align: right;\n",
       "    }\n",
       "</style>\n",
       "<table border=\"1\" class=\"dataframe\">\n",
       "  <thead>\n",
       "    <tr style=\"text-align: right;\">\n",
       "      <th></th>\n",
       "      <th>company_ID</th>\n",
       "      <th>name</th>\n",
       "      <th>category_code</th>\n",
       "      <th>status</th>\n",
       "      <th>founded_at</th>\n",
       "      <th>closed_at</th>\n",
       "      <th>domain</th>\n",
       "      <th>network_username</th>\n",
       "      <th>country_code</th>\n",
       "      <th>investment_rounds</th>\n",
       "      <th>funding_rounds</th>\n",
       "      <th>funding_total</th>\n",
       "      <th>milestones</th>\n",
       "      <th>funding_round_id</th>\n",
       "      <th>company_id</th>\n",
       "      <th>funded_at</th>\n",
       "      <th>funding_round_type</th>\n",
       "      <th>raised_amount</th>\n",
       "      <th>pre_money_valuation</th>\n",
       "      <th>participants</th>\n",
       "      <th>is_first_round</th>\n",
       "      <th>is_last_round</th>\n",
       "    </tr>\n",
       "  </thead>\n",
       "  <tbody>\n",
       "    <tr>\n",
       "      <th>217472</th>\n",
       "      <td>NaN</td>\n",
       "      <td>NaN</td>\n",
       "      <td>NaN</td>\n",
       "      <td>NaN</td>\n",
       "      <td>NaN</td>\n",
       "      <td>NaN</td>\n",
       "      <td>NaN</td>\n",
       "      <td>NaN</td>\n",
       "      <td>NaN</td>\n",
       "      <td>NaN</td>\n",
       "      <td>NaN</td>\n",
       "      <td>NaN</td>\n",
       "      <td>NaN</td>\n",
       "      <td>457.0</td>\n",
       "      <td>1267.0</td>\n",
       "      <td>2005-01-01</td>\n",
       "      <td>series-a</td>\n",
       "      <td>48000000.0</td>\n",
       "      <td>0.0</td>\n",
       "      <td>2.0</td>\n",
       "      <td>1.0</td>\n",
       "      <td>1.0</td>\n",
       "    </tr>\n",
       "    <tr>\n",
       "      <th>217473</th>\n",
       "      <td>NaN</td>\n",
       "      <td>NaN</td>\n",
       "      <td>NaN</td>\n",
       "      <td>NaN</td>\n",
       "      <td>NaN</td>\n",
       "      <td>NaN</td>\n",
       "      <td>NaN</td>\n",
       "      <td>NaN</td>\n",
       "      <td>NaN</td>\n",
       "      <td>NaN</td>\n",
       "      <td>NaN</td>\n",
       "      <td>NaN</td>\n",
       "      <td>NaN</td>\n",
       "      <td>471.0</td>\n",
       "      <td>558.0</td>\n",
       "      <td>2007-01-01</td>\n",
       "      <td>angel</td>\n",
       "      <td>300000.0</td>\n",
       "      <td>0.0</td>\n",
       "      <td>1.0</td>\n",
       "      <td>1.0</td>\n",
       "      <td>1.0</td>\n",
       "    </tr>\n",
       "    <tr>\n",
       "      <th>217474</th>\n",
       "      <td>NaN</td>\n",
       "      <td>NaN</td>\n",
       "      <td>NaN</td>\n",
       "      <td>NaN</td>\n",
       "      <td>NaN</td>\n",
       "      <td>NaN</td>\n",
       "      <td>NaN</td>\n",
       "      <td>NaN</td>\n",
       "      <td>NaN</td>\n",
       "      <td>NaN</td>\n",
       "      <td>NaN</td>\n",
       "      <td>NaN</td>\n",
       "      <td>NaN</td>\n",
       "      <td>575.0</td>\n",
       "      <td>746.0</td>\n",
       "      <td>2004-09-01</td>\n",
       "      <td>angel</td>\n",
       "      <td>0.0</td>\n",
       "      <td>0.0</td>\n",
       "      <td>0.0</td>\n",
       "      <td>1.0</td>\n",
       "      <td>1.0</td>\n",
       "    </tr>\n",
       "    <tr>\n",
       "      <th>217475</th>\n",
       "      <td>NaN</td>\n",
       "      <td>NaN</td>\n",
       "      <td>NaN</td>\n",
       "      <td>NaN</td>\n",
       "      <td>NaN</td>\n",
       "      <td>NaN</td>\n",
       "      <td>NaN</td>\n",
       "      <td>NaN</td>\n",
       "      <td>NaN</td>\n",
       "      <td>NaN</td>\n",
       "      <td>NaN</td>\n",
       "      <td>NaN</td>\n",
       "      <td>NaN</td>\n",
       "      <td>577.0</td>\n",
       "      <td>748.0</td>\n",
       "      <td>2007-01-01</td>\n",
       "      <td>series-a</td>\n",
       "      <td>1500000.0</td>\n",
       "      <td>2250000.0</td>\n",
       "      <td>0.0</td>\n",
       "      <td>1.0</td>\n",
       "      <td>1.0</td>\n",
       "    </tr>\n",
       "    <tr>\n",
       "      <th>217476</th>\n",
       "      <td>NaN</td>\n",
       "      <td>NaN</td>\n",
       "      <td>NaN</td>\n",
       "      <td>NaN</td>\n",
       "      <td>NaN</td>\n",
       "      <td>NaN</td>\n",
       "      <td>NaN</td>\n",
       "      <td>NaN</td>\n",
       "      <td>NaN</td>\n",
       "      <td>NaN</td>\n",
       "      <td>NaN</td>\n",
       "      <td>NaN</td>\n",
       "      <td>NaN</td>\n",
       "      <td>597.0</td>\n",
       "      <td>804.0</td>\n",
       "      <td>2007-06-01</td>\n",
       "      <td>series-a</td>\n",
       "      <td>6000000.0</td>\n",
       "      <td>0.0</td>\n",
       "      <td>2.0</td>\n",
       "      <td>1.0</td>\n",
       "      <td>1.0</td>\n",
       "    </tr>\n",
       "    <tr>\n",
       "      <th>...</th>\n",
       "      <td>...</td>\n",
       "      <td>...</td>\n",
       "      <td>...</td>\n",
       "      <td>...</td>\n",
       "      <td>...</td>\n",
       "      <td>...</td>\n",
       "      <td>...</td>\n",
       "      <td>...</td>\n",
       "      <td>...</td>\n",
       "      <td>...</td>\n",
       "      <td>...</td>\n",
       "      <td>...</td>\n",
       "      <td>...</td>\n",
       "      <td>...</td>\n",
       "      <td>...</td>\n",
       "      <td>...</td>\n",
       "      <td>...</td>\n",
       "      <td>...</td>\n",
       "      <td>...</td>\n",
       "      <td>...</td>\n",
       "      <td>...</td>\n",
       "      <td>...</td>\n",
       "    </tr>\n",
       "    <tr>\n",
       "      <th>217769</th>\n",
       "      <td>NaN</td>\n",
       "      <td>NaN</td>\n",
       "      <td>NaN</td>\n",
       "      <td>NaN</td>\n",
       "      <td>NaN</td>\n",
       "      <td>NaN</td>\n",
       "      <td>NaN</td>\n",
       "      <td>NaN</td>\n",
       "      <td>NaN</td>\n",
       "      <td>NaN</td>\n",
       "      <td>NaN</td>\n",
       "      <td>NaN</td>\n",
       "      <td>NaN</td>\n",
       "      <td>56454.0</td>\n",
       "      <td>282847.0</td>\n",
       "      <td>2011-01-31</td>\n",
       "      <td>other</td>\n",
       "      <td>5500000.0</td>\n",
       "      <td>0.0</td>\n",
       "      <td>0.0</td>\n",
       "      <td>1.0</td>\n",
       "      <td>1.0</td>\n",
       "    </tr>\n",
       "    <tr>\n",
       "      <th>217770</th>\n",
       "      <td>NaN</td>\n",
       "      <td>NaN</td>\n",
       "      <td>NaN</td>\n",
       "      <td>NaN</td>\n",
       "      <td>NaN</td>\n",
       "      <td>NaN</td>\n",
       "      <td>NaN</td>\n",
       "      <td>NaN</td>\n",
       "      <td>NaN</td>\n",
       "      <td>NaN</td>\n",
       "      <td>NaN</td>\n",
       "      <td>NaN</td>\n",
       "      <td>NaN</td>\n",
       "      <td>56542.0</td>\n",
       "      <td>55477.0</td>\n",
       "      <td>2011-01-13</td>\n",
       "      <td>venture</td>\n",
       "      <td>10633300.0</td>\n",
       "      <td>0.0</td>\n",
       "      <td>0.0</td>\n",
       "      <td>0.0</td>\n",
       "      <td>1.0</td>\n",
       "    </tr>\n",
       "    <tr>\n",
       "      <th>217771</th>\n",
       "      <td>NaN</td>\n",
       "      <td>NaN</td>\n",
       "      <td>NaN</td>\n",
       "      <td>NaN</td>\n",
       "      <td>NaN</td>\n",
       "      <td>NaN</td>\n",
       "      <td>NaN</td>\n",
       "      <td>NaN</td>\n",
       "      <td>NaN</td>\n",
       "      <td>NaN</td>\n",
       "      <td>NaN</td>\n",
       "      <td>NaN</td>\n",
       "      <td>NaN</td>\n",
       "      <td>56543.0</td>\n",
       "      <td>55477.0</td>\n",
       "      <td>2012-05-31</td>\n",
       "      <td>venture</td>\n",
       "      <td>2125720.0</td>\n",
       "      <td>0.0</td>\n",
       "      <td>0.0</td>\n",
       "      <td>1.0</td>\n",
       "      <td>0.0</td>\n",
       "    </tr>\n",
       "    <tr>\n",
       "      <th>217772</th>\n",
       "      <td>NaN</td>\n",
       "      <td>NaN</td>\n",
       "      <td>NaN</td>\n",
       "      <td>NaN</td>\n",
       "      <td>NaN</td>\n",
       "      <td>NaN</td>\n",
       "      <td>NaN</td>\n",
       "      <td>NaN</td>\n",
       "      <td>NaN</td>\n",
       "      <td>NaN</td>\n",
       "      <td>NaN</td>\n",
       "      <td>NaN</td>\n",
       "      <td>NaN</td>\n",
       "      <td>56928.0</td>\n",
       "      <td>283492.0</td>\n",
       "      <td>2013-12-03</td>\n",
       "      <td>venture</td>\n",
       "      <td>3602480.0</td>\n",
       "      <td>0.0</td>\n",
       "      <td>5.0</td>\n",
       "      <td>1.0</td>\n",
       "      <td>1.0</td>\n",
       "    </tr>\n",
       "    <tr>\n",
       "      <th>217773</th>\n",
       "      <td>NaN</td>\n",
       "      <td>NaN</td>\n",
       "      <td>NaN</td>\n",
       "      <td>NaN</td>\n",
       "      <td>NaN</td>\n",
       "      <td>NaN</td>\n",
       "      <td>NaN</td>\n",
       "      <td>NaN</td>\n",
       "      <td>NaN</td>\n",
       "      <td>NaN</td>\n",
       "      <td>NaN</td>\n",
       "      <td>NaN</td>\n",
       "      <td>NaN</td>\n",
       "      <td>57063.0</td>\n",
       "      <td>284191.0</td>\n",
       "      <td>2013-12-04</td>\n",
       "      <td>venture</td>\n",
       "      <td>7000000.0</td>\n",
       "      <td>0.0</td>\n",
       "      <td>4.0</td>\n",
       "      <td>1.0</td>\n",
       "      <td>1.0</td>\n",
       "    </tr>\n",
       "  </tbody>\n",
       "</table>\n",
       "<p>302 rows × 22 columns</p>\n",
       "</div>"
      ],
      "text/plain": [
       "        company_ID name category_code status founded_at closed_at domain  \\\n",
       "217472         NaN  NaN           NaN    NaN        NaN       NaN    NaN   \n",
       "217473         NaN  NaN           NaN    NaN        NaN       NaN    NaN   \n",
       "217474         NaN  NaN           NaN    NaN        NaN       NaN    NaN   \n",
       "217475         NaN  NaN           NaN    NaN        NaN       NaN    NaN   \n",
       "217476         NaN  NaN           NaN    NaN        NaN       NaN    NaN   \n",
       "...            ...  ...           ...    ...        ...       ...    ...   \n",
       "217769         NaN  NaN           NaN    NaN        NaN       NaN    NaN   \n",
       "217770         NaN  NaN           NaN    NaN        NaN       NaN    NaN   \n",
       "217771         NaN  NaN           NaN    NaN        NaN       NaN    NaN   \n",
       "217772         NaN  NaN           NaN    NaN        NaN       NaN    NaN   \n",
       "217773         NaN  NaN           NaN    NaN        NaN       NaN    NaN   \n",
       "\n",
       "       network_username country_code  investment_rounds  funding_rounds  \\\n",
       "217472              NaN          NaN                NaN             NaN   \n",
       "217473              NaN          NaN                NaN             NaN   \n",
       "217474              NaN          NaN                NaN             NaN   \n",
       "217475              NaN          NaN                NaN             NaN   \n",
       "217476              NaN          NaN                NaN             NaN   \n",
       "...                 ...          ...                ...             ...   \n",
       "217769              NaN          NaN                NaN             NaN   \n",
       "217770              NaN          NaN                NaN             NaN   \n",
       "217771              NaN          NaN                NaN             NaN   \n",
       "217772              NaN          NaN                NaN             NaN   \n",
       "217773              NaN          NaN                NaN             NaN   \n",
       "\n",
       "        funding_total  milestones  funding_round_id  company_id   funded_at  \\\n",
       "217472            NaN         NaN             457.0      1267.0  2005-01-01   \n",
       "217473            NaN         NaN             471.0       558.0  2007-01-01   \n",
       "217474            NaN         NaN             575.0       746.0  2004-09-01   \n",
       "217475            NaN         NaN             577.0       748.0  2007-01-01   \n",
       "217476            NaN         NaN             597.0       804.0  2007-06-01   \n",
       "...               ...         ...               ...         ...         ...   \n",
       "217769            NaN         NaN           56454.0    282847.0  2011-01-31   \n",
       "217770            NaN         NaN           56542.0     55477.0  2011-01-13   \n",
       "217771            NaN         NaN           56543.0     55477.0  2012-05-31   \n",
       "217772            NaN         NaN           56928.0    283492.0  2013-12-03   \n",
       "217773            NaN         NaN           57063.0    284191.0  2013-12-04   \n",
       "\n",
       "       funding_round_type  raised_amount  pre_money_valuation  participants  \\\n",
       "217472           series-a     48000000.0                  0.0           2.0   \n",
       "217473              angel       300000.0                  0.0           1.0   \n",
       "217474              angel            0.0                  0.0           0.0   \n",
       "217475           series-a      1500000.0            2250000.0           0.0   \n",
       "217476           series-a      6000000.0                  0.0           2.0   \n",
       "...                   ...            ...                  ...           ...   \n",
       "217769              other      5500000.0                  0.0           0.0   \n",
       "217770            venture     10633300.0                  0.0           0.0   \n",
       "217771            venture      2125720.0                  0.0           0.0   \n",
       "217772            venture      3602480.0                  0.0           5.0   \n",
       "217773            venture      7000000.0                  0.0           4.0   \n",
       "\n",
       "        is_first_round  is_last_round  \n",
       "217472             1.0            1.0  \n",
       "217473             1.0            1.0  \n",
       "217474             1.0            1.0  \n",
       "217475             1.0            1.0  \n",
       "217476             1.0            1.0  \n",
       "...                ...            ...  \n",
       "217769             1.0            1.0  \n",
       "217770             0.0            1.0  \n",
       "217771             1.0            0.0  \n",
       "217772             1.0            1.0  \n",
       "217773             1.0            1.0  \n",
       "\n",
       "[302 rows x 22 columns]"
      ]
     },
     "execution_count": 15,
     "metadata": {},
     "output_type": "execute_result"
    }
   ],
   "source": [
    "filt_company_and_rounds = company_and_rounds.loc[pd.isna(company_and_rounds['name'])]\n",
    "filt_company_and_rounds"
   ]
  },
  {
   "cell_type": "markdown",
   "metadata": {},
   "source": [
    "- В dataframe `degrees` пропуски degree_type    11218 (10%), subject 28312 (25%), не нужны для исследования, их оставим без изменения.\n",
    "- В dataframe `education` абсолютных пропусков instituition 55, graduated_at 51556. instituition не нужен для анализа, graduated_at вероятно из-за того, что люди продолжали учиться на момент сбора данных, либо были отчислены и не закончили обучение.\n",
    "- В dataframe `fund` относительных пропусков: name 0.017164, founded_at  60%, domain 36%, network_username 81%, country_code 39%, много пропусков, но при этом эти столбцы не нужны для анализа, оставим без изменения. \n",
    "- В dataframe `people` относительных пропусков: first_name 0.002205%, last_name 0.000441%, company_id 84%, network_username 82%, пропуски в незначимых столбцах, оставим без изменения. "
   ]
  },
  {
   "cell_type": "code",
   "execution_count": 16,
   "metadata": {},
   "outputs": [
    {
     "name": "stdout",
     "output_type": "stream",
     "text": [
      "<class 'pandas.core.frame.DataFrame'>\n",
      "RangeIndex: 217774 entries, 0 to 217773\n",
      "Data columns (total 22 columns):\n",
      " #   Column               Non-Null Count   Dtype         \n",
      "---  ------               --------------   -----         \n",
      " 0   company_ID           217472 non-null  float64       \n",
      " 1   name                 217472 non-null  object        \n",
      " 2   category_code        143886 non-null  object        \n",
      " 3   status               217472 non-null  object        \n",
      " 4   founded_at           109956 non-null  datetime64[ns]\n",
      " 5   closed_at            3449 non-null    datetime64[ns]\n",
      " 6   domain               147159 non-null  object        \n",
      " 7   network_username     95534 non-null   object        \n",
      " 8   country_code         108607 non-null  object        \n",
      " 9   investment_rounds    217472 non-null  float64       \n",
      " 10  funding_rounds       217472 non-null  float64       \n",
      " 11  funding_total        217472 non-null  float64       \n",
      " 12  milestones           217472 non-null  float64       \n",
      " 13  funding_round_id     52928 non-null   float64       \n",
      " 14  company_id           52928 non-null   float64       \n",
      " 15  funded_at            52680 non-null   datetime64[ns]\n",
      " 16  funding_round_type   52928 non-null   object        \n",
      " 17  raised_amount        52928 non-null   float64       \n",
      " 18  pre_money_valuation  52928 non-null   float64       \n",
      " 19  participants         52928 non-null   float64       \n",
      " 20  is_first_round       52928 non-null   float64       \n",
      " 21  is_last_round        52928 non-null   float64       \n",
      "dtypes: datetime64[ns](3), float64(12), object(7)\n",
      "memory usage: 36.6+ MB\n"
     ]
    }
   ],
   "source": [
    "# Преобразуем данные в  столбцах с датами в формат datetime64 \n",
    "acquisition['acquired_at']=pd.to_datetime(acquisition['acquired_at'])\n",
    "for column in ['founded_at', 'closed_at', 'funded_at']:\n",
    "    company_and_rounds[column]= pd.to_datetime(company_and_rounds[column])\n",
    "education['graduated_at']= pd.to_datetime(education['graduated_at'])\n",
    "fund['founded_at']= pd.to_datetime(fund['founded_at'])\n",
    "\n",
    "# Проверим преобразование на company_and_rounds\n",
    "company_and_rounds.info()"
   ]
  },
  {
   "cell_type": "markdown",
   "metadata": {},
   "source": [
    "В данных много пропусков, но, в основном, в тех столбцах, которые не важны для анализа.\n",
    "\n",
    "Исключение датафрейм `company_and_rounds`, который получился путем объединения двух таблиц, следовательно в нем много строк с пропусками.  "
   ]
  },
  {
   "cell_type": "markdown",
   "metadata": {
    "id": "u60cHsn6rJg1"
   },
   "source": [
    "<a class=\"anchor\" id=\"3-bullet\"></a>\n",
    "## Шаг 2. Предобработка данных, предварительное исследование"
   ]
  },
  {
   "cell_type": "markdown",
   "metadata": {
    "id": "g2bHIIjcrJg1"
   },
   "source": [
    "\n",
    "### 2.1. Раунды финансирования по годам\n"
   ]
  },
  {
   "cell_type": "code",
   "execution_count": 17,
   "metadata": {
    "id": "Cf5IjfOQrJg1",
    "vscode": {
     "languageId": "plaintext"
    }
   },
   "outputs": [
    {
     "name": "stdout",
     "output_type": "stream",
     "text": [
      "    funded_at_year  count     median\n",
      "0           1999.0     76  2000000.0\n",
      "1           2000.0    125  4200000.0\n",
      "2           2001.0     96  3000000.0\n",
      "3           2002.0    116  4200000.0\n",
      "4           2003.0    159  3000000.0\n",
      "5           2004.0    291  5000000.0\n",
      "6           2005.0   1633  5500000.0\n",
      "7           2006.0   2436  5000000.0\n",
      "8           2007.0   3279  3973320.0\n",
      "9           2008.0   3774  3110000.0\n",
      "10          2009.0   4151  2000000.0\n",
      "11          2010.0   6221  1602500.0\n",
      "12          2011.0   9204  1200000.0\n",
      "13          2012.0   9970  1000000.0\n",
      "14          2013.0  11072  1200000.0\n"
     ]
    }
   ],
   "source": [
    "#Составляем сводную таблицу по годам \n",
    "import numpy as np\n",
    "company_and_rounds['funded_at_year']= company_and_rounds['funded_at'].dt.year\n",
    "pivot=pd.pivot_table(\n",
    "    company_and_rounds,\n",
    "    index= 'funded_at_year',\n",
    "    values='raised_amount',\n",
    "    aggfunc={'raised_amount': [np.median, 'count']}\n",
    ")\n",
    "\n",
    "#Фильтруем таблицу, чтобы отразить только те годы, где есть информация о более чем 50 раундах финансирования\n",
    "filtered_pivot = pivot[pivot['count'] > 50]\n",
    "filtered_pivot=filtered_pivot.reset_index()\n",
    "print(filtered_pivot)"
   ]
  },
  {
   "cell_type": "code",
   "execution_count": 18,
   "metadata": {
    "id": "8Fbz6KmzFdYP"
   },
   "outputs": [
    {
     "data": {
      "text/plain": [
       "<Axes: title={'center': 'Динамика типичного размера средств, которые стартапы получали в рамках одного раунда финансирования'}, xlabel='Год', ylabel='Объем средств в млн'>"
      ]
     },
     "execution_count": 18,
     "metadata": {},
     "output_type": "execute_result"
    },
    {
     "data": {
      "image/png": "[encoded data removed]",
      "text/plain": [
       "<Figure size 700x500 with 1 Axes>"
      ]
     },
     "metadata": {},
     "output_type": "display_data"
    }
   ],
   "source": [
    "#Строим график\n",
    "\n",
    "filtered_pivot.plot.line(\n",
    "    x='funded_at_year',\n",
    "    y='median',\n",
    "    title='Динамика типичного размера средств, которые стартапы получали в рамках одного раунда финансирования',\n",
    "    xlabel='Год',\n",
    "    ylabel='Объем средств в млн',\n",
    "    figsize=(7,5)\n",
    ")"
   ]
  },
  {
   "cell_type": "code",
   "execution_count": 19,
   "metadata": {
    "id": "Z92DzKMMFdKW"
   },
   "outputs": [
    {
     "data": {
      "text/plain": [
       "<Axes: title={'center': 'Тенденция количества раундов финансирования за год'}, xlabel='Год', ylabel='Кол-во раундов финансирования'>"
      ]
     },
     "execution_count": 19,
     "metadata": {},
     "output_type": "execute_result"
    },
    {
     "data": {
      "image/png": "[encoded data removed]",
      "text/plain": [
       "<Figure size 700x500 with 1 Axes>"
      ]
     },
     "metadata": {},
     "output_type": "display_data"
    }
   ],
   "source": [
    "#Строим график\n",
    "\n",
    "filtered_pivot.plot.line(\n",
    "    x='funded_at_year',\n",
    "    y='count',\n",
    "    title='Тенденция количества раундов финансирования за год',\n",
    "    xlabel='Год',\n",
    "    ylabel='Кол-во раундов финансирования',\n",
    "    figsize=(7,5)\n",
    ")"
   ]
  },
  {
   "cell_type": "markdown",
   "metadata": {},
   "source": [
    "В 2005 году типичный размер собранных в рамках одного раунда средств был максимальным - 5500000.0.\n",
    "Количество раундов финансирования к 2013 году растет, а типичный размер средств в рамках 1 этапа финансирования снижается. "
   ]
  },
  {
   "cell_type": "markdown",
   "metadata": {
    "id": "45if1en1rJg2"
   },
   "source": [
    "<a class=\"anchor\" id=\"4-bullet\"></a>\n",
    "### 2.2. Люди и их образование\n"
   ]
  },
  {
   "cell_type": "code",
   "execution_count": 20,
   "metadata": {},
   "outputs": [
    {
     "data": {
      "text/html": [
       "<div>\n",
       "<style scoped>\n",
       "    .dataframe tbody tr th:only-of-type {\n",
       "        vertical-align: middle;\n",
       "    }\n",
       "\n",
       "    .dataframe tbody tr th {\n",
       "        vertical-align: top;\n",
       "    }\n",
       "\n",
       "    .dataframe thead th {\n",
       "        text-align: right;\n",
       "    }\n",
       "</style>\n",
       "<table border=\"1\" class=\"dataframe\">\n",
       "  <thead>\n",
       "    <tr style=\"text-align: right;\">\n",
       "      <th></th>\n",
       "      <th>id</th>\n",
       "      <th>person_id</th>\n",
       "      <th>instituition</th>\n",
       "      <th>graduated_at</th>\n",
       "      <th>educated</th>\n",
       "    </tr>\n",
       "  </thead>\n",
       "  <tbody>\n",
       "    <tr>\n",
       "      <th>0</th>\n",
       "      <td>1</td>\n",
       "      <td>6117</td>\n",
       "      <td>NaN</td>\n",
       "      <td>NaT</td>\n",
       "      <td>False</td>\n",
       "    </tr>\n",
       "    <tr>\n",
       "      <th>1</th>\n",
       "      <td>2</td>\n",
       "      <td>6136</td>\n",
       "      <td>Washington University, St. Louis</td>\n",
       "      <td>1990-01-01</td>\n",
       "      <td>True</td>\n",
       "    </tr>\n",
       "    <tr>\n",
       "      <th>2</th>\n",
       "      <td>3</td>\n",
       "      <td>6136</td>\n",
       "      <td>Boston University</td>\n",
       "      <td>1992-01-01</td>\n",
       "      <td>True</td>\n",
       "    </tr>\n",
       "    <tr>\n",
       "      <th>3</th>\n",
       "      <td>4</td>\n",
       "      <td>6005</td>\n",
       "      <td>University of Greenwich</td>\n",
       "      <td>2006-01-01</td>\n",
       "      <td>True</td>\n",
       "    </tr>\n",
       "    <tr>\n",
       "      <th>4</th>\n",
       "      <td>5</td>\n",
       "      <td>5832</td>\n",
       "      <td>Rice University</td>\n",
       "      <td>NaT</td>\n",
       "      <td>True</td>\n",
       "    </tr>\n",
       "  </tbody>\n",
       "</table>\n",
       "</div>"
      ],
      "text/plain": [
       "   id  person_id                      instituition graduated_at  educated\n",
       "0   1       6117                               NaN          NaT     False\n",
       "1   2       6136  Washington University, St. Louis   1990-01-01      True\n",
       "2   3       6136                 Boston University   1992-01-01      True\n",
       "3   4       6005           University of Greenwich   2006-01-01      True\n",
       "4   5       5832                   Rice University          NaT      True"
      ]
     },
     "execution_count": 20,
     "metadata": {},
     "output_type": "execute_result"
    }
   ],
   "source": [
    "#Оценим полноту информации об образовании сотрудников, создав новый столбец с булевыми значениями, если есть значения в одном из столбцов `instituition` или `graduated_at`, вернет True\n",
    "education['educated'] = education['instituition'].notna() | education['graduated_at'].notna()\n",
    "education.head()"
   ]
  },
  {
   "cell_type": "code",
   "execution_count": 21,
   "metadata": {},
   "outputs": [
    {
     "data": {
      "text/plain": [
       "0.9998266581516285"
      ]
     },
     "execution_count": 21,
     "metadata": {},
     "output_type": "execute_result"
    }
   ],
   "source": [
    "#Вычислим долю для оценки полноты информации об образовании\n",
    "education['educated'].mean()"
   ]
  },
  {
   "cell_type": "markdown",
   "metadata": {},
   "source": [
    "Информацию в датафрейме `education` можно оценить как полную"
   ]
  },
  {
   "cell_type": "code",
   "execution_count": 22,
   "metadata": {
    "id": "psPO7C4MrJg2",
    "vscode": {
     "languageId": "plaintext"
    }
   },
   "outputs": [
    {
     "name": "stdout",
     "output_type": "stream",
     "text": [
      "<class 'pandas.core.frame.DataFrame'>\n",
      "RangeIndex: 226709 entries, 0 to 226708\n",
      "Data columns (total 5 columns):\n",
      " #   Column            Non-Null Count   Dtype  \n",
      "---  ------            --------------   -----  \n",
      " 0   id                226709 non-null  int64  \n",
      " 1   first_name        226704 non-null  object \n",
      " 2   last_name         226708 non-null  object \n",
      " 3   company_id        34615 non-null   float64\n",
      " 4   network_username  38867 non-null   object \n",
      "dtypes: float64(1), int64(1), object(3)\n",
      "memory usage: 8.6+ MB\n",
      "<class 'pandas.core.frame.DataFrame'>\n",
      "RangeIndex: 109610 entries, 0 to 109609\n",
      "Data columns (total 5 columns):\n",
      " #   Column        Non-Null Count   Dtype         \n",
      "---  ------        --------------   -----         \n",
      " 0   id            109610 non-null  int64         \n",
      " 1   person_id     109610 non-null  int64         \n",
      " 2   instituition  109555 non-null  object        \n",
      " 3   graduated_at  58054 non-null   datetime64[ns]\n",
      " 4   educated      109610 non-null  bool          \n",
      "dtypes: bool(1), datetime64[ns](1), int64(2), object(1)\n",
      "memory usage: 3.4+ MB\n",
      "<class 'pandas.core.frame.DataFrame'>\n",
      "RangeIndex: 109610 entries, 0 to 109609\n",
      "Data columns (total 4 columns):\n",
      " #   Column       Non-Null Count   Dtype \n",
      "---  ------       --------------   ----- \n",
      " 0   id           109610 non-null  int64 \n",
      " 1   object_id    109610 non-null  object\n",
      " 2   degree_type  98392 non-null   object\n",
      " 3   subject      81298 non-null   object\n",
      "dtypes: int64(1), object(3)\n",
      "memory usage: 3.3+ MB\n"
     ]
    }
   ],
   "source": [
    "#еще раз выводим информацию о датафреймах\n",
    "people.info()\n",
    "education.info()\n",
    "degrees.info()"
   ]
  },
  {
   "cell_type": "markdown",
   "metadata": {},
   "source": [
    "Учитывая, что строк в датафрейме `people` больше, присоединим к этому датафрейму информацию об образовании с помощью left join. Таблица `degrees` для полноты данных не нужна, т.к. там больше пропусков в столбце degree_type, следовательно данные в `education` полнее. "
   ]
  },
  {
   "cell_type": "code",
   "execution_count": 23,
   "metadata": {},
   "outputs": [
    {
     "data": {
      "text/html": [
       "<div>\n",
       "<style scoped>\n",
       "    .dataframe tbody tr th:only-of-type {\n",
       "        vertical-align: middle;\n",
       "    }\n",
       "\n",
       "    .dataframe tbody tr th {\n",
       "        vertical-align: top;\n",
       "    }\n",
       "\n",
       "    .dataframe thead th {\n",
       "        text-align: right;\n",
       "    }\n",
       "</style>\n",
       "<table border=\"1\" class=\"dataframe\">\n",
       "  <thead>\n",
       "    <tr style=\"text-align: right;\">\n",
       "      <th></th>\n",
       "      <th>id_x</th>\n",
       "      <th>first_name</th>\n",
       "      <th>last_name</th>\n",
       "      <th>company_id</th>\n",
       "      <th>network_username</th>\n",
       "      <th>id_y</th>\n",
       "      <th>person_id</th>\n",
       "      <th>instituition</th>\n",
       "      <th>graduated_at</th>\n",
       "      <th>educated</th>\n",
       "    </tr>\n",
       "  </thead>\n",
       "  <tbody>\n",
       "    <tr>\n",
       "      <th>0</th>\n",
       "      <td>10</td>\n",
       "      <td>Mark</td>\n",
       "      <td>Zuckerberg</td>\n",
       "      <td>5.0</td>\n",
       "      <td>NaN</td>\n",
       "      <td>2415.0</td>\n",
       "      <td>10.0</td>\n",
       "      <td>Harvard University</td>\n",
       "      <td>NaT</td>\n",
       "      <td>True</td>\n",
       "    </tr>\n",
       "    <tr>\n",
       "      <th>1</th>\n",
       "      <td>100</td>\n",
       "      <td>Peter</td>\n",
       "      <td>Lester</td>\n",
       "      <td>27.0</td>\n",
       "      <td>NaN</td>\n",
       "      <td>NaN</td>\n",
       "      <td>NaN</td>\n",
       "      <td>NaN</td>\n",
       "      <td>NaT</td>\n",
       "      <td>NaN</td>\n",
       "    </tr>\n",
       "    <tr>\n",
       "      <th>2</th>\n",
       "      <td>1000</td>\n",
       "      <td>Dr. Steven</td>\n",
       "      <td>E. Saunders</td>\n",
       "      <td>292.0</td>\n",
       "      <td>NaN</td>\n",
       "      <td>NaN</td>\n",
       "      <td>NaN</td>\n",
       "      <td>NaN</td>\n",
       "      <td>NaT</td>\n",
       "      <td>NaN</td>\n",
       "    </tr>\n",
       "    <tr>\n",
       "      <th>3</th>\n",
       "      <td>10000</td>\n",
       "      <td>Neil</td>\n",
       "      <td>Capel</td>\n",
       "      <td>2526.0</td>\n",
       "      <td>NaN</td>\n",
       "      <td>NaN</td>\n",
       "      <td>NaN</td>\n",
       "      <td>NaN</td>\n",
       "      <td>NaT</td>\n",
       "      <td>NaN</td>\n",
       "    </tr>\n",
       "    <tr>\n",
       "      <th>4</th>\n",
       "      <td>100000</td>\n",
       "      <td>Sue</td>\n",
       "      <td>Pilsch</td>\n",
       "      <td>NaN</td>\n",
       "      <td>NaN</td>\n",
       "      <td>NaN</td>\n",
       "      <td>NaN</td>\n",
       "      <td>NaN</td>\n",
       "      <td>NaT</td>\n",
       "      <td>NaN</td>\n",
       "    </tr>\n",
       "    <tr>\n",
       "      <th>...</th>\n",
       "      <td>...</td>\n",
       "      <td>...</td>\n",
       "      <td>...</td>\n",
       "      <td>...</td>\n",
       "      <td>...</td>\n",
       "      <td>...</td>\n",
       "      <td>...</td>\n",
       "      <td>...</td>\n",
       "      <td>...</td>\n",
       "      <td>...</td>\n",
       "    </tr>\n",
       "    <tr>\n",
       "      <th>267689</th>\n",
       "      <td>99999</td>\n",
       "      <td>Ramon</td>\n",
       "      <td>Peypoch</td>\n",
       "      <td>NaN</td>\n",
       "      <td>NaN</td>\n",
       "      <td>NaN</td>\n",
       "      <td>NaN</td>\n",
       "      <td>NaN</td>\n",
       "      <td>NaT</td>\n",
       "      <td>NaN</td>\n",
       "    </tr>\n",
       "    <tr>\n",
       "      <th>267690</th>\n",
       "      <td>174088</td>\n",
       "      <td>Dr. Ray</td>\n",
       "      <td>Woods</td>\n",
       "      <td>188200.0</td>\n",
       "      <td>network</td>\n",
       "      <td>25958.0</td>\n",
       "      <td>174088.0</td>\n",
       "      <td>Sydney University Medical School</td>\n",
       "      <td>1982-01-01</td>\n",
       "      <td>True</td>\n",
       "    </tr>\n",
       "    <tr>\n",
       "      <th>267691</th>\n",
       "      <td>118386</td>\n",
       "      <td>Ricardo</td>\n",
       "      <td>Durand</td>\n",
       "      <td>143419.0</td>\n",
       "      <td>itechsocialnet</td>\n",
       "      <td>18871.0</td>\n",
       "      <td>118386.0</td>\n",
       "      <td>ESCS</td>\n",
       "      <td>2004-01-01</td>\n",
       "      <td>True</td>\n",
       "    </tr>\n",
       "    <tr>\n",
       "      <th>267692</th>\n",
       "      <td>175827</td>\n",
       "      <td>mahesh</td>\n",
       "      <td>kumar</td>\n",
       "      <td>NaN</td>\n",
       "      <td>socialnethubs</td>\n",
       "      <td>NaN</td>\n",
       "      <td>NaN</td>\n",
       "      <td>NaN</td>\n",
       "      <td>NaT</td>\n",
       "      <td>NaN</td>\n",
       "    </tr>\n",
       "    <tr>\n",
       "      <th>267693</th>\n",
       "      <td>178190</td>\n",
       "      <td>Alex</td>\n",
       "      <td>Smith</td>\n",
       "      <td>NaN</td>\n",
       "      <td>esocialnetlike</td>\n",
       "      <td>NaN</td>\n",
       "      <td>NaN</td>\n",
       "      <td>NaN</td>\n",
       "      <td>NaT</td>\n",
       "      <td>NaN</td>\n",
       "    </tr>\n",
       "  </tbody>\n",
       "</table>\n",
       "<p>267694 rows × 10 columns</p>\n",
       "</div>"
      ],
      "text/plain": [
       "          id_x  first_name    last_name  company_id network_username     id_y  \\\n",
       "0           10        Mark   Zuckerberg         5.0              NaN   2415.0   \n",
       "1          100       Peter       Lester        27.0              NaN      NaN   \n",
       "2         1000  Dr. Steven  E. Saunders       292.0              NaN      NaN   \n",
       "3        10000        Neil        Capel      2526.0              NaN      NaN   \n",
       "4       100000         Sue       Pilsch         NaN              NaN      NaN   \n",
       "...        ...         ...          ...         ...              ...      ...   \n",
       "267689   99999       Ramon      Peypoch         NaN              NaN      NaN   \n",
       "267690  174088     Dr. Ray        Woods    188200.0          network  25958.0   \n",
       "267691  118386     Ricardo       Durand    143419.0   itechsocialnet  18871.0   \n",
       "267692  175827      mahesh        kumar         NaN    socialnethubs      NaN   \n",
       "267693  178190        Alex        Smith         NaN   esocialnetlike      NaN   \n",
       "\n",
       "        person_id                      instituition graduated_at educated  \n",
       "0            10.0                Harvard University          NaT     True  \n",
       "1             NaN                               NaN          NaT      NaN  \n",
       "2             NaN                               NaN          NaT      NaN  \n",
       "3             NaN                               NaN          NaT      NaN  \n",
       "4             NaN                               NaN          NaT      NaN  \n",
       "...           ...                               ...          ...      ...  \n",
       "267689        NaN                               NaN          NaT      NaN  \n",
       "267690   174088.0  Sydney University Medical School   1982-01-01     True  \n",
       "267691   118386.0                              ESCS   2004-01-01     True  \n",
       "267692        NaN                               NaN          NaT      NaN  \n",
       "267693        NaN                               NaN          NaT      NaN  \n",
       "\n",
       "[267694 rows x 10 columns]"
      ]
     },
     "execution_count": 23,
     "metadata": {},
     "output_type": "execute_result"
    }
   ],
   "source": [
    "people_merged= people.merge(education, left_on = 'id', right_on = 'person_id', how='left')\n",
    "people_merged"
   ]
  },
  {
   "cell_type": "code",
   "execution_count": 24,
   "metadata": {},
   "outputs": [
    {
     "name": "stdout",
     "output_type": "stream",
     "text": [
      "<class 'pandas.core.frame.DataFrame'>\n",
      "Int64Index: 267694 entries, 0 to 267693\n",
      "Data columns (total 10 columns):\n",
      " #   Column            Non-Null Count   Dtype         \n",
      "---  ------            --------------   -----         \n",
      " 0   id_x              267694 non-null  int64         \n",
      " 1   first_name        267689 non-null  object        \n",
      " 2   last_name         267693 non-null  object        \n",
      " 3   company_id        44789 non-null   float64       \n",
      " 4   network_username  50775 non-null   object        \n",
      " 5   id_y              109056 non-null  float64       \n",
      " 6   person_id         109056 non-null  float64       \n",
      " 7   instituition      109002 non-null  object        \n",
      " 8   graduated_at      57691 non-null   datetime64[ns]\n",
      " 9   educated          109056 non-null  object        \n",
      "dtypes: datetime64[ns](1), float64(3), int64(1), object(5)\n",
      "memory usage: 22.5+ MB\n"
     ]
    }
   ],
   "source": [
    "people_merged.info()"
   ]
  },
  {
   "cell_type": "code",
   "execution_count": 25,
   "metadata": {},
   "outputs": [
    {
     "data": {
      "text/plain": [
       "0"
      ]
     },
     "execution_count": 25,
     "metadata": {},
     "output_type": "execute_result"
    }
   ],
   "source": [
    "#проверим дубликаты после объединения\n",
    "people.merge(education, left_on = 'id', right_on = 'person_id', how='left').duplicated().sum()"
   ]
  },
  {
   "cell_type": "code",
   "execution_count": 26,
   "metadata": {},
   "outputs": [],
   "source": [
    "people_merged['count_person']=people_merged.groupby('company_id')['id_x'].count()"
   ]
  },
  {
   "cell_type": "code",
   "execution_count": 27,
   "metadata": {},
   "outputs": [
    {
     "data": {
      "text/plain": [
       "count    22922.000000\n",
       "mean         1.953974\n",
       "std          4.087373\n",
       "min          1.000000\n",
       "25%          1.000000\n",
       "50%          1.000000\n",
       "75%          2.000000\n",
       "max        376.000000\n",
       "Name: id_x, dtype: float64"
      ]
     },
     "execution_count": 27,
     "metadata": {},
     "output_type": "execute_result"
    }
   ],
   "source": [
    "people_merged.groupby('company_id')['id_x'].count().describe()"
   ]
  },
  {
   "cell_type": "code",
   "execution_count": 28,
   "metadata": {},
   "outputs": [
    {
     "data": {
      "text/plain": [
       "1.0      13531\n",
       "2.0       4595\n",
       "3.0       1812\n",
       "4.0        812\n",
       "5.0        444\n",
       "6.0        258\n",
       "7.0        159\n",
       "8.0        114\n",
       "9.0         85\n",
       "11.0        52\n",
       "10.0        51\n",
       "13.0        26\n",
       "12.0        25\n",
       "18.0        16\n",
       "15.0        14\n",
       "14.0        12\n",
       "16.0        12\n",
       "19.0        10\n",
       "20.0         9\n",
       "17.0         8\n",
       "25.0         4\n",
       "27.0         3\n",
       "22.0         3\n",
       "34.0         2\n",
       "44.0         2\n",
       "24.0         2\n",
       "30.0         2\n",
       "29.0         2\n",
       "39.0         2\n",
       "26.0         2\n",
       "35.0         2\n",
       "192.0        1\n",
       "89.0         1\n",
       "73.0         1\n",
       "43.0         1\n",
       "46.0         1\n",
       "66.0         1\n",
       "21.0         1\n",
       "42.0         1\n",
       "80.0         1\n",
       "70.0         1\n",
       "52.0         1\n",
       "71.0         1\n",
       "376.0        1\n",
       "28.0         1\n",
       "221.0        1\n",
       "59.0         1\n",
       "64.0         1\n",
       "84.0         1\n",
       "111.0        1\n",
       "Name: count_person, dtype: int64"
      ]
     },
     "execution_count": 28,
     "metadata": {},
     "output_type": "execute_result"
    }
   ],
   "source": [
    "people_merged['count_person'].value_counts()"
   ]
  },
  {
   "cell_type": "code",
   "execution_count": 29,
   "metadata": {},
   "outputs": [
    {
     "data": {
      "image/png": "[encoded data removed]",
      "text/plain": [
       "<Figure size 640x480 with 1 Axes>"
      ]
     },
     "metadata": {},
     "output_type": "display_data"
    }
   ],
   "source": [
    "people_merged.groupby('company_id')['id_x'].count().hist(bins=1000)\n",
    "plt.ylim(0, 10)\n",
    "plt.xlabel('Кол-во сотрудников')\n",
    "plt.ylabel('Кол-во компаний')\n",
    "plt.title('Распределение компаний по количеству сотрудников')\n",
    "plt.show()"
   ]
  },
  {
   "cell_type": "markdown",
   "metadata": {},
   "source": [
    "Медианное значение кол-ва человек в компании 1, следовательно выделим следующие категории компаний:\n",
    "-  1 сотрудник - один сотрудник\n",
    "- до 2- 10 - малые,\n",
    "- 11-50 - средние,\n",
    "- больше 50 - крупные"
   ]
  },
  {
   "cell_type": "code",
   "execution_count": 30,
   "metadata": {},
   "outputs": [],
   "source": [
    "people_merged['company_size'] = pd.cut(people_merged['count_person'], bins=[0, 1, 10, 50, 377], labels=['Один сотрудник','Малые', 'Средние', 'Крупные'])"
   ]
  },
  {
   "cell_type": "code",
   "execution_count": 31,
   "metadata": {},
   "outputs": [
    {
     "data": {
      "text/html": [
       "<div>\n",
       "<style scoped>\n",
       "    .dataframe tbody tr th:only-of-type {\n",
       "        vertical-align: middle;\n",
       "    }\n",
       "\n",
       "    .dataframe tbody tr th {\n",
       "        vertical-align: top;\n",
       "    }\n",
       "\n",
       "    .dataframe thead th {\n",
       "        text-align: right;\n",
       "    }\n",
       "</style>\n",
       "<table border=\"1\" class=\"dataframe\">\n",
       "  <thead>\n",
       "    <tr style=\"text-align: right;\">\n",
       "      <th></th>\n",
       "      <th>id_x</th>\n",
       "      <th>first_name</th>\n",
       "      <th>last_name</th>\n",
       "      <th>company_id</th>\n",
       "      <th>network_username</th>\n",
       "      <th>id_y</th>\n",
       "      <th>person_id</th>\n",
       "      <th>instituition</th>\n",
       "      <th>graduated_at</th>\n",
       "      <th>educated</th>\n",
       "      <th>count_person</th>\n",
       "      <th>company_size</th>\n",
       "    </tr>\n",
       "  </thead>\n",
       "  <tbody>\n",
       "    <tr>\n",
       "      <th>0</th>\n",
       "      <td>10</td>\n",
       "      <td>Mark</td>\n",
       "      <td>Zuckerberg</td>\n",
       "      <td>5.0</td>\n",
       "      <td>NaN</td>\n",
       "      <td>2415.0</td>\n",
       "      <td>10.0</td>\n",
       "      <td>Harvard University</td>\n",
       "      <td>NaT</td>\n",
       "      <td>True</td>\n",
       "      <td>NaN</td>\n",
       "      <td>NaN</td>\n",
       "    </tr>\n",
       "    <tr>\n",
       "      <th>1</th>\n",
       "      <td>100</td>\n",
       "      <td>Peter</td>\n",
       "      <td>Lester</td>\n",
       "      <td>27.0</td>\n",
       "      <td>NaN</td>\n",
       "      <td>NaN</td>\n",
       "      <td>NaN</td>\n",
       "      <td>NaN</td>\n",
       "      <td>NaT</td>\n",
       "      <td>NaN</td>\n",
       "      <td>3.0</td>\n",
       "      <td>Малые</td>\n",
       "    </tr>\n",
       "    <tr>\n",
       "      <th>2</th>\n",
       "      <td>1000</td>\n",
       "      <td>Dr. Steven</td>\n",
       "      <td>E. Saunders</td>\n",
       "      <td>292.0</td>\n",
       "      <td>NaN</td>\n",
       "      <td>NaN</td>\n",
       "      <td>NaN</td>\n",
       "      <td>NaN</td>\n",
       "      <td>NaT</td>\n",
       "      <td>NaN</td>\n",
       "      <td>1.0</td>\n",
       "      <td>Один сотрудник</td>\n",
       "    </tr>\n",
       "    <tr>\n",
       "      <th>3</th>\n",
       "      <td>10000</td>\n",
       "      <td>Neil</td>\n",
       "      <td>Capel</td>\n",
       "      <td>2526.0</td>\n",
       "      <td>NaN</td>\n",
       "      <td>NaN</td>\n",
       "      <td>NaN</td>\n",
       "      <td>NaN</td>\n",
       "      <td>NaT</td>\n",
       "      <td>NaN</td>\n",
       "      <td>5.0</td>\n",
       "      <td>Малые</td>\n",
       "    </tr>\n",
       "    <tr>\n",
       "      <th>4</th>\n",
       "      <td>100000</td>\n",
       "      <td>Sue</td>\n",
       "      <td>Pilsch</td>\n",
       "      <td>NaN</td>\n",
       "      <td>NaN</td>\n",
       "      <td>NaN</td>\n",
       "      <td>NaN</td>\n",
       "      <td>NaN</td>\n",
       "      <td>NaT</td>\n",
       "      <td>NaN</td>\n",
       "      <td>18.0</td>\n",
       "      <td>Средние</td>\n",
       "    </tr>\n",
       "  </tbody>\n",
       "</table>\n",
       "</div>"
      ],
      "text/plain": [
       "     id_x  first_name    last_name  company_id network_username    id_y  \\\n",
       "0      10        Mark   Zuckerberg         5.0              NaN  2415.0   \n",
       "1     100       Peter       Lester        27.0              NaN     NaN   \n",
       "2    1000  Dr. Steven  E. Saunders       292.0              NaN     NaN   \n",
       "3   10000        Neil        Capel      2526.0              NaN     NaN   \n",
       "4  100000         Sue       Pilsch         NaN              NaN     NaN   \n",
       "\n",
       "   person_id        instituition graduated_at educated  count_person  \\\n",
       "0       10.0  Harvard University          NaT     True           NaN   \n",
       "1        NaN                 NaN          NaT      NaN           3.0   \n",
       "2        NaN                 NaN          NaT      NaN           1.0   \n",
       "3        NaN                 NaN          NaT      NaN           5.0   \n",
       "4        NaN                 NaN          NaT      NaN          18.0   \n",
       "\n",
       "     company_size  \n",
       "0             NaN  \n",
       "1           Малые  \n",
       "2  Один сотрудник  \n",
       "3           Малые  \n",
       "4         Средние  "
      ]
     },
     "execution_count": 31,
     "metadata": {},
     "output_type": "execute_result"
    }
   ],
   "source": [
    "people_merged.head()"
   ]
  },
  {
   "cell_type": "code",
   "execution_count": 32,
   "metadata": {},
   "outputs": [
    {
     "name": "stdout",
     "output_type": "stream",
     "text": [
      "Средняя доля сотрудников без информации об образовании в каждой из групп\n"
     ]
    },
    {
     "data": {
      "text/plain": [
       "company_size\n",
       "Один сотрудник    0.616289\n",
       "Малые             0.212052\n",
       "Средние           0.036617\n",
       "Крупные           0.005597\n",
       "dtype: float64"
      ]
     },
     "execution_count": 32,
     "metadata": {},
     "output_type": "execute_result"
    }
   ],
   "source": [
    "#Вычислим кол-во пропущенных значений в столбце educated и разделим на количество сотрудников count_person, сгруппировав по размеру компании\n",
    "print(\"Средняя доля сотрудников без информации об образовании в каждой из групп\")\n",
    "people_merged.groupby('company_size')['educated'].apply(lambda x: x.isna().sum())/people_merged.groupby('company_size')['count_person'].sum()\n"
   ]
  },
  {
   "cell_type": "markdown",
   "metadata": {},
   "source": [
    " Полнота сведений об образовании сотрудников выше в крупных и средних компаниях."
   ]
  },
  {
   "cell_type": "markdown",
   "metadata": {
    "id": "Lz7qjM32xglW"
   },
   "source": [
    "<a class=\"anchor\" id=\"5-bullet\"></a>\n",
    "### 2.3. Объединять или не объединять — вот в чём вопрос\n",
    "\n",
    "Некоторые названия столбцов встречаются в датасетах чаще других. В результате предварительной проверки датасетов было выяснено, что столбец `company_id` подходит для объединения данных. Необходимо проверить, подходит ли столбец nnetwork_username для объединения датасетов."
   ]
  },
  {
   "cell_type": "markdown",
   "metadata": {},
   "source": [
    "Применим операцию intersection  для нахождения общих элементов между двумя наборами данных и определим длину множества (т.е. кол-во совпадений)"
   ]
  },
  {
   "cell_type": "code",
   "execution_count": 33,
   "metadata": {},
   "outputs": [
    {
     "data": {
      "text/plain": [
       "71"
      ]
     },
     "execution_count": 33,
     "metadata": {},
     "output_type": "execute_result"
    }
   ],
   "source": [
    "len(set(company_and_rounds['network_username']).intersection(fund['network_username']))"
   ]
  },
  {
   "cell_type": "code",
   "execution_count": 34,
   "metadata": {
    "id": "zyI3rt0rxg1O"
   },
   "outputs": [
    {
     "data": {
      "text/plain": [
       "2200"
      ]
     },
     "execution_count": 34,
     "metadata": {},
     "output_type": "execute_result"
    }
   ],
   "source": [
    "len(set(company_and_rounds['network_username']).intersection(people['network_username']))"
   ]
  },
  {
   "cell_type": "code",
   "execution_count": 35,
   "metadata": {
    "id": "RxOS5rwmFcNW"
   },
   "outputs": [
    {
     "data": {
      "text/plain": [
       "80"
      ]
     },
     "execution_count": 35,
     "metadata": {},
     "output_type": "execute_result"
    }
   ],
   "source": [
    "len(set(fund['network_username']).intersection(people['network_username']))"
   ]
  },
  {
   "cell_type": "code",
   "execution_count": 36,
   "metadata": {},
   "outputs": [
    {
     "data": {
      "text/plain": [
       "0.0008922736641029508"
      ]
     },
     "execution_count": 36,
     "metadata": {},
     "output_type": "execute_result"
    }
   ],
   "source": [
    "#Доля совпадений company_and_rounds и fund по network_username\n",
    "len(set(company_and_rounds['network_username']).intersection(fund['network_username']))/len(set(company_and_rounds['network_username']))"
   ]
  },
  {
   "cell_type": "code",
   "execution_count": 37,
   "metadata": {},
   "outputs": [
    {
     "data": {
      "text/plain": [
       "0.0276479163524858"
      ]
     },
     "execution_count": 37,
     "metadata": {},
     "output_type": "execute_result"
    }
   ],
   "source": [
    "#Доля совпадений company_and_rounds и people по network_username\n",
    "len(set(company_and_rounds['network_username']).intersection(people['network_username']))/len(set(company_and_rounds['network_username']))"
   ]
  },
  {
   "cell_type": "code",
   "execution_count": 38,
   "metadata": {},
   "outputs": [
    {
     "data": {
      "text/plain": [
       "0.038113387327298714"
      ]
     },
     "execution_count": 38,
     "metadata": {},
     "output_type": "execute_result"
    }
   ],
   "source": [
    "#Доля совпадений fund и people по network_username\n",
    "len(set(fund['network_username']).intersection(people['network_username']))/len(set(fund['network_username']))"
   ]
  },
  {
   "cell_type": "markdown",
   "metadata": {
    "id": "_7gjdrGOFcB2"
   },
   "source": [
    "network_username нельзя использовать для объединения данных, так как пересечения данных в относительных величинах слишком мало."
   ]
  },
  {
   "cell_type": "markdown",
   "metadata": {
    "id": "EHcODomVrJg1"
   },
   "source": [
    "<a class=\"anchor\" id=\"6-bullet\"></a>\n",
    "### 2.4. Проблемный датасет и причина возникновения пропусков\n"
   ]
  },
  {
   "cell_type": "markdown",
   "metadata": {
    "id": "oSk7xqu_FbaN"
   },
   "source": [
    "При анализе пропусков выше в разделе 1.2. Смена типов и анализ пропусков обнаружено, что в company_and_rounds:\n",
    "- по 302 пропуска в company_ID, name, status, investment_rounds, funding_rounds, funding_total, milestones, что составляет 0,14% от всей таблицы, эти данные важны для анализа, поэтому оставим без изменения\n",
    "- и по 164846 пропусков со столбцов funding_round_id до is_last_round.\n",
    "Вероятно этот датафрейм представляет собой объединенные таблицы. "
   ]
  },
  {
   "cell_type": "code",
   "execution_count": 39,
   "metadata": {
    "id": "9BY9lTUcFbJ-"
   },
   "outputs": [
    {
     "data": {
      "text/html": [
       "<div>\n",
       "<style scoped>\n",
       "    .dataframe tbody tr th:only-of-type {\n",
       "        vertical-align: middle;\n",
       "    }\n",
       "\n",
       "    .dataframe tbody tr th {\n",
       "        vertical-align: top;\n",
       "    }\n",
       "\n",
       "    .dataframe thead th {\n",
       "        text-align: right;\n",
       "    }\n",
       "</style>\n",
       "<table border=\"1\" class=\"dataframe\">\n",
       "  <thead>\n",
       "    <tr style=\"text-align: right;\">\n",
       "      <th></th>\n",
       "      <th>company_ID</th>\n",
       "      <th>name</th>\n",
       "      <th>category_code</th>\n",
       "      <th>status</th>\n",
       "      <th>founded_at</th>\n",
       "      <th>closed_at</th>\n",
       "      <th>domain</th>\n",
       "      <th>network_username</th>\n",
       "      <th>country_code</th>\n",
       "      <th>investment_rounds</th>\n",
       "      <th>funding_rounds</th>\n",
       "      <th>funding_total</th>\n",
       "      <th>milestones</th>\n",
       "      <th>funding_round_id</th>\n",
       "      <th>company_id</th>\n",
       "      <th>funded_at</th>\n",
       "      <th>funding_round_type</th>\n",
       "      <th>raised_amount</th>\n",
       "      <th>pre_money_valuation</th>\n",
       "      <th>participants</th>\n",
       "      <th>is_first_round</th>\n",
       "      <th>is_last_round</th>\n",
       "      <th>funded_at_year</th>\n",
       "    </tr>\n",
       "  </thead>\n",
       "  <tbody>\n",
       "    <tr>\n",
       "      <th>0</th>\n",
       "      <td>1.0</td>\n",
       "      <td>Wetpaint</td>\n",
       "      <td>web</td>\n",
       "      <td>operating</td>\n",
       "      <td>2005-10-17</td>\n",
       "      <td>NaT</td>\n",
       "      <td>wetpaint-inc.com</td>\n",
       "      <td>BachelrWetpaint</td>\n",
       "      <td>USA</td>\n",
       "      <td>0.0</td>\n",
       "      <td>3.0</td>\n",
       "      <td>39750000.0</td>\n",
       "      <td>5.0</td>\n",
       "      <td>888.0</td>\n",
       "      <td>1.0</td>\n",
       "      <td>2005-10-01</td>\n",
       "      <td>series-a</td>\n",
       "      <td>5250000.0</td>\n",
       "      <td>0.0</td>\n",
       "      <td>2.0</td>\n",
       "      <td>0.0</td>\n",
       "      <td>1.0</td>\n",
       "      <td>2005.0</td>\n",
       "    </tr>\n",
       "    <tr>\n",
       "      <th>1</th>\n",
       "      <td>1.0</td>\n",
       "      <td>Wetpaint</td>\n",
       "      <td>web</td>\n",
       "      <td>operating</td>\n",
       "      <td>2005-10-17</td>\n",
       "      <td>NaT</td>\n",
       "      <td>wetpaint-inc.com</td>\n",
       "      <td>BachelrWetpaint</td>\n",
       "      <td>USA</td>\n",
       "      <td>0.0</td>\n",
       "      <td>3.0</td>\n",
       "      <td>39750000.0</td>\n",
       "      <td>5.0</td>\n",
       "      <td>889.0</td>\n",
       "      <td>1.0</td>\n",
       "      <td>2007-01-01</td>\n",
       "      <td>series-b</td>\n",
       "      <td>9500000.0</td>\n",
       "      <td>0.0</td>\n",
       "      <td>3.0</td>\n",
       "      <td>0.0</td>\n",
       "      <td>0.0</td>\n",
       "      <td>2007.0</td>\n",
       "    </tr>\n",
       "    <tr>\n",
       "      <th>2</th>\n",
       "      <td>1.0</td>\n",
       "      <td>Wetpaint</td>\n",
       "      <td>web</td>\n",
       "      <td>operating</td>\n",
       "      <td>2005-10-17</td>\n",
       "      <td>NaT</td>\n",
       "      <td>wetpaint-inc.com</td>\n",
       "      <td>BachelrWetpaint</td>\n",
       "      <td>USA</td>\n",
       "      <td>0.0</td>\n",
       "      <td>3.0</td>\n",
       "      <td>39750000.0</td>\n",
       "      <td>5.0</td>\n",
       "      <td>2312.0</td>\n",
       "      <td>1.0</td>\n",
       "      <td>2008-05-19</td>\n",
       "      <td>series-c+</td>\n",
       "      <td>25000000.0</td>\n",
       "      <td>0.0</td>\n",
       "      <td>4.0</td>\n",
       "      <td>1.0</td>\n",
       "      <td>0.0</td>\n",
       "      <td>2008.0</td>\n",
       "    </tr>\n",
       "    <tr>\n",
       "      <th>3</th>\n",
       "      <td>10.0</td>\n",
       "      <td>Flektor</td>\n",
       "      <td>games_video</td>\n",
       "      <td>acquired</td>\n",
       "      <td>NaT</td>\n",
       "      <td>NaT</td>\n",
       "      <td>flektor.com</td>\n",
       "      <td>NaN</td>\n",
       "      <td>USA</td>\n",
       "      <td>0.0</td>\n",
       "      <td>0.0</td>\n",
       "      <td>0.0</td>\n",
       "      <td>0.0</td>\n",
       "      <td>NaN</td>\n",
       "      <td>NaN</td>\n",
       "      <td>NaT</td>\n",
       "      <td>NaN</td>\n",
       "      <td>NaN</td>\n",
       "      <td>NaN</td>\n",
       "      <td>NaN</td>\n",
       "      <td>NaN</td>\n",
       "      <td>NaN</td>\n",
       "      <td>NaN</td>\n",
       "    </tr>\n",
       "    <tr>\n",
       "      <th>4</th>\n",
       "      <td>100.0</td>\n",
       "      <td>There</td>\n",
       "      <td>games_video</td>\n",
       "      <td>acquired</td>\n",
       "      <td>NaT</td>\n",
       "      <td>NaT</td>\n",
       "      <td>there.com</td>\n",
       "      <td>NaN</td>\n",
       "      <td>USA</td>\n",
       "      <td>0.0</td>\n",
       "      <td>0.0</td>\n",
       "      <td>0.0</td>\n",
       "      <td>4.0</td>\n",
       "      <td>NaN</td>\n",
       "      <td>NaN</td>\n",
       "      <td>NaT</td>\n",
       "      <td>NaN</td>\n",
       "      <td>NaN</td>\n",
       "      <td>NaN</td>\n",
       "      <td>NaN</td>\n",
       "      <td>NaN</td>\n",
       "      <td>NaN</td>\n",
       "      <td>NaN</td>\n",
       "    </tr>\n",
       "    <tr>\n",
       "      <th>...</th>\n",
       "      <td>...</td>\n",
       "      <td>...</td>\n",
       "      <td>...</td>\n",
       "      <td>...</td>\n",
       "      <td>...</td>\n",
       "      <td>...</td>\n",
       "      <td>...</td>\n",
       "      <td>...</td>\n",
       "      <td>...</td>\n",
       "      <td>...</td>\n",
       "      <td>...</td>\n",
       "      <td>...</td>\n",
       "      <td>...</td>\n",
       "      <td>...</td>\n",
       "      <td>...</td>\n",
       "      <td>...</td>\n",
       "      <td>...</td>\n",
       "      <td>...</td>\n",
       "      <td>...</td>\n",
       "      <td>...</td>\n",
       "      <td>...</td>\n",
       "      <td>...</td>\n",
       "      <td>...</td>\n",
       "    </tr>\n",
       "    <tr>\n",
       "      <th>217769</th>\n",
       "      <td>NaN</td>\n",
       "      <td>NaN</td>\n",
       "      <td>NaN</td>\n",
       "      <td>NaN</td>\n",
       "      <td>NaT</td>\n",
       "      <td>NaT</td>\n",
       "      <td>NaN</td>\n",
       "      <td>NaN</td>\n",
       "      <td>NaN</td>\n",
       "      <td>NaN</td>\n",
       "      <td>NaN</td>\n",
       "      <td>NaN</td>\n",
       "      <td>NaN</td>\n",
       "      <td>56454.0</td>\n",
       "      <td>282847.0</td>\n",
       "      <td>2011-01-31</td>\n",
       "      <td>other</td>\n",
       "      <td>5500000.0</td>\n",
       "      <td>0.0</td>\n",
       "      <td>0.0</td>\n",
       "      <td>1.0</td>\n",
       "      <td>1.0</td>\n",
       "      <td>2011.0</td>\n",
       "    </tr>\n",
       "    <tr>\n",
       "      <th>217770</th>\n",
       "      <td>NaN</td>\n",
       "      <td>NaN</td>\n",
       "      <td>NaN</td>\n",
       "      <td>NaN</td>\n",
       "      <td>NaT</td>\n",
       "      <td>NaT</td>\n",
       "      <td>NaN</td>\n",
       "      <td>NaN</td>\n",
       "      <td>NaN</td>\n",
       "      <td>NaN</td>\n",
       "      <td>NaN</td>\n",
       "      <td>NaN</td>\n",
       "      <td>NaN</td>\n",
       "      <td>56542.0</td>\n",
       "      <td>55477.0</td>\n",
       "      <td>2011-01-13</td>\n",
       "      <td>venture</td>\n",
       "      <td>10633300.0</td>\n",
       "      <td>0.0</td>\n",
       "      <td>0.0</td>\n",
       "      <td>0.0</td>\n",
       "      <td>1.0</td>\n",
       "      <td>2011.0</td>\n",
       "    </tr>\n",
       "    <tr>\n",
       "      <th>217771</th>\n",
       "      <td>NaN</td>\n",
       "      <td>NaN</td>\n",
       "      <td>NaN</td>\n",
       "      <td>NaN</td>\n",
       "      <td>NaT</td>\n",
       "      <td>NaT</td>\n",
       "      <td>NaN</td>\n",
       "      <td>NaN</td>\n",
       "      <td>NaN</td>\n",
       "      <td>NaN</td>\n",
       "      <td>NaN</td>\n",
       "      <td>NaN</td>\n",
       "      <td>NaN</td>\n",
       "      <td>56543.0</td>\n",
       "      <td>55477.0</td>\n",
       "      <td>2012-05-31</td>\n",
       "      <td>venture</td>\n",
       "      <td>2125720.0</td>\n",
       "      <td>0.0</td>\n",
       "      <td>0.0</td>\n",
       "      <td>1.0</td>\n",
       "      <td>0.0</td>\n",
       "      <td>2012.0</td>\n",
       "    </tr>\n",
       "    <tr>\n",
       "      <th>217772</th>\n",
       "      <td>NaN</td>\n",
       "      <td>NaN</td>\n",
       "      <td>NaN</td>\n",
       "      <td>NaN</td>\n",
       "      <td>NaT</td>\n",
       "      <td>NaT</td>\n",
       "      <td>NaN</td>\n",
       "      <td>NaN</td>\n",
       "      <td>NaN</td>\n",
       "      <td>NaN</td>\n",
       "      <td>NaN</td>\n",
       "      <td>NaN</td>\n",
       "      <td>NaN</td>\n",
       "      <td>56928.0</td>\n",
       "      <td>283492.0</td>\n",
       "      <td>2013-12-03</td>\n",
       "      <td>venture</td>\n",
       "      <td>3602480.0</td>\n",
       "      <td>0.0</td>\n",
       "      <td>5.0</td>\n",
       "      <td>1.0</td>\n",
       "      <td>1.0</td>\n",
       "      <td>2013.0</td>\n",
       "    </tr>\n",
       "    <tr>\n",
       "      <th>217773</th>\n",
       "      <td>NaN</td>\n",
       "      <td>NaN</td>\n",
       "      <td>NaN</td>\n",
       "      <td>NaN</td>\n",
       "      <td>NaT</td>\n",
       "      <td>NaT</td>\n",
       "      <td>NaN</td>\n",
       "      <td>NaN</td>\n",
       "      <td>NaN</td>\n",
       "      <td>NaN</td>\n",
       "      <td>NaN</td>\n",
       "      <td>NaN</td>\n",
       "      <td>NaN</td>\n",
       "      <td>57063.0</td>\n",
       "      <td>284191.0</td>\n",
       "      <td>2013-12-04</td>\n",
       "      <td>venture</td>\n",
       "      <td>7000000.0</td>\n",
       "      <td>0.0</td>\n",
       "      <td>4.0</td>\n",
       "      <td>1.0</td>\n",
       "      <td>1.0</td>\n",
       "      <td>2013.0</td>\n",
       "    </tr>\n",
       "  </tbody>\n",
       "</table>\n",
       "<p>217774 rows × 23 columns</p>\n",
       "</div>"
      ],
      "text/plain": [
       "        company_ID      name category_code     status founded_at closed_at  \\\n",
       "0              1.0  Wetpaint           web  operating 2005-10-17       NaT   \n",
       "1              1.0  Wetpaint           web  operating 2005-10-17       NaT   \n",
       "2              1.0  Wetpaint           web  operating 2005-10-17       NaT   \n",
       "3             10.0   Flektor   games_video   acquired        NaT       NaT   \n",
       "4            100.0     There   games_video   acquired        NaT       NaT   \n",
       "...            ...       ...           ...        ...        ...       ...   \n",
       "217769         NaN       NaN           NaN        NaN        NaT       NaT   \n",
       "217770         NaN       NaN           NaN        NaN        NaT       NaT   \n",
       "217771         NaN       NaN           NaN        NaN        NaT       NaT   \n",
       "217772         NaN       NaN           NaN        NaN        NaT       NaT   \n",
       "217773         NaN       NaN           NaN        NaN        NaT       NaT   \n",
       "\n",
       "                  domain network_username country_code  investment_rounds  \\\n",
       "0       wetpaint-inc.com  BachelrWetpaint          USA                0.0   \n",
       "1       wetpaint-inc.com  BachelrWetpaint          USA                0.0   \n",
       "2       wetpaint-inc.com  BachelrWetpaint          USA                0.0   \n",
       "3            flektor.com              NaN          USA                0.0   \n",
       "4              there.com              NaN          USA                0.0   \n",
       "...                  ...              ...          ...                ...   \n",
       "217769               NaN              NaN          NaN                NaN   \n",
       "217770               NaN              NaN          NaN                NaN   \n",
       "217771               NaN              NaN          NaN                NaN   \n",
       "217772               NaN              NaN          NaN                NaN   \n",
       "217773               NaN              NaN          NaN                NaN   \n",
       "\n",
       "        funding_rounds  funding_total  milestones  funding_round_id  \\\n",
       "0                  3.0     39750000.0         5.0             888.0   \n",
       "1                  3.0     39750000.0         5.0             889.0   \n",
       "2                  3.0     39750000.0         5.0            2312.0   \n",
       "3                  0.0            0.0         0.0               NaN   \n",
       "4                  0.0            0.0         4.0               NaN   \n",
       "...                ...            ...         ...               ...   \n",
       "217769             NaN            NaN         NaN           56454.0   \n",
       "217770             NaN            NaN         NaN           56542.0   \n",
       "217771             NaN            NaN         NaN           56543.0   \n",
       "217772             NaN            NaN         NaN           56928.0   \n",
       "217773             NaN            NaN         NaN           57063.0   \n",
       "\n",
       "        company_id  funded_at funding_round_type  raised_amount  \\\n",
       "0              1.0 2005-10-01           series-a      5250000.0   \n",
       "1              1.0 2007-01-01           series-b      9500000.0   \n",
       "2              1.0 2008-05-19          series-c+     25000000.0   \n",
       "3              NaN        NaT                NaN            NaN   \n",
       "4              NaN        NaT                NaN            NaN   \n",
       "...            ...        ...                ...            ...   \n",
       "217769    282847.0 2011-01-31              other      5500000.0   \n",
       "217770     55477.0 2011-01-13            venture     10633300.0   \n",
       "217771     55477.0 2012-05-31            venture      2125720.0   \n",
       "217772    283492.0 2013-12-03            venture      3602480.0   \n",
       "217773    284191.0 2013-12-04            venture      7000000.0   \n",
       "\n",
       "        pre_money_valuation  participants  is_first_round  is_last_round  \\\n",
       "0                       0.0           2.0             0.0            1.0   \n",
       "1                       0.0           3.0             0.0            0.0   \n",
       "2                       0.0           4.0             1.0            0.0   \n",
       "3                       NaN           NaN             NaN            NaN   \n",
       "4                       NaN           NaN             NaN            NaN   \n",
       "...                     ...           ...             ...            ...   \n",
       "217769                  0.0           0.0             1.0            1.0   \n",
       "217770                  0.0           0.0             0.0            1.0   \n",
       "217771                  0.0           0.0             1.0            0.0   \n",
       "217772                  0.0           5.0             1.0            1.0   \n",
       "217773                  0.0           4.0             1.0            1.0   \n",
       "\n",
       "        funded_at_year  \n",
       "0               2005.0  \n",
       "1               2007.0  \n",
       "2               2008.0  \n",
       "3                  NaN  \n",
       "4                  NaN  \n",
       "...                ...  \n",
       "217769          2011.0  \n",
       "217770          2011.0  \n",
       "217771          2012.0  \n",
       "217772          2013.0  \n",
       "217773          2013.0  \n",
       "\n",
       "[217774 rows x 23 columns]"
      ]
     },
     "execution_count": 39,
     "metadata": {},
     "output_type": "execute_result"
    }
   ],
   "source": [
    "company_and_rounds"
   ]
  },
  {
   "cell_type": "code",
   "execution_count": 40,
   "metadata": {
    "id": "tJ6Sl6MKrJg1",
    "vscode": {
     "languageId": "plaintext"
    }
   },
   "outputs": [
    {
     "data": {
      "text/plain": [
       "31707"
      ]
     },
     "execution_count": 40,
     "metadata": {},
     "output_type": "execute_result"
    }
   ],
   "source": [
    "#Пересечений по столбцам company_ID и company_id \n",
    "len(set(company_and_rounds['company_ID']).intersection(company_and_rounds['company_id']))"
   ]
  },
  {
   "cell_type": "code",
   "execution_count": 41,
   "metadata": {},
   "outputs": [
    {
     "data": {
      "text/html": [
       "<div>\n",
       "<style scoped>\n",
       "    .dataframe tbody tr th:only-of-type {\n",
       "        vertical-align: middle;\n",
       "    }\n",
       "\n",
       "    .dataframe tbody tr th {\n",
       "        vertical-align: top;\n",
       "    }\n",
       "\n",
       "    .dataframe thead th {\n",
       "        text-align: right;\n",
       "    }\n",
       "</style>\n",
       "<table border=\"1\" class=\"dataframe\">\n",
       "  <thead>\n",
       "    <tr style=\"text-align: right;\">\n",
       "      <th></th>\n",
       "      <th>company_ID</th>\n",
       "      <th>name</th>\n",
       "      <th>category_code</th>\n",
       "      <th>status</th>\n",
       "      <th>founded_at</th>\n",
       "      <th>closed_at</th>\n",
       "      <th>domain</th>\n",
       "      <th>network_username</th>\n",
       "      <th>country_code</th>\n",
       "      <th>investment_rounds</th>\n",
       "      <th>funding_rounds</th>\n",
       "      <th>funding_total</th>\n",
       "      <th>milestones</th>\n",
       "    </tr>\n",
       "  </thead>\n",
       "  <tbody>\n",
       "    <tr>\n",
       "      <th>0</th>\n",
       "      <td>1.0</td>\n",
       "      <td>Wetpaint</td>\n",
       "      <td>web</td>\n",
       "      <td>operating</td>\n",
       "      <td>2005-10-17</td>\n",
       "      <td>NaT</td>\n",
       "      <td>wetpaint-inc.com</td>\n",
       "      <td>BachelrWetpaint</td>\n",
       "      <td>USA</td>\n",
       "      <td>0.0</td>\n",
       "      <td>3.0</td>\n",
       "      <td>39750000.0</td>\n",
       "      <td>5.0</td>\n",
       "    </tr>\n",
       "    <tr>\n",
       "      <th>1</th>\n",
       "      <td>1.0</td>\n",
       "      <td>Wetpaint</td>\n",
       "      <td>web</td>\n",
       "      <td>operating</td>\n",
       "      <td>2005-10-17</td>\n",
       "      <td>NaT</td>\n",
       "      <td>wetpaint-inc.com</td>\n",
       "      <td>BachelrWetpaint</td>\n",
       "      <td>USA</td>\n",
       "      <td>0.0</td>\n",
       "      <td>3.0</td>\n",
       "      <td>39750000.0</td>\n",
       "      <td>5.0</td>\n",
       "    </tr>\n",
       "    <tr>\n",
       "      <th>2</th>\n",
       "      <td>1.0</td>\n",
       "      <td>Wetpaint</td>\n",
       "      <td>web</td>\n",
       "      <td>operating</td>\n",
       "      <td>2005-10-17</td>\n",
       "      <td>NaT</td>\n",
       "      <td>wetpaint-inc.com</td>\n",
       "      <td>BachelrWetpaint</td>\n",
       "      <td>USA</td>\n",
       "      <td>0.0</td>\n",
       "      <td>3.0</td>\n",
       "      <td>39750000.0</td>\n",
       "      <td>5.0</td>\n",
       "    </tr>\n",
       "    <tr>\n",
       "      <th>3</th>\n",
       "      <td>10.0</td>\n",
       "      <td>Flektor</td>\n",
       "      <td>games_video</td>\n",
       "      <td>acquired</td>\n",
       "      <td>NaT</td>\n",
       "      <td>NaT</td>\n",
       "      <td>flektor.com</td>\n",
       "      <td>NaN</td>\n",
       "      <td>USA</td>\n",
       "      <td>0.0</td>\n",
       "      <td>0.0</td>\n",
       "      <td>0.0</td>\n",
       "      <td>0.0</td>\n",
       "    </tr>\n",
       "    <tr>\n",
       "      <th>4</th>\n",
       "      <td>100.0</td>\n",
       "      <td>There</td>\n",
       "      <td>games_video</td>\n",
       "      <td>acquired</td>\n",
       "      <td>NaT</td>\n",
       "      <td>NaT</td>\n",
       "      <td>there.com</td>\n",
       "      <td>NaN</td>\n",
       "      <td>USA</td>\n",
       "      <td>0.0</td>\n",
       "      <td>0.0</td>\n",
       "      <td>0.0</td>\n",
       "      <td>4.0</td>\n",
       "    </tr>\n",
       "    <tr>\n",
       "      <th>...</th>\n",
       "      <td>...</td>\n",
       "      <td>...</td>\n",
       "      <td>...</td>\n",
       "      <td>...</td>\n",
       "      <td>...</td>\n",
       "      <td>...</td>\n",
       "      <td>...</td>\n",
       "      <td>...</td>\n",
       "      <td>...</td>\n",
       "      <td>...</td>\n",
       "      <td>...</td>\n",
       "      <td>...</td>\n",
       "      <td>...</td>\n",
       "    </tr>\n",
       "    <tr>\n",
       "      <th>217769</th>\n",
       "      <td>NaN</td>\n",
       "      <td>NaN</td>\n",
       "      <td>NaN</td>\n",
       "      <td>NaN</td>\n",
       "      <td>NaT</td>\n",
       "      <td>NaT</td>\n",
       "      <td>NaN</td>\n",
       "      <td>NaN</td>\n",
       "      <td>NaN</td>\n",
       "      <td>NaN</td>\n",
       "      <td>NaN</td>\n",
       "      <td>NaN</td>\n",
       "      <td>NaN</td>\n",
       "    </tr>\n",
       "    <tr>\n",
       "      <th>217770</th>\n",
       "      <td>NaN</td>\n",
       "      <td>NaN</td>\n",
       "      <td>NaN</td>\n",
       "      <td>NaN</td>\n",
       "      <td>NaT</td>\n",
       "      <td>NaT</td>\n",
       "      <td>NaN</td>\n",
       "      <td>NaN</td>\n",
       "      <td>NaN</td>\n",
       "      <td>NaN</td>\n",
       "      <td>NaN</td>\n",
       "      <td>NaN</td>\n",
       "      <td>NaN</td>\n",
       "    </tr>\n",
       "    <tr>\n",
       "      <th>217771</th>\n",
       "      <td>NaN</td>\n",
       "      <td>NaN</td>\n",
       "      <td>NaN</td>\n",
       "      <td>NaN</td>\n",
       "      <td>NaT</td>\n",
       "      <td>NaT</td>\n",
       "      <td>NaN</td>\n",
       "      <td>NaN</td>\n",
       "      <td>NaN</td>\n",
       "      <td>NaN</td>\n",
       "      <td>NaN</td>\n",
       "      <td>NaN</td>\n",
       "      <td>NaN</td>\n",
       "    </tr>\n",
       "    <tr>\n",
       "      <th>217772</th>\n",
       "      <td>NaN</td>\n",
       "      <td>NaN</td>\n",
       "      <td>NaN</td>\n",
       "      <td>NaN</td>\n",
       "      <td>NaT</td>\n",
       "      <td>NaT</td>\n",
       "      <td>NaN</td>\n",
       "      <td>NaN</td>\n",
       "      <td>NaN</td>\n",
       "      <td>NaN</td>\n",
       "      <td>NaN</td>\n",
       "      <td>NaN</td>\n",
       "      <td>NaN</td>\n",
       "    </tr>\n",
       "    <tr>\n",
       "      <th>217773</th>\n",
       "      <td>NaN</td>\n",
       "      <td>NaN</td>\n",
       "      <td>NaN</td>\n",
       "      <td>NaN</td>\n",
       "      <td>NaT</td>\n",
       "      <td>NaT</td>\n",
       "      <td>NaN</td>\n",
       "      <td>NaN</td>\n",
       "      <td>NaN</td>\n",
       "      <td>NaN</td>\n",
       "      <td>NaN</td>\n",
       "      <td>NaN</td>\n",
       "      <td>NaN</td>\n",
       "    </tr>\n",
       "  </tbody>\n",
       "</table>\n",
       "<p>217774 rows × 13 columns</p>\n",
       "</div>"
      ],
      "text/plain": [
       "        company_ID      name category_code     status founded_at closed_at  \\\n",
       "0              1.0  Wetpaint           web  operating 2005-10-17       NaT   \n",
       "1              1.0  Wetpaint           web  operating 2005-10-17       NaT   \n",
       "2              1.0  Wetpaint           web  operating 2005-10-17       NaT   \n",
       "3             10.0   Flektor   games_video   acquired        NaT       NaT   \n",
       "4            100.0     There   games_video   acquired        NaT       NaT   \n",
       "...            ...       ...           ...        ...        ...       ...   \n",
       "217769         NaN       NaN           NaN        NaN        NaT       NaT   \n",
       "217770         NaN       NaN           NaN        NaN        NaT       NaT   \n",
       "217771         NaN       NaN           NaN        NaN        NaT       NaT   \n",
       "217772         NaN       NaN           NaN        NaN        NaT       NaT   \n",
       "217773         NaN       NaN           NaN        NaN        NaT       NaT   \n",
       "\n",
       "                  domain network_username country_code  investment_rounds  \\\n",
       "0       wetpaint-inc.com  BachelrWetpaint          USA                0.0   \n",
       "1       wetpaint-inc.com  BachelrWetpaint          USA                0.0   \n",
       "2       wetpaint-inc.com  BachelrWetpaint          USA                0.0   \n",
       "3            flektor.com              NaN          USA                0.0   \n",
       "4              there.com              NaN          USA                0.0   \n",
       "...                  ...              ...          ...                ...   \n",
       "217769               NaN              NaN          NaN                NaN   \n",
       "217770               NaN              NaN          NaN                NaN   \n",
       "217771               NaN              NaN          NaN                NaN   \n",
       "217772               NaN              NaN          NaN                NaN   \n",
       "217773               NaN              NaN          NaN                NaN   \n",
       "\n",
       "        funding_rounds  funding_total  milestones  \n",
       "0                  3.0     39750000.0         5.0  \n",
       "1                  3.0     39750000.0         5.0  \n",
       "2                  3.0     39750000.0         5.0  \n",
       "3                  0.0            0.0         0.0  \n",
       "4                  0.0            0.0         4.0  \n",
       "...                ...            ...         ...  \n",
       "217769             NaN            NaN         NaN  \n",
       "217770             NaN            NaN         NaN  \n",
       "217771             NaN            NaN         NaN  \n",
       "217772             NaN            NaN         NaN  \n",
       "217773             NaN            NaN         NaN  \n",
       "\n",
       "[217774 rows x 13 columns]"
      ]
     },
     "execution_count": 41,
     "metadata": {},
     "output_type": "execute_result"
    }
   ],
   "source": [
    "#Выделим таблицу с компаниями по столбцам\n",
    "companies = company_and_rounds.iloc[:, :13]\n",
    "companies"
   ]
  },
  {
   "cell_type": "code",
   "execution_count": 42,
   "metadata": {},
   "outputs": [
    {
     "name": "stdout",
     "output_type": "stream",
     "text": [
      "<class 'pandas.core.frame.DataFrame'>\n",
      "Int64Index: 196553 entries, 0 to 217469\n",
      "Data columns (total 13 columns):\n",
      " #   Column             Non-Null Count   Dtype         \n",
      "---  ------             --------------   -----         \n",
      " 0   company_ID         196553 non-null  float64       \n",
      " 1   name               196553 non-null  object        \n",
      " 2   category_code      123186 non-null  object        \n",
      " 3   status             196553 non-null  object        \n",
      " 4   founded_at         91227 non-null   datetime64[ns]\n",
      " 5   closed_at          2620 non-null    datetime64[ns]\n",
      " 6   domain             126545 non-null  object        \n",
      " 7   network_username   80591 non-null   object        \n",
      " 8   country_code       87990 non-null   object        \n",
      " 9   investment_rounds  196553 non-null  float64       \n",
      " 10  funding_rounds     196553 non-null  float64       \n",
      " 11  funding_total      196553 non-null  float64       \n",
      " 12  milestones         196553 non-null  float64       \n",
      "dtypes: datetime64[ns](2), float64(5), object(6)\n",
      "memory usage: 21.0+ MB\n"
     ]
    }
   ],
   "source": [
    "#удалим строки с отсутствующими данными в company_ID и полные, явные дубликаты\n",
    "companies = companies.dropna(subset=['company_ID'])\n",
    "companies= companies.drop_duplicates()\n",
    "companies.info()"
   ]
  },
  {
   "cell_type": "code",
   "execution_count": 43,
   "metadata": {},
   "outputs": [
    {
     "data": {
      "text/html": [
       "<div>\n",
       "<style scoped>\n",
       "    .dataframe tbody tr th:only-of-type {\n",
       "        vertical-align: middle;\n",
       "    }\n",
       "\n",
       "    .dataframe tbody tr th {\n",
       "        vertical-align: top;\n",
       "    }\n",
       "\n",
       "    .dataframe thead th {\n",
       "        text-align: right;\n",
       "    }\n",
       "</style>\n",
       "<table border=\"1\" class=\"dataframe\">\n",
       "  <thead>\n",
       "    <tr style=\"text-align: right;\">\n",
       "      <th></th>\n",
       "      <th>funding_round_id</th>\n",
       "      <th>company_id</th>\n",
       "      <th>funded_at</th>\n",
       "      <th>funding_round_type</th>\n",
       "      <th>raised_amount</th>\n",
       "      <th>pre_money_valuation</th>\n",
       "      <th>participants</th>\n",
       "      <th>is_first_round</th>\n",
       "      <th>is_last_round</th>\n",
       "      <th>funded_at_year</th>\n",
       "    </tr>\n",
       "  </thead>\n",
       "  <tbody>\n",
       "    <tr>\n",
       "      <th>0</th>\n",
       "      <td>888.0</td>\n",
       "      <td>1.0</td>\n",
       "      <td>2005-10-01</td>\n",
       "      <td>series-a</td>\n",
       "      <td>5250000.0</td>\n",
       "      <td>0.0</td>\n",
       "      <td>2.0</td>\n",
       "      <td>0.0</td>\n",
       "      <td>1.0</td>\n",
       "      <td>2005.0</td>\n",
       "    </tr>\n",
       "    <tr>\n",
       "      <th>1</th>\n",
       "      <td>889.0</td>\n",
       "      <td>1.0</td>\n",
       "      <td>2007-01-01</td>\n",
       "      <td>series-b</td>\n",
       "      <td>9500000.0</td>\n",
       "      <td>0.0</td>\n",
       "      <td>3.0</td>\n",
       "      <td>0.0</td>\n",
       "      <td>0.0</td>\n",
       "      <td>2007.0</td>\n",
       "    </tr>\n",
       "    <tr>\n",
       "      <th>2</th>\n",
       "      <td>2312.0</td>\n",
       "      <td>1.0</td>\n",
       "      <td>2008-05-19</td>\n",
       "      <td>series-c+</td>\n",
       "      <td>25000000.0</td>\n",
       "      <td>0.0</td>\n",
       "      <td>4.0</td>\n",
       "      <td>1.0</td>\n",
       "      <td>0.0</td>\n",
       "      <td>2008.0</td>\n",
       "    </tr>\n",
       "    <tr>\n",
       "      <th>3</th>\n",
       "      <td>NaN</td>\n",
       "      <td>NaN</td>\n",
       "      <td>NaT</td>\n",
       "      <td>NaN</td>\n",
       "      <td>NaN</td>\n",
       "      <td>NaN</td>\n",
       "      <td>NaN</td>\n",
       "      <td>NaN</td>\n",
       "      <td>NaN</td>\n",
       "      <td>NaN</td>\n",
       "    </tr>\n",
       "    <tr>\n",
       "      <th>4</th>\n",
       "      <td>NaN</td>\n",
       "      <td>NaN</td>\n",
       "      <td>NaT</td>\n",
       "      <td>NaN</td>\n",
       "      <td>NaN</td>\n",
       "      <td>NaN</td>\n",
       "      <td>NaN</td>\n",
       "      <td>NaN</td>\n",
       "      <td>NaN</td>\n",
       "      <td>NaN</td>\n",
       "    </tr>\n",
       "    <tr>\n",
       "      <th>...</th>\n",
       "      <td>...</td>\n",
       "      <td>...</td>\n",
       "      <td>...</td>\n",
       "      <td>...</td>\n",
       "      <td>...</td>\n",
       "      <td>...</td>\n",
       "      <td>...</td>\n",
       "      <td>...</td>\n",
       "      <td>...</td>\n",
       "      <td>...</td>\n",
       "    </tr>\n",
       "    <tr>\n",
       "      <th>217769</th>\n",
       "      <td>56454.0</td>\n",
       "      <td>282847.0</td>\n",
       "      <td>2011-01-31</td>\n",
       "      <td>other</td>\n",
       "      <td>5500000.0</td>\n",
       "      <td>0.0</td>\n",
       "      <td>0.0</td>\n",
       "      <td>1.0</td>\n",
       "      <td>1.0</td>\n",
       "      <td>2011.0</td>\n",
       "    </tr>\n",
       "    <tr>\n",
       "      <th>217770</th>\n",
       "      <td>56542.0</td>\n",
       "      <td>55477.0</td>\n",
       "      <td>2011-01-13</td>\n",
       "      <td>venture</td>\n",
       "      <td>10633300.0</td>\n",
       "      <td>0.0</td>\n",
       "      <td>0.0</td>\n",
       "      <td>0.0</td>\n",
       "      <td>1.0</td>\n",
       "      <td>2011.0</td>\n",
       "    </tr>\n",
       "    <tr>\n",
       "      <th>217771</th>\n",
       "      <td>56543.0</td>\n",
       "      <td>55477.0</td>\n",
       "      <td>2012-05-31</td>\n",
       "      <td>venture</td>\n",
       "      <td>2125720.0</td>\n",
       "      <td>0.0</td>\n",
       "      <td>0.0</td>\n",
       "      <td>1.0</td>\n",
       "      <td>0.0</td>\n",
       "      <td>2012.0</td>\n",
       "    </tr>\n",
       "    <tr>\n",
       "      <th>217772</th>\n",
       "      <td>56928.0</td>\n",
       "      <td>283492.0</td>\n",
       "      <td>2013-12-03</td>\n",
       "      <td>venture</td>\n",
       "      <td>3602480.0</td>\n",
       "      <td>0.0</td>\n",
       "      <td>5.0</td>\n",
       "      <td>1.0</td>\n",
       "      <td>1.0</td>\n",
       "      <td>2013.0</td>\n",
       "    </tr>\n",
       "    <tr>\n",
       "      <th>217773</th>\n",
       "      <td>57063.0</td>\n",
       "      <td>284191.0</td>\n",
       "      <td>2013-12-04</td>\n",
       "      <td>venture</td>\n",
       "      <td>7000000.0</td>\n",
       "      <td>0.0</td>\n",
       "      <td>4.0</td>\n",
       "      <td>1.0</td>\n",
       "      <td>1.0</td>\n",
       "      <td>2013.0</td>\n",
       "    </tr>\n",
       "  </tbody>\n",
       "</table>\n",
       "<p>217774 rows × 10 columns</p>\n",
       "</div>"
      ],
      "text/plain": [
       "        funding_round_id  company_id  funded_at funding_round_type  \\\n",
       "0                  888.0         1.0 2005-10-01           series-a   \n",
       "1                  889.0         1.0 2007-01-01           series-b   \n",
       "2                 2312.0         1.0 2008-05-19          series-c+   \n",
       "3                    NaN         NaN        NaT                NaN   \n",
       "4                    NaN         NaN        NaT                NaN   \n",
       "...                  ...         ...        ...                ...   \n",
       "217769           56454.0    282847.0 2011-01-31              other   \n",
       "217770           56542.0     55477.0 2011-01-13            venture   \n",
       "217771           56543.0     55477.0 2012-05-31            venture   \n",
       "217772           56928.0    283492.0 2013-12-03            venture   \n",
       "217773           57063.0    284191.0 2013-12-04            venture   \n",
       "\n",
       "        raised_amount  pre_money_valuation  participants  is_first_round  \\\n",
       "0           5250000.0                  0.0           2.0             0.0   \n",
       "1           9500000.0                  0.0           3.0             0.0   \n",
       "2          25000000.0                  0.0           4.0             1.0   \n",
       "3                 NaN                  NaN           NaN             NaN   \n",
       "4                 NaN                  NaN           NaN             NaN   \n",
       "...               ...                  ...           ...             ...   \n",
       "217769      5500000.0                  0.0           0.0             1.0   \n",
       "217770     10633300.0                  0.0           0.0             0.0   \n",
       "217771      2125720.0                  0.0           0.0             1.0   \n",
       "217772      3602480.0                  0.0           5.0             1.0   \n",
       "217773      7000000.0                  0.0           4.0             1.0   \n",
       "\n",
       "        is_last_round  funded_at_year  \n",
       "0                 1.0          2005.0  \n",
       "1                 0.0          2007.0  \n",
       "2                 0.0          2008.0  \n",
       "3                 NaN             NaN  \n",
       "4                 NaN             NaN  \n",
       "...               ...             ...  \n",
       "217769            1.0          2011.0  \n",
       "217770            1.0          2011.0  \n",
       "217771            0.0          2012.0  \n",
       "217772            1.0          2013.0  \n",
       "217773            1.0          2013.0  \n",
       "\n",
       "[217774 rows x 10 columns]"
      ]
     },
     "execution_count": 43,
     "metadata": {},
     "output_type": "execute_result"
    }
   ],
   "source": [
    "#Выделим таблицу с раундами по столбцам\n",
    "rounds = company_and_rounds.iloc[:, 13:]\n",
    "rounds"
   ]
  },
  {
   "cell_type": "code",
   "execution_count": 44,
   "metadata": {},
   "outputs": [
    {
     "name": "stdout",
     "output_type": "stream",
     "text": [
      "<class 'pandas.core.frame.DataFrame'>\n",
      "Int64Index: 52928 entries, 0 to 217773\n",
      "Data columns (total 10 columns):\n",
      " #   Column               Non-Null Count  Dtype         \n",
      "---  ------               --------------  -----         \n",
      " 0   funding_round_id     52928 non-null  float64       \n",
      " 1   company_id           52928 non-null  float64       \n",
      " 2   funded_at            52680 non-null  datetime64[ns]\n",
      " 3   funding_round_type   52928 non-null  object        \n",
      " 4   raised_amount        52928 non-null  float64       \n",
      " 5   pre_money_valuation  52928 non-null  float64       \n",
      " 6   participants         52928 non-null  float64       \n",
      " 7   is_first_round       52928 non-null  float64       \n",
      " 8   is_last_round        52928 non-null  float64       \n",
      " 9   funded_at_year       52680 non-null  float64       \n",
      "dtypes: datetime64[ns](1), float64(8), object(1)\n",
      "memory usage: 4.4+ MB\n"
     ]
    }
   ],
   "source": [
    "#удалим строки с отсутствующими данными в funding_round_id и полные, явные дубликаты\n",
    "rounds = rounds.dropna(subset=['funding_round_id'])\n",
    "rounds= rounds.drop_duplicates()\n",
    "rounds.info()"
   ]
  },
  {
   "cell_type": "markdown",
   "metadata": {},
   "source": [
    "Получили два отдельных датафрейма companies и rounds. Таким образом, будем удобнее отобрать компании по параметрам и рассчитать показатели из расчёта на одну компанию без промежуточных агрегаций."
   ]
  },
  {
   "cell_type": "markdown",
   "metadata": {
    "id": "bmVYhphNrJg2"
   },
   "source": [
    "<a class=\"anchor\" id=\"7-bullet\"></a>\n",
    "## Шаг 3. Исследовательский анализ объединённых таблиц\n",
    "\n"
   ]
  },
  {
   "cell_type": "markdown",
   "metadata": {
    "id": "3Di6tCT3rJg2"
   },
   "source": [
    "<a class=\"anchor\" id=\"8-bullet\"></a>\n",
    "### 3.1. Объединение данных\n",
    "\n",
    "Заказчика интересуют те компании, которые меняли или готовы менять владельцев. Получение инвестиций или финансирования, по мнению заказчика, означает интерес к покупке или продаже компании."
   ]
  },
  {
   "cell_type": "code",
   "execution_count": 45,
   "metadata": {
    "id": "kuV1b5MXFg3_"
   },
   "outputs": [],
   "source": [
    "#Отбираем компании по условию задания\n",
    "companies=companies.loc[(companies['funding_rounds']>0) | (companies['investment_rounds']>0) | \n",
    "                        (companies['status']=='acquired')]"
   ]
  },
  {
   "cell_type": "code",
   "execution_count": 46,
   "metadata": {
    "id": "93v3fEX5FgtP"
   },
   "outputs": [
    {
     "name": "stdout",
     "output_type": "stream",
     "text": [
      "<class 'pandas.core.frame.DataFrame'>\n",
      "Int64Index: 40890 entries, 0 to 40889\n",
      "Data columns (total 19 columns):\n",
      " #   Column                Non-Null Count  Dtype         \n",
      "---  ------                --------------  -----         \n",
      " 0   company_ID            40890 non-null  float64       \n",
      " 1   name                  40890 non-null  object        \n",
      " 2   category_code         35436 non-null  object        \n",
      " 3   status                40890 non-null  object        \n",
      " 4   founded_at            27911 non-null  datetime64[ns]\n",
      " 5   closed_at             2128 non-null   datetime64[ns]\n",
      " 6   domain                35883 non-null  object        \n",
      " 7   network_username      20938 non-null  object        \n",
      " 8   country_code          34858 non-null  object        \n",
      " 9   investment_rounds     40890 non-null  float64       \n",
      " 10  funding_rounds        40890 non-null  float64       \n",
      " 11  funding_total         40890 non-null  float64       \n",
      " 12  milestones            40890 non-null  float64       \n",
      " 13  id                    9390 non-null   float64       \n",
      " 14  acquiring_company_id  9390 non-null   float64       \n",
      " 15  acquired_company_id   9390 non-null   float64       \n",
      " 16  term_code             1830 non-null   object        \n",
      " 17  price_amount          9390 non-null   float64       \n",
      " 18  acquired_at           9361 non-null   datetime64[ns]\n",
      "dtypes: datetime64[ns](3), float64(9), object(7)\n",
      "memory usage: 6.2+ MB\n"
     ]
    }
   ],
   "source": [
    "# Объединяем датафреймы\n",
    "companies_new=companies.merge(acquisition, left_on='company_ID', right_on='acquired_company_id', how='left')\n",
    "companies_new.drop_duplicates()\n",
    "companies_new.info()"
   ]
  },
  {
   "cell_type": "code",
   "execution_count": 47,
   "metadata": {},
   "outputs": [
    {
     "data": {
      "text/html": [
       "<div>\n",
       "<style scoped>\n",
       "    .dataframe tbody tr th:only-of-type {\n",
       "        vertical-align: middle;\n",
       "    }\n",
       "\n",
       "    .dataframe tbody tr th {\n",
       "        vertical-align: top;\n",
       "    }\n",
       "\n",
       "    .dataframe thead th {\n",
       "        text-align: right;\n",
       "    }\n",
       "</style>\n",
       "<table border=\"1\" class=\"dataframe\">\n",
       "  <thead>\n",
       "    <tr style=\"text-align: right;\">\n",
       "      <th></th>\n",
       "      <th>company_ID</th>\n",
       "      <th>name</th>\n",
       "      <th>category_code</th>\n",
       "      <th>status</th>\n",
       "      <th>founded_at</th>\n",
       "      <th>closed_at</th>\n",
       "      <th>domain</th>\n",
       "      <th>network_username</th>\n",
       "      <th>country_code</th>\n",
       "      <th>investment_rounds</th>\n",
       "      <th>funding_rounds</th>\n",
       "      <th>funding_total</th>\n",
       "      <th>milestones</th>\n",
       "      <th>id</th>\n",
       "      <th>acquiring_company_id</th>\n",
       "      <th>acquired_company_id</th>\n",
       "      <th>term_code</th>\n",
       "      <th>price_amount</th>\n",
       "      <th>acquired_at</th>\n",
       "    </tr>\n",
       "  </thead>\n",
       "  <tbody>\n",
       "    <tr>\n",
       "      <th>0</th>\n",
       "      <td>1.0</td>\n",
       "      <td>Wetpaint</td>\n",
       "      <td>web</td>\n",
       "      <td>operating</td>\n",
       "      <td>2005-10-17</td>\n",
       "      <td>NaT</td>\n",
       "      <td>wetpaint-inc.com</td>\n",
       "      <td>BachelrWetpaint</td>\n",
       "      <td>USA</td>\n",
       "      <td>0.0</td>\n",
       "      <td>3.0</td>\n",
       "      <td>39750000.0</td>\n",
       "      <td>5.0</td>\n",
       "      <td>NaN</td>\n",
       "      <td>NaN</td>\n",
       "      <td>NaN</td>\n",
       "      <td>NaN</td>\n",
       "      <td>NaN</td>\n",
       "      <td>NaT</td>\n",
       "    </tr>\n",
       "    <tr>\n",
       "      <th>1</th>\n",
       "      <td>10.0</td>\n",
       "      <td>Flektor</td>\n",
       "      <td>games_video</td>\n",
       "      <td>acquired</td>\n",
       "      <td>NaT</td>\n",
       "      <td>NaT</td>\n",
       "      <td>flektor.com</td>\n",
       "      <td>NaN</td>\n",
       "      <td>USA</td>\n",
       "      <td>0.0</td>\n",
       "      <td>0.0</td>\n",
       "      <td>0.0</td>\n",
       "      <td>0.0</td>\n",
       "      <td>1.0</td>\n",
       "      <td>11.0</td>\n",
       "      <td>10.0</td>\n",
       "      <td>NaN</td>\n",
       "      <td>20000000.0</td>\n",
       "      <td>2007-05-30</td>\n",
       "    </tr>\n",
       "    <tr>\n",
       "      <th>2</th>\n",
       "      <td>100.0</td>\n",
       "      <td>There</td>\n",
       "      <td>games_video</td>\n",
       "      <td>acquired</td>\n",
       "      <td>NaT</td>\n",
       "      <td>NaT</td>\n",
       "      <td>there.com</td>\n",
       "      <td>NaN</td>\n",
       "      <td>USA</td>\n",
       "      <td>0.0</td>\n",
       "      <td>0.0</td>\n",
       "      <td>0.0</td>\n",
       "      <td>4.0</td>\n",
       "      <td>20.0</td>\n",
       "      <td>377.0</td>\n",
       "      <td>100.0</td>\n",
       "      <td>cash</td>\n",
       "      <td>0.0</td>\n",
       "      <td>2005-05-29</td>\n",
       "    </tr>\n",
       "    <tr>\n",
       "      <th>3</th>\n",
       "      <td>1001.0</td>\n",
       "      <td>FriendFeed</td>\n",
       "      <td>web</td>\n",
       "      <td>acquired</td>\n",
       "      <td>2007-10-01</td>\n",
       "      <td>NaT</td>\n",
       "      <td>friendfeed.com</td>\n",
       "      <td>friendfeed</td>\n",
       "      <td>USA</td>\n",
       "      <td>0.0</td>\n",
       "      <td>1.0</td>\n",
       "      <td>5000000.0</td>\n",
       "      <td>3.0</td>\n",
       "      <td>1901.0</td>\n",
       "      <td>5.0</td>\n",
       "      <td>1001.0</td>\n",
       "      <td>cash_and_stock</td>\n",
       "      <td>47500000.0</td>\n",
       "      <td>2009-08-10</td>\n",
       "    </tr>\n",
       "    <tr>\n",
       "      <th>4</th>\n",
       "      <td>10014.0</td>\n",
       "      <td>Mobclix</td>\n",
       "      <td>mobile</td>\n",
       "      <td>acquired</td>\n",
       "      <td>2008-03-01</td>\n",
       "      <td>NaT</td>\n",
       "      <td>mobclix.com</td>\n",
       "      <td>mobclix</td>\n",
       "      <td>USA</td>\n",
       "      <td>0.0</td>\n",
       "      <td>1.0</td>\n",
       "      <td>0.0</td>\n",
       "      <td>4.0</td>\n",
       "      <td>3878.0</td>\n",
       "      <td>23054.0</td>\n",
       "      <td>10014.0</td>\n",
       "      <td>NaN</td>\n",
       "      <td>0.0</td>\n",
       "      <td>2010-09-30</td>\n",
       "    </tr>\n",
       "  </tbody>\n",
       "</table>\n",
       "</div>"
      ],
      "text/plain": [
       "   company_ID        name category_code     status founded_at closed_at  \\\n",
       "0         1.0    Wetpaint           web  operating 2005-10-17       NaT   \n",
       "1        10.0     Flektor   games_video   acquired        NaT       NaT   \n",
       "2       100.0       There   games_video   acquired        NaT       NaT   \n",
       "3      1001.0  FriendFeed           web   acquired 2007-10-01       NaT   \n",
       "4     10014.0     Mobclix        mobile   acquired 2008-03-01       NaT   \n",
       "\n",
       "             domain network_username country_code  investment_rounds  \\\n",
       "0  wetpaint-inc.com  BachelrWetpaint          USA                0.0   \n",
       "1       flektor.com              NaN          USA                0.0   \n",
       "2         there.com              NaN          USA                0.0   \n",
       "3    friendfeed.com       friendfeed          USA                0.0   \n",
       "4       mobclix.com          mobclix          USA                0.0   \n",
       "\n",
       "   funding_rounds  funding_total  milestones      id  acquiring_company_id  \\\n",
       "0             3.0     39750000.0         5.0     NaN                   NaN   \n",
       "1             0.0            0.0         0.0     1.0                  11.0   \n",
       "2             0.0            0.0         4.0    20.0                 377.0   \n",
       "3             1.0      5000000.0         3.0  1901.0                   5.0   \n",
       "4             1.0            0.0         4.0  3878.0               23054.0   \n",
       "\n",
       "   acquired_company_id       term_code  price_amount acquired_at  \n",
       "0                  NaN             NaN           NaN         NaT  \n",
       "1                 10.0             NaN    20000000.0  2007-05-30  \n",
       "2                100.0            cash           0.0  2005-05-29  \n",
       "3               1001.0  cash_and_stock    47500000.0  2009-08-10  \n",
       "4              10014.0             NaN           0.0  2010-09-30  "
      ]
     },
     "execution_count": 47,
     "metadata": {},
     "output_type": "execute_result"
    }
   ],
   "source": [
    "companies_new.head()"
   ]
  },
  {
   "cell_type": "markdown",
   "metadata": {
    "id": "DFHINkV3rJg2"
   },
   "source": [
    "<a class=\"anchor\" id=\"9-bullet\"></a>\n",
    "### 3.2. Анализ выбросов\n",
    "\n",
    "\n",
    "- По предобработанному столбцу `funding_total` графическим способом необходимо оценить, какой размер общего финансирования для одной компании будет типичным, а какой — выбивающимся."
   ]
  },
  {
   "cell_type": "code",
   "execution_count": 48,
   "metadata": {
    "id": "8jm75fKXrJg2",
    "vscode": {
     "languageId": "plaintext"
    }
   },
   "outputs": [
    {
     "data": {
      "text/plain": [
       "count    4.089000e+04\n",
       "mean     1.013559e+07\n",
       "std      5.641289e+07\n",
       "min      0.000000e+00\n",
       "25%      0.000000e+00\n",
       "50%      6.000000e+05\n",
       "75%      5.631320e+06\n",
       "max      5.700000e+09\n",
       "Name: funding_total, dtype: float64"
      ]
     },
     "execution_count": 48,
     "metadata": {},
     "output_type": "execute_result"
    }
   ],
   "source": [
    "companies_new['funding_total'].describe()"
   ]
  },
  {
   "cell_type": "code",
   "execution_count": 49,
   "metadata": {
    "id": "S1jrfr7rFhcw"
   },
   "outputs": [],
   "source": [
    "#Чтобы экспоненциальную запись цифр приведем к млн, разделив на 1000000\n",
    "companies_new['funding_total_mln']=companies_new['funding_total']/1000000"
   ]
  },
  {
   "cell_type": "code",
   "execution_count": 50,
   "metadata": {},
   "outputs": [
    {
     "data": {
      "text/plain": [
       "count    40890.000000\n",
       "mean        10.135586\n",
       "std         56.412887\n",
       "min          0.000000\n",
       "25%          0.000000\n",
       "50%          0.600000\n",
       "75%          5.631320\n",
       "max       5700.000000\n",
       "Name: funding_total_mln, dtype: float64"
      ]
     },
     "execution_count": 50,
     "metadata": {},
     "output_type": "execute_result"
    }
   ],
   "source": [
    "companies_new['funding_total_mln'].describe()"
   ]
  },
  {
   "cell_type": "code",
   "execution_count": 51,
   "metadata": {},
   "outputs": [
    {
     "data": {
      "image/png": "[encoded data removed]",
      "text/plain": [
       "<Figure size 1200x600 with 1 Axes>"
      ]
     },
     "metadata": {},
     "output_type": "display_data"
    }
   ],
   "source": [
    "plt.figure(figsize=(12,6))\n",
    "plt.boxplot(companies_new['funding_total_mln'],\n",
    "            vert=False,\n",
    "            flierprops=dict(markerfacecolor='blue',\n",
    "            marker='o'))\n",
    "plt.title('Распределение funding_total в млн')\n",
    "plt.xlabel('funding_total в млн')\n",
    "plt.show()"
   ]
  },
  {
   "cell_type": "markdown",
   "metadata": {},
   "source": [
    "Учитывая большие выбросы данных, медиана(0,6) и среднее (10.14) сильно различаются - стандартное отклонение 56.41.\n",
    "Уберем выбросы на графике, чтобы оценить границы межквартильного интервала."
   ]
  },
  {
   "cell_type": "code",
   "execution_count": 52,
   "metadata": {},
   "outputs": [
    {
     "data": {
      "image/png": "[encoded data removed]",
      "text/plain": [
       "<Figure size 1200x300 with 1 Axes>"
      ]
     },
     "metadata": {},
     "output_type": "display_data"
    }
   ],
   "source": [
    "plt.figure(figsize=(12,3))\n",
    "plt.boxplot(companies_new['funding_total_mln'],\n",
    "            vert=False,\n",
    "            showfliers=False\n",
    "            )\n",
    "plt.title('Распределение funding_total в млн')\n",
    "plt.xlabel('funding_total в млн')\n",
    "plt.grid(True)\n",
    "plt.show()"
   ]
  },
  {
   "cell_type": "code",
   "execution_count": 53,
   "metadata": {},
   "outputs": [
    {
     "data": {
      "image/png": "[encoded data removed]",
      "text/plain": [
       "<Figure size 1000x600 with 1 Axes>"
      ]
     },
     "metadata": {},
     "output_type": "display_data"
    }
   ],
   "source": [
    "plt.figure(figsize=(10, 6)) \n",
    "plt.hist(companies_new['funding_total'], bins=50, color='skyblue', edgecolor='black', log=True) \n",
    "plt.xscale('log') # Логарифмическая шкала по оси X plt.xlabel('Общее финансирование (логарифмическая шкала)') \n",
    "plt.ylabel('Количество компаний') \n",
    "plt.title('Распределение общего финансирования логарифмическая шкала') \n",
    "plt.show()"
   ]
  },
  {
   "cell_type": "markdown",
   "metadata": {},
   "source": [
    "Финансирование от 0 до 5.63 млн - типичное, наиболее часто встречающийся объем финансирования - 0,6 млн(медианное значение). Более 14 млн - выбивающиеся значения (выбросы). "
   ]
  },
  {
   "cell_type": "markdown",
   "metadata": {
    "id": "JqkRAQrIrJg2"
   },
   "source": [
    "<a class=\"anchor\" id=\"10-bullet\"></a>\n",
    "### 3.3. Куплены забесплатно?\n",
    "\n",
    "- Исследуем компании, которые были проданы за ноль или за один доллар, и при этом известно, что у них был ненулевой общий объём финансирования.\n"
   ]
  },
  {
   "cell_type": "code",
   "execution_count": 54,
   "metadata": {
    "id": "wJHXCBwwrJg2",
    "vscode": {
     "languageId": "plaintext"
    }
   },
   "outputs": [],
   "source": [
    "#Фильтруем компании которые были проданы за ноль или за один доллар, и при этом известно, что у них был ненулевой общий объём финансирования\n",
    "companies_zero=companies_new[((companies_new['price_amount']==0)|(companies_new['price_amount']==1))&(companies_new['funding_total']>0)]"
   ]
  },
  {
   "cell_type": "code",
   "execution_count": 55,
   "metadata": {
    "id": "9IDTHfYQFhuX"
   },
   "outputs": [
    {
     "name": "stdout",
     "output_type": "stream",
     "text": [
      "Нижняя граница выбросов -18.25\n",
      "Верхняя граница выбросов 35.75\n"
     ]
    }
   ],
   "source": [
    "q1=companies_zero['funding_total_mln'].quantile(0.25)\n",
    "q3 = companies_zero['funding_total_mln'].quantile(0.75)\n",
    "iqr=q3-q1\n",
    "print(f\"Нижняя граница выбросов {q1 - 1.5 * iqr}\") \n",
    "print(f\"Верхняя граница выбросов {q3 + 1.5 * iqr}\")"
   ]
  },
  {
   "cell_type": "code",
   "execution_count": 56,
   "metadata": {},
   "outputs": [
    {
     "data": {
      "text/plain": [
       "count    1618.000000\n",
       "mean       18.152962\n",
       "std       144.503027\n",
       "min         0.003750\n",
       "25%         2.000000\n",
       "50%         6.000000\n",
       "75%        15.500000\n",
       "max      5700.000000\n",
       "Name: funding_total_mln, dtype: float64"
      ]
     },
     "execution_count": 56,
     "metadata": {},
     "output_type": "execute_result"
    }
   ],
   "source": [
    "companies_zero['funding_total_mln'].describe()"
   ]
  },
  {
   "cell_type": "code",
   "execution_count": 57,
   "metadata": {},
   "outputs": [
    {
     "data": {
      "text/plain": [
       "0.91"
      ]
     },
     "execution_count": 57,
     "metadata": {},
     "output_type": "execute_result"
    }
   ],
   "source": [
    "#Определим каком перцентилю соответсвует верхняя граница\n",
    "(companies_zero[companies_zero['funding_total_mln'] < 35.75]['funding_total_mln'].count()/companies_zero['funding_total_mln'].count()).round(decimals=2)"
   ]
  },
  {
   "cell_type": "markdown",
   "metadata": {},
   "source": [
    "Учитывая, что финансирование не может быть отрицательным, нижняя граница выбросов - 0(0 перцентиль), верхняя граница выбросов 35.75 млн (более 0.91 перцентиля). "
   ]
  },
  {
   "cell_type": "markdown",
   "metadata": {
    "id": "mEiWpROjrJg2"
   },
   "source": [
    "<a class=\"anchor\" id=\"11-bullet\"></a>\n",
    "### 3.4. Цены стартапов по категориям\n",
    "\n",
    "Категории стартапов с типично высокими ценами покупки стартапов и значительным разбросом цен могут быть привлекательными для крупных инвесторов, которые готовы к высоким рискам ради потенциально больших доходов. Среди категорий стартапов выделим те, которые характеризуются:\n",
    "\n",
    "- типично высокими ценами;\n",
    "- и наибольшим разбросом цен за стартап.\n"
   ]
  },
  {
   "cell_type": "code",
   "execution_count": 58,
   "metadata": {},
   "outputs": [],
   "source": [
    "#Добавим столбец price_amount_mln (в миллионах)\n",
    "companies_new['price_amount_mln'] = companies_new['price_amount'] / 1000000\n"
   ]
  },
  {
   "cell_type": "code",
   "execution_count": 59,
   "metadata": {
    "id": "jQ09dYUWrJg2",
    "vscode": {
     "languageId": "plaintext"
    }
   },
   "outputs": [],
   "source": [
    "#Фильтруем стартапы которые были куплены не номинально (не за ноль и не за один доллар)\n",
    "companies_high_price=companies_new[(companies_new['price_amount']>1)]"
   ]
  },
  {
   "cell_type": "code",
   "execution_count": 60,
   "metadata": {},
   "outputs": [
    {
     "data": {
      "text/html": [
       "<style type=\"text/css\">\n",
       "</style>\n",
       "<table id=\"T_909cc\">\n",
       "  <thead>\n",
       "    <tr>\n",
       "      <th class=\"blank level0\" >&nbsp;</th>\n",
       "      <th id=\"T_909cc_level0_col0\" class=\"col_heading level0 col0\" >price_amount_mln</th>\n",
       "    </tr>\n",
       "  </thead>\n",
       "  <tbody>\n",
       "    <tr>\n",
       "      <th id=\"T_909cc_level0_row0\" class=\"row_heading level0 row0\" >count</th>\n",
       "      <td id=\"T_909cc_row0_col0\" class=\"data row0 col0\" >2470.00</td>\n",
       "    </tr>\n",
       "    <tr>\n",
       "      <th id=\"T_909cc_level0_row1\" class=\"row_heading level0 row1\" >mean</th>\n",
       "      <td id=\"T_909cc_row1_col0\" class=\"data row1 col0\" >1497.79</td>\n",
       "    </tr>\n",
       "    <tr>\n",
       "      <th id=\"T_909cc_level0_row2\" class=\"row_heading level0 row2\" >std</th>\n",
       "      <td id=\"T_909cc_row2_col0\" class=\"data row2 col0\" >52336.13</td>\n",
       "    </tr>\n",
       "    <tr>\n",
       "      <th id=\"T_909cc_level0_row3\" class=\"row_heading level0 row3\" >min</th>\n",
       "      <td id=\"T_909cc_row3_col0\" class=\"data row3 col0\" >0.00</td>\n",
       "    </tr>\n",
       "    <tr>\n",
       "      <th id=\"T_909cc_level0_row4\" class=\"row_heading level0 row4\" >25%</th>\n",
       "      <td id=\"T_909cc_row4_col0\" class=\"data row4 col0\" >12.93</td>\n",
       "    </tr>\n",
       "    <tr>\n",
       "      <th id=\"T_909cc_level0_row5\" class=\"row_heading level0 row5\" >50%</th>\n",
       "      <td id=\"T_909cc_row5_col0\" class=\"data row5 col0\" >56.45</td>\n",
       "    </tr>\n",
       "    <tr>\n",
       "      <th id=\"T_909cc_level0_row6\" class=\"row_heading level0 row6\" >75%</th>\n",
       "      <td id=\"T_909cc_row6_col0\" class=\"data row6 col0\" >265.00</td>\n",
       "    </tr>\n",
       "    <tr>\n",
       "      <th id=\"T_909cc_level0_row7\" class=\"row_heading level0 row7\" >max</th>\n",
       "      <td id=\"T_909cc_row7_col0\" class=\"data row7 col0\" >2600000.00</td>\n",
       "    </tr>\n",
       "  </tbody>\n",
       "</table>\n"
      ],
      "text/plain": [
       "<pandas.io.formats.style.Styler at 0x185c8420bd0>"
      ]
     },
     "execution_count": 60,
     "metadata": {},
     "output_type": "execute_result"
    }
   ],
   "source": [
    "companies_high_price['price_amount_mln'].describe().to_frame().style.format(\"{:.2f}\")\n"
   ]
  },
  {
   "cell_type": "code",
   "execution_count": 61,
   "metadata": {
    "id": "eF1aULm5FjfY"
   },
   "outputs": [
    {
     "data": {
      "text/html": [
       "<div>\n",
       "<style scoped>\n",
       "    .dataframe tbody tr th:only-of-type {\n",
       "        vertical-align: middle;\n",
       "    }\n",
       "\n",
       "    .dataframe tbody tr th {\n",
       "        vertical-align: top;\n",
       "    }\n",
       "\n",
       "    .dataframe thead th {\n",
       "        text-align: right;\n",
       "    }\n",
       "</style>\n",
       "<table border=\"1\" class=\"dataframe\">\n",
       "  <thead>\n",
       "    <tr style=\"text-align: right;\">\n",
       "      <th></th>\n",
       "      <th>index</th>\n",
       "      <th>category_code</th>\n",
       "      <th>mean</th>\n",
       "      <th>std</th>\n",
       "      <th>median</th>\n",
       "    </tr>\n",
       "  </thead>\n",
       "  <tbody>\n",
       "    <tr>\n",
       "      <th>0</th>\n",
       "      <td>2</td>\n",
       "      <td>automotive</td>\n",
       "      <td>2547.666667</td>\n",
       "      <td>2581.669292</td>\n",
       "      <td>2400.0000</td>\n",
       "    </tr>\n",
       "    <tr>\n",
       "      <th>1</th>\n",
       "      <td>33</td>\n",
       "      <td>sports</td>\n",
       "      <td>622.500000</td>\n",
       "      <td>512.652416</td>\n",
       "      <td>622.5000</td>\n",
       "    </tr>\n",
       "    <tr>\n",
       "      <th>2</th>\n",
       "      <td>21</td>\n",
       "      <td>nanotech</td>\n",
       "      <td>584.000000</td>\n",
       "      <td>NaN</td>\n",
       "      <td>584.0000</td>\n",
       "    </tr>\n",
       "    <tr>\n",
       "      <th>3</th>\n",
       "      <td>27</td>\n",
       "      <td>real_estate</td>\n",
       "      <td>1465.500000</td>\n",
       "      <td>2676.302206</td>\n",
       "      <td>400.0000</td>\n",
       "    </tr>\n",
       "    <tr>\n",
       "      <th>4</th>\n",
       "      <td>16</td>\n",
       "      <td>manufacturing</td>\n",
       "      <td>813.757161</td>\n",
       "      <td>1060.434506</td>\n",
       "      <td>351.0000</td>\n",
       "    </tr>\n",
       "    <tr>\n",
       "      <th>5</th>\n",
       "      <td>34</td>\n",
       "      <td>transportation</td>\n",
       "      <td>450.000000</td>\n",
       "      <td>572.625532</td>\n",
       "      <td>230.0000</td>\n",
       "    </tr>\n",
       "    <tr>\n",
       "      <th>6</th>\n",
       "      <td>3</td>\n",
       "      <td>biotech</td>\n",
       "      <td>735.915255</td>\n",
       "      <td>1968.195264</td>\n",
       "      <td>200.0000</td>\n",
       "    </tr>\n",
       "    <tr>\n",
       "      <th>7</th>\n",
       "      <td>1</td>\n",
       "      <td>analytics</td>\n",
       "      <td>181.000000</td>\n",
       "      <td>92.967736</td>\n",
       "      <td>200.0000</td>\n",
       "    </tr>\n",
       "    <tr>\n",
       "      <th>8</th>\n",
       "      <td>9</td>\n",
       "      <td>fashion</td>\n",
       "      <td>187.500000</td>\n",
       "      <td>86.494219</td>\n",
       "      <td>195.0000</td>\n",
       "    </tr>\n",
       "    <tr>\n",
       "      <th>9</th>\n",
       "      <td>4</td>\n",
       "      <td>cleantech</td>\n",
       "      <td>482.316154</td>\n",
       "      <td>874.419628</td>\n",
       "      <td>185.0000</td>\n",
       "    </tr>\n",
       "    <tr>\n",
       "      <th>10</th>\n",
       "      <td>10</td>\n",
       "      <td>finance</td>\n",
       "      <td>604.397500</td>\n",
       "      <td>1052.920129</td>\n",
       "      <td>171.5000</td>\n",
       "    </tr>\n",
       "    <tr>\n",
       "      <th>11</th>\n",
       "      <td>17</td>\n",
       "      <td>medical</td>\n",
       "      <td>169.125000</td>\n",
       "      <td>165.905784</td>\n",
       "      <td>165.0000</td>\n",
       "    </tr>\n",
       "    <tr>\n",
       "      <th>12</th>\n",
       "      <td>29</td>\n",
       "      <td>security</td>\n",
       "      <td>602.895833</td>\n",
       "      <td>1378.442023</td>\n",
       "      <td>164.5000</td>\n",
       "    </tr>\n",
       "    <tr>\n",
       "      <th>13</th>\n",
       "      <td>6</td>\n",
       "      <td>ecommerce</td>\n",
       "      <td>241.516200</td>\n",
       "      <td>281.425549</td>\n",
       "      <td>157.5000</td>\n",
       "    </tr>\n",
       "    <tr>\n",
       "      <th>14</th>\n",
       "      <td>13</td>\n",
       "      <td>health</td>\n",
       "      <td>1065.050000</td>\n",
       "      <td>1927.099525</td>\n",
       "      <td>140.0000</td>\n",
       "    </tr>\n",
       "    <tr>\n",
       "      <th>15</th>\n",
       "      <td>26</td>\n",
       "      <td>public_relations</td>\n",
       "      <td>1820.630743</td>\n",
       "      <td>6854.337756</td>\n",
       "      <td>110.0000</td>\n",
       "    </tr>\n",
       "    <tr>\n",
       "      <th>16</th>\n",
       "      <td>22</td>\n",
       "      <td>network_hosting</td>\n",
       "      <td>375.539734</td>\n",
       "      <td>676.956798</td>\n",
       "      <td>102.5000</td>\n",
       "    </tr>\n",
       "    <tr>\n",
       "      <th>17</th>\n",
       "      <td>30</td>\n",
       "      <td>semiconductor</td>\n",
       "      <td>442.115352</td>\n",
       "      <td>1122.024808</td>\n",
       "      <td>100.0000</td>\n",
       "    </tr>\n",
       "    <tr>\n",
       "      <th>18</th>\n",
       "      <td>18</td>\n",
       "      <td>messaging</td>\n",
       "      <td>77.600000</td>\n",
       "      <td>69.074597</td>\n",
       "      <td>100.0000</td>\n",
       "    </tr>\n",
       "    <tr>\n",
       "      <th>19</th>\n",
       "      <td>28</td>\n",
       "      <td>search</td>\n",
       "      <td>201.168421</td>\n",
       "      <td>339.580152</td>\n",
       "      <td>90.0000</td>\n",
       "    </tr>\n",
       "    <tr>\n",
       "      <th>20</th>\n",
       "      <td>12</td>\n",
       "      <td>hardware</td>\n",
       "      <td>279.942206</td>\n",
       "      <td>645.087366</td>\n",
       "      <td>76.0000</td>\n",
       "    </tr>\n",
       "    <tr>\n",
       "      <th>21</th>\n",
       "      <td>24</td>\n",
       "      <td>other</td>\n",
       "      <td>535.142837</td>\n",
       "      <td>2072.556420</td>\n",
       "      <td>73.1000</td>\n",
       "    </tr>\n",
       "    <tr>\n",
       "      <th>22</th>\n",
       "      <td>35</td>\n",
       "      <td>travel</td>\n",
       "      <td>81.250000</td>\n",
       "      <td>95.265856</td>\n",
       "      <td>62.5000</td>\n",
       "    </tr>\n",
       "    <tr>\n",
       "      <th>23</th>\n",
       "      <td>0</td>\n",
       "      <td>advertising</td>\n",
       "      <td>259.670119</td>\n",
       "      <td>495.483858</td>\n",
       "      <td>60.0000</td>\n",
       "    </tr>\n",
       "    <tr>\n",
       "      <th>24</th>\n",
       "      <td>11</td>\n",
       "      <td>games_video</td>\n",
       "      <td>445.937853</td>\n",
       "      <td>1463.477654</td>\n",
       "      <td>58.2500</td>\n",
       "    </tr>\n",
       "    <tr>\n",
       "      <th>25</th>\n",
       "      <td>14</td>\n",
       "      <td>hospitality</td>\n",
       "      <td>440.342857</td>\n",
       "      <td>790.600556</td>\n",
       "      <td>57.5000</td>\n",
       "    </tr>\n",
       "    <tr>\n",
       "      <th>26</th>\n",
       "      <td>19</td>\n",
       "      <td>mobile</td>\n",
       "      <td>352.918735</td>\n",
       "      <td>1319.471637</td>\n",
       "      <td>56.0000</td>\n",
       "    </tr>\n",
       "    <tr>\n",
       "      <th>27</th>\n",
       "      <td>36</td>\n",
       "      <td>web</td>\n",
       "      <td>276.776731</td>\n",
       "      <td>695.440501</td>\n",
       "      <td>55.5000</td>\n",
       "    </tr>\n",
       "    <tr>\n",
       "      <th>28</th>\n",
       "      <td>8</td>\n",
       "      <td>enterprise</td>\n",
       "      <td>22959.545724</td>\n",
       "      <td>241358.098251</td>\n",
       "      <td>54.7500</td>\n",
       "    </tr>\n",
       "    <tr>\n",
       "      <th>29</th>\n",
       "      <td>25</td>\n",
       "      <td>photo_video</td>\n",
       "      <td>239.394000</td>\n",
       "      <td>431.142214</td>\n",
       "      <td>50.0000</td>\n",
       "    </tr>\n",
       "    <tr>\n",
       "      <th>30</th>\n",
       "      <td>32</td>\n",
       "      <td>software</td>\n",
       "      <td>390.754121</td>\n",
       "      <td>1204.058888</td>\n",
       "      <td>48.1400</td>\n",
       "    </tr>\n",
       "    <tr>\n",
       "      <th>31</th>\n",
       "      <td>31</td>\n",
       "      <td>social</td>\n",
       "      <td>63.125000</td>\n",
       "      <td>62.952859</td>\n",
       "      <td>45.7500</td>\n",
       "    </tr>\n",
       "    <tr>\n",
       "      <th>32</th>\n",
       "      <td>23</td>\n",
       "      <td>news</td>\n",
       "      <td>90.888889</td>\n",
       "      <td>100.855335</td>\n",
       "      <td>40.0000</td>\n",
       "    </tr>\n",
       "    <tr>\n",
       "      <th>33</th>\n",
       "      <td>5</td>\n",
       "      <td>consulting</td>\n",
       "      <td>293.671562</td>\n",
       "      <td>1018.108962</td>\n",
       "      <td>32.1500</td>\n",
       "    </tr>\n",
       "    <tr>\n",
       "      <th>34</th>\n",
       "      <td>7</td>\n",
       "      <td>education</td>\n",
       "      <td>133.315000</td>\n",
       "      <td>288.329371</td>\n",
       "      <td>16.2500</td>\n",
       "    </tr>\n",
       "    <tr>\n",
       "      <th>35</th>\n",
       "      <td>15</td>\n",
       "      <td>local</td>\n",
       "      <td>16.140200</td>\n",
       "      <td>NaN</td>\n",
       "      <td>16.1402</td>\n",
       "    </tr>\n",
       "    <tr>\n",
       "      <th>36</th>\n",
       "      <td>20</td>\n",
       "      <td>music</td>\n",
       "      <td>95.286667</td>\n",
       "      <td>159.978081</td>\n",
       "      <td>4.8600</td>\n",
       "    </tr>\n",
       "  </tbody>\n",
       "</table>\n",
       "</div>"
      ],
      "text/plain": [
       "    index     category_code          mean            std     median\n",
       "0       2        automotive   2547.666667    2581.669292  2400.0000\n",
       "1      33            sports    622.500000     512.652416   622.5000\n",
       "2      21          nanotech    584.000000            NaN   584.0000\n",
       "3      27       real_estate   1465.500000    2676.302206   400.0000\n",
       "4      16     manufacturing    813.757161    1060.434506   351.0000\n",
       "5      34    transportation    450.000000     572.625532   230.0000\n",
       "6       3           biotech    735.915255    1968.195264   200.0000\n",
       "7       1         analytics    181.000000      92.967736   200.0000\n",
       "8       9           fashion    187.500000      86.494219   195.0000\n",
       "9       4         cleantech    482.316154     874.419628   185.0000\n",
       "10     10           finance    604.397500    1052.920129   171.5000\n",
       "11     17           medical    169.125000     165.905784   165.0000\n",
       "12     29          security    602.895833    1378.442023   164.5000\n",
       "13      6         ecommerce    241.516200     281.425549   157.5000\n",
       "14     13            health   1065.050000    1927.099525   140.0000\n",
       "15     26  public_relations   1820.630743    6854.337756   110.0000\n",
       "16     22   network_hosting    375.539734     676.956798   102.5000\n",
       "17     30     semiconductor    442.115352    1122.024808   100.0000\n",
       "18     18         messaging     77.600000      69.074597   100.0000\n",
       "19     28            search    201.168421     339.580152    90.0000\n",
       "20     12          hardware    279.942206     645.087366    76.0000\n",
       "21     24             other    535.142837    2072.556420    73.1000\n",
       "22     35            travel     81.250000      95.265856    62.5000\n",
       "23      0       advertising    259.670119     495.483858    60.0000\n",
       "24     11       games_video    445.937853    1463.477654    58.2500\n",
       "25     14       hospitality    440.342857     790.600556    57.5000\n",
       "26     19            mobile    352.918735    1319.471637    56.0000\n",
       "27     36               web    276.776731     695.440501    55.5000\n",
       "28      8        enterprise  22959.545724  241358.098251    54.7500\n",
       "29     25       photo_video    239.394000     431.142214    50.0000\n",
       "30     32          software    390.754121    1204.058888    48.1400\n",
       "31     31            social     63.125000      62.952859    45.7500\n",
       "32     23              news     90.888889     100.855335    40.0000\n",
       "33      5        consulting    293.671562    1018.108962    32.1500\n",
       "34      7         education    133.315000     288.329371    16.2500\n",
       "35     15             local     16.140200            NaN    16.1402\n",
       "36     20             music     95.286667     159.978081     4.8600"
      ]
     },
     "execution_count": 61,
     "metadata": {},
     "output_type": "execute_result"
    }
   ],
   "source": [
    "#рассчитаем среднее, медиану и стандартное отклонение, чтобы определить стартапы с типично высокими ценами и значительным разбросом цен.\n",
    "#стандартное отклонение будет показывать разброс цен, так как является мерой степени изменчивости значений переменной относительно её среднего\n",
    "high_price_rating= companies_high_price.groupby('category_code').agg({\n",
    "    'price_amount_mln': ['mean', 'std', 'median']\n",
    "}).reset_index()\n",
    "\n",
    "# Переименовываем столбцы для более точного обращения\n",
    "high_price_rating.columns = ['category_code', 'mean', 'std', 'median']\n",
    "\n",
    "high_price_rating.sort_values(by=['median', 'std'], ascending=False).reset_index()\n",
    " "
   ]
  },
  {
   "cell_type": "code",
   "execution_count": 62,
   "metadata": {},
   "outputs": [
    {
     "data": {
      "text/html": [
       "<div>\n",
       "<style scoped>\n",
       "    .dataframe tbody tr th:only-of-type {\n",
       "        vertical-align: middle;\n",
       "    }\n",
       "\n",
       "    .dataframe tbody tr th {\n",
       "        vertical-align: top;\n",
       "    }\n",
       "\n",
       "    .dataframe thead th {\n",
       "        text-align: right;\n",
       "    }\n",
       "</style>\n",
       "<table border=\"1\" class=\"dataframe\">\n",
       "  <thead>\n",
       "    <tr style=\"text-align: right;\">\n",
       "      <th></th>\n",
       "      <th>index</th>\n",
       "      <th>category_code</th>\n",
       "      <th>mean</th>\n",
       "      <th>std</th>\n",
       "      <th>median</th>\n",
       "    </tr>\n",
       "  </thead>\n",
       "  <tbody>\n",
       "    <tr>\n",
       "      <th>0</th>\n",
       "      <td>2</td>\n",
       "      <td>automotive</td>\n",
       "      <td>2547.666667</td>\n",
       "      <td>2581.669292</td>\n",
       "      <td>2400.0</td>\n",
       "    </tr>\n",
       "    <tr>\n",
       "      <th>1</th>\n",
       "      <td>33</td>\n",
       "      <td>sports</td>\n",
       "      <td>622.500000</td>\n",
       "      <td>512.652416</td>\n",
       "      <td>622.5</td>\n",
       "    </tr>\n",
       "    <tr>\n",
       "      <th>2</th>\n",
       "      <td>21</td>\n",
       "      <td>nanotech</td>\n",
       "      <td>584.000000</td>\n",
       "      <td>NaN</td>\n",
       "      <td>584.0</td>\n",
       "    </tr>\n",
       "    <tr>\n",
       "      <th>3</th>\n",
       "      <td>27</td>\n",
       "      <td>real_estate</td>\n",
       "      <td>1465.500000</td>\n",
       "      <td>2676.302206</td>\n",
       "      <td>400.0</td>\n",
       "    </tr>\n",
       "    <tr>\n",
       "      <th>4</th>\n",
       "      <td>16</td>\n",
       "      <td>manufacturing</td>\n",
       "      <td>813.757161</td>\n",
       "      <td>1060.434506</td>\n",
       "      <td>351.0</td>\n",
       "    </tr>\n",
       "  </tbody>\n",
       "</table>\n",
       "</div>"
      ],
      "text/plain": [
       "   index  category_code         mean          std  median\n",
       "0      2     automotive  2547.666667  2581.669292  2400.0\n",
       "1     33         sports   622.500000   512.652416   622.5\n",
       "2     21       nanotech   584.000000          NaN   584.0\n",
       "3     27    real_estate  1465.500000  2676.302206   400.0\n",
       "4     16  manufacturing   813.757161  1060.434506   351.0"
      ]
     },
     "execution_count": 62,
     "metadata": {},
     "output_type": "execute_result"
    }
   ],
   "source": [
    "#Отберем топ5 категорий\n",
    "high_price_rating.sort_values(by=['median', 'std'], ascending=False).reset_index().head(5)"
   ]
  },
  {
   "cell_type": "markdown",
   "metadata": {},
   "source": [
    "- Поскольку некоторые стартапы куплены номинально(за 0 или 1 рубль) мы отобрали те, что были проданы дороже. Затем рассчитали статистические показатели для столбца price_amount_mln (для наглядности преобразовали данные price_amount в млн 10^6), 75% процентиль равен 265.00, этот показатель будем использовать для отбора топ5 категорий. \n",
    "\n",
    "- Учитывая высокий разброс показателей, используем медиану для определения стартапов с типично высокими ценами\n",
    "- Стандартное отклонение будет показывать разброс цен, так как является мерой степени изменчивости значений переменной относительно её среднего\n",
    "- Топ 5 категорий automotive, sports, nanotech, real_estate, manufacturing"
   ]
  },
  {
   "cell_type": "markdown",
   "metadata": {
    "id": "ADOfyVY_rJg3"
   },
   "source": [
    "<a class=\"anchor\" id=\"12-bullet\"></a>\n",
    "### 3.5. Сколько раундов продержится стартап перед покупкой\n",
    "\n",
    "Исследуем значения столбца `funding_rounds`."
   ]
  },
  {
   "cell_type": "code",
   "execution_count": 63,
   "metadata": {
    "id": "hgXMPC4WrJg3",
    "vscode": {
     "languageId": "plaintext"
    }
   },
   "outputs": [],
   "source": [
    "#Фильтруем стартапы, где количество раундов больше 0\n",
    "companies_rounds_count=companies_new[(companies_new['funding_rounds']>0)]"
   ]
  },
  {
   "cell_type": "code",
   "execution_count": 64,
   "metadata": {
    "id": "pV3e7kw5Fj1Y"
   },
   "outputs": [
    {
     "data": {
      "text/html": [
       "<div>\n",
       "<style scoped>\n",
       "    .dataframe tbody tr th:only-of-type {\n",
       "        vertical-align: middle;\n",
       "    }\n",
       "\n",
       "    .dataframe tbody tr th {\n",
       "        vertical-align: top;\n",
       "    }\n",
       "\n",
       "    .dataframe thead tr th {\n",
       "        text-align: left;\n",
       "    }\n",
       "</style>\n",
       "<table border=\"1\" class=\"dataframe\">\n",
       "  <thead>\n",
       "    <tr>\n",
       "      <th></th>\n",
       "      <th>status</th>\n",
       "      <th colspan=\"5\" halign=\"left\">funding_rounds</th>\n",
       "    </tr>\n",
       "    <tr>\n",
       "      <th></th>\n",
       "      <th></th>\n",
       "      <th>mean</th>\n",
       "      <th>std</th>\n",
       "      <th>median</th>\n",
       "      <th>min</th>\n",
       "      <th>max</th>\n",
       "    </tr>\n",
       "  </thead>\n",
       "  <tbody>\n",
       "    <tr>\n",
       "      <th>0</th>\n",
       "      <td>acquired</td>\n",
       "      <td>1.897766</td>\n",
       "      <td>1.279263</td>\n",
       "      <td>1.0</td>\n",
       "      <td>1.0</td>\n",
       "      <td>12.0</td>\n",
       "    </tr>\n",
       "    <tr>\n",
       "      <th>1</th>\n",
       "      <td>closed</td>\n",
       "      <td>1.383437</td>\n",
       "      <td>0.834444</td>\n",
       "      <td>1.0</td>\n",
       "      <td>1.0</td>\n",
       "      <td>8.0</td>\n",
       "    </tr>\n",
       "    <tr>\n",
       "      <th>2</th>\n",
       "      <td>ipo</td>\n",
       "      <td>2.526531</td>\n",
       "      <td>2.219156</td>\n",
       "      <td>2.0</td>\n",
       "      <td>1.0</td>\n",
       "      <td>13.0</td>\n",
       "    </tr>\n",
       "    <tr>\n",
       "      <th>3</th>\n",
       "      <td>operating</td>\n",
       "      <td>1.642359</td>\n",
       "      <td>1.180895</td>\n",
       "      <td>1.0</td>\n",
       "      <td>1.0</td>\n",
       "      <td>15.0</td>\n",
       "    </tr>\n",
       "  </tbody>\n",
       "</table>\n",
       "</div>"
      ],
      "text/plain": [
       "      status funding_rounds                            \n",
       "                       mean       std median  min   max\n",
       "0   acquired       1.897766  1.279263    1.0  1.0  12.0\n",
       "1     closed       1.383437  0.834444    1.0  1.0   8.0\n",
       "2        ipo       2.526531  2.219156    2.0  1.0  13.0\n",
       "3  operating       1.642359  1.180895    1.0  1.0  15.0"
      ]
     },
     "execution_count": 64,
     "metadata": {},
     "output_type": "execute_result"
    }
   ],
   "source": [
    "rounds_before_sell= companies_rounds_count.groupby('status').agg({\n",
    "    'funding_rounds': ['mean', 'std', 'median', 'min', 'max']\n",
    "}).reset_index()\n",
    "\n",
    "rounds_before_sell"
   ]
  },
  {
   "cell_type": "code",
   "execution_count": 65,
   "metadata": {},
   "outputs": [
    {
     "data": {
      "image/png": "[encoded data removed]",
      "text/plain": [
       "<Figure size 700x400 with 1 Axes>"
      ]
     },
     "metadata": {},
     "output_type": "display_data"
    }
   ],
   "source": [
    "plt.figure(figsize=(7, 4))\n",
    "\n",
    "companies_rounds_count.groupby('status')['funding_rounds'].median().sort_values(ascending=False).plot(\n",
    "    kind='bar',\n",
    "    rot=45,\n",
    "    title='Cреднее кол-во раундов финансирования до покупки',\n",
    "    color='lightblue'\n",
    ")\n",
    "\n",
    "\n",
    "plt.ylabel('Медианное кол-во раундов')\n",
    "plt.xlabel('Статус стартапа')\n",
    "# Выводим график\n",
    "plt.show()"
   ]
  },
  {
   "cell_type": "markdown",
   "metadata": {},
   "source": [
    "Те стартапы, которые получили статус ipo  в среднем прошли больше раундов финансирования, чем стартапы с другими статусами - медианное значение 2 этапа, стартапы с другими статусами по 1 этапу. "
   ]
  },
  {
   "cell_type": "markdown",
   "metadata": {
    "id": "VAFEZ2HBrJg3"
   },
   "source": [
    "<a class=\"anchor\" id=\"13-bullet\"></a>\n",
    "## Шаг 4. Итоговый вывод и рекомендации\n",
    "\n"
   ]
  },
  {
   "cell_type": "markdown",
   "metadata": {},
   "source": [
    "### Итоговый вывод <br>\n",
    "1. В результате предобработки данных было выяснено, что в данных много пропусков, но, в основном, в тех столбцах, которые не важны для анализа. Исключение датафрейм `company_and_rounds`, который получился путем объединения двух таблиц. Датафрейм `company_and_rounds` разделили на 2 датафрейма `companies` и `rounds`, удалили дубликаты в каждом и получили `companies` с 196553 строками, `rounds` с 52928 строк. </br>\n",
    "Объединили предобработанный датафрейм и присоединили датафрейм acquisition, отобрали те компании которых указаны значения funding_rounds или investment_rounds больше нуля, или те, у которых в колонке status указано acquired, получился датафрейм companies.</br>\n",
    "\n",
    "2. В 2005 году типичный размер собранных в рамках одного раунда средств был максимальным - 5500000.0. Количество раундов финансирования к 2013 году растет, а типичный размер средств в рамках 1 этапа финансирования снижается.\n",
    "Это может говорить о взрывном росте активности на рынке стартапов, а также о более широком доступе стартапов к финансированию. Вероятно, на рынок пришли новые инвесторы, мелкие фонды, что дало импульс к увеличению числа сделок при снижении их среднего размера.\n",
    "3. Информацию в датафрейме education можно оценить как полную. Полнота сведений об образовании сотрудников выше в крупных и средних компаниях.\n",
    "4. network_username, который встречается в нескольких датафреймах, нельзя использовать для объединения данных, так как пересечения данных в относительных величинах слишком мало.\n",
    "5. Типичный объем финансирования от 0 до 5.63 млн, наиболее часто встречающийся объем финансирования - 0,6 млн(медианное значение). Более 14 млн - выбивающиеся значения (выбросы). \n",
    "6. У компаний, купленных за 0 или 1 доллар , минимальный объем финансирования - нулевой (0 перцентиль), верхняя граница выбросов 35.75 млн (более 0.0.909665 перцентиля).  \n",
    "7. Топ 5 категорий стартапов, купленных за дорого и с максимальным разбросом цен: automotive, sports, nanotech, real_estate, manufacturing. \n",
    "8. Те стартапы, которые получили статус ipo  в среднем прошли больше раундов финансирования, чем стартапы с другими статусами - медианное значение 2 этапа, тартапы с другими статусами по 1 этапу. \n",
    "\n",
    "### Рекомендации <br>\n",
    "- Оценивать разные показатели стартапа, не только объем финансирования, поскольку даже при больших инвестициях стартап может оказаться неэффективным и быть проданным забесплатно.\n",
    "- Сфокусироваться на множестве небольших инвестиций. Так как есть тенденция снижения объём средств на один раунд и роста количества сделок, стратегия делать много инвестиций с небольшими чеками и диверсифицировать портфель выглядит перспективной.\n",
    "- Создать модель для оценки перспективности стартапов\n",
    "- Выбросы до 5,7 млрд среди провальных сделок говорят о переоценке некоторых стартапов в прошлом. Инвестировать стоит только после объективной проверки гипотез и ориентации на модель для оценки перспективности, на основе разных показателей стартапов.\n",
    "\n"
   ]
  }
 ],
 "metadata": {
  "ExecuteTimeLog": [
   {
    "duration": 3582,
    "start_time": "2025-07-07T08:22:47.486Z"
   },
   {
    "duration": 14,
    "start_time": "2025-07-07T08:23:49.418Z"
   },
   {
    "duration": 18,
    "start_time": "2025-07-07T08:27:08.452Z"
   },
   {
    "duration": 17,
    "start_time": "2025-07-07T08:29:23.642Z"
   },
   {
    "duration": 11,
    "start_time": "2025-07-07T08:34:55.469Z"
   },
   {
    "duration": 109,
    "start_time": "2025-07-07T08:43:20.836Z"
   },
   {
    "duration": 756,
    "start_time": "2025-07-07T08:44:17.999Z"
   },
   {
    "duration": 603,
    "start_time": "2025-07-07T08:46:59.393Z"
   },
   {
    "duration": 81,
    "start_time": "2025-07-07T08:48:43.173Z"
   },
   {
    "duration": 1574,
    "start_time": "2025-07-07T08:48:55.201Z"
   },
   {
    "duration": 192,
    "start_time": "2025-07-07T08:49:40.112Z"
   },
   {
    "duration": 198,
    "start_time": "2025-07-07T08:50:51.731Z"
   },
   {
    "duration": 150,
    "start_time": "2025-07-07T08:52:01.742Z"
   },
   {
    "duration": 20,
    "start_time": "2025-07-07T08:54:55.787Z"
   },
   {
    "duration": 116,
    "start_time": "2025-07-07T08:57:13.861Z"
   },
   {
    "duration": 5,
    "start_time": "2025-07-07T09:07:48.450Z"
   },
   {
    "duration": 3,
    "start_time": "2025-07-07T09:07:58.056Z"
   },
   {
    "duration": 122,
    "start_time": "2025-07-07T09:08:04.891Z"
   },
   {
    "duration": 31,
    "start_time": "2025-07-07T09:12:39.848Z"
   },
   {
    "duration": 25,
    "start_time": "2025-07-07T09:14:40.806Z"
   },
   {
    "duration": 92,
    "start_time": "2025-07-07T09:16:44.915Z"
   },
   {
    "duration": 45,
    "start_time": "2025-07-07T09:18:19.089Z"
   },
   {
    "duration": 13,
    "start_time": "2025-07-07T09:20:41.195Z"
   },
   {
    "duration": 22,
    "start_time": "2025-07-07T09:20:48.869Z"
   },
   {
    "duration": 15,
    "start_time": "2025-07-07T09:23:30.162Z"
   },
   {
    "duration": 52,
    "start_time": "2025-07-07T18:42:06.046Z"
   },
   {
    "duration": 8,
    "start_time": "2025-07-07T18:42:20.047Z"
   },
   {
    "duration": 3519,
    "start_time": "2025-07-07T18:42:37.747Z"
   },
   {
    "duration": 4,
    "start_time": "2025-07-07T18:42:41.268Z"
   },
   {
    "duration": 54,
    "start_time": "2025-07-07T18:42:41.274Z"
   },
   {
    "duration": 127,
    "start_time": "2025-07-07T18:42:41.330Z"
   },
   {
    "duration": 32,
    "start_time": "2025-07-07T18:42:41.460Z"
   },
   {
    "duration": 46,
    "start_time": "2025-07-07T18:42:41.493Z"
   },
   {
    "duration": 46,
    "start_time": "2025-07-07T18:42:41.540Z"
   },
   {
    "duration": 22,
    "start_time": "2025-07-07T18:42:41.588Z"
   },
   {
    "duration": 35,
    "start_time": "2025-07-07T18:42:41.611Z"
   },
   {
    "duration": 90,
    "start_time": "2025-07-07T18:42:41.647Z"
   },
   {
    "duration": 0,
    "start_time": "2025-07-07T18:42:41.739Z"
   },
   {
    "duration": 0,
    "start_time": "2025-07-07T18:42:41.740Z"
   },
   {
    "duration": 632,
    "start_time": "2025-07-07T18:43:00.712Z"
   },
   {
    "duration": 4,
    "start_time": "2025-07-07T18:43:07.120Z"
   },
   {
    "duration": 100,
    "start_time": "2025-07-07T18:43:15.931Z"
   },
   {
    "duration": 13,
    "start_time": "2025-07-07T18:43:21.390Z"
   },
   {
    "duration": 5,
    "start_time": "2025-07-07T18:43:59.711Z"
   },
   {
    "duration": 5,
    "start_time": "2025-07-07T18:44:29.730Z"
   },
   {
    "duration": 5,
    "start_time": "2025-07-07T18:44:45.091Z"
   },
   {
    "duration": 5,
    "start_time": "2025-07-07T18:44:51.539Z"
   },
   {
    "duration": 5,
    "start_time": "2025-07-07T18:45:00.901Z"
   },
   {
    "duration": 6,
    "start_time": "2025-07-07T18:45:58.448Z"
   },
   {
    "duration": 3322,
    "start_time": "2025-07-07T18:46:28.412Z"
   },
   {
    "duration": 3,
    "start_time": "2025-07-07T18:46:31.736Z"
   },
   {
    "duration": 26,
    "start_time": "2025-07-07T18:46:31.740Z"
   },
   {
    "duration": 133,
    "start_time": "2025-07-07T18:46:31.768Z"
   },
   {
    "duration": 38,
    "start_time": "2025-07-07T18:46:31.904Z"
   },
   {
    "duration": 24,
    "start_time": "2025-07-07T18:46:31.944Z"
   },
   {
    "duration": 68,
    "start_time": "2025-07-07T18:46:31.970Z"
   },
   {
    "duration": 19,
    "start_time": "2025-07-07T18:46:32.040Z"
   },
   {
    "duration": 14,
    "start_time": "2025-07-07T18:46:32.061Z"
   },
   {
    "duration": 639,
    "start_time": "2025-07-07T18:46:32.076Z"
   },
   {
    "duration": 6,
    "start_time": "2025-07-07T18:46:48.846Z"
   },
   {
    "duration": 100,
    "start_time": "2025-07-07T18:47:25.684Z"
   },
   {
    "duration": 10,
    "start_time": "2025-07-07T18:47:31.669Z"
   },
   {
    "duration": 4,
    "start_time": "2025-07-07T18:47:53.389Z"
   },
   {
    "duration": 6,
    "start_time": "2025-07-07T18:48:02.635Z"
   },
   {
    "duration": 12,
    "start_time": "2025-07-07T18:48:24.226Z"
   },
   {
    "duration": 4,
    "start_time": "2025-07-07T18:48:52.139Z"
   },
   {
    "duration": 6,
    "start_time": "2025-07-07T18:49:03.327Z"
   },
   {
    "duration": 6,
    "start_time": "2025-07-07T18:49:32.944Z"
   },
   {
    "duration": 1456,
    "start_time": "2025-07-07T19:02:31.377Z"
   },
   {
    "duration": 2852,
    "start_time": "2025-07-07T19:05:32.060Z"
   },
   {
    "duration": 19,
    "start_time": "2025-07-07T19:06:40.487Z"
   },
   {
    "duration": 10,
    "start_time": "2025-07-07T19:08:08.782Z"
   },
   {
    "duration": 23,
    "start_time": "2025-07-07T19:10:33.036Z"
   },
   {
    "duration": 104,
    "start_time": "2025-07-07T19:12:47.771Z"
   },
   {
    "duration": 28,
    "start_time": "2025-07-07T19:13:03.862Z"
   },
   {
    "duration": 25,
    "start_time": "2025-07-07T19:14:25.742Z"
   },
   {
    "duration": 26,
    "start_time": "2025-07-07T19:14:42.048Z"
   },
   {
    "duration": 1651,
    "start_time": "2025-07-07T19:16:02.079Z"
   },
   {
    "duration": 25,
    "start_time": "2025-07-07T19:16:20.637Z"
   },
   {
    "duration": 7,
    "start_time": "2025-07-07T19:16:57.889Z"
   },
   {
    "duration": 8,
    "start_time": "2025-07-07T19:17:07.025Z"
   },
   {
    "duration": 13,
    "start_time": "2025-07-07T19:17:32.311Z"
   },
   {
    "duration": 9,
    "start_time": "2025-07-07T19:17:51.093Z"
   },
   {
    "duration": 15,
    "start_time": "2025-07-07T19:18:18.451Z"
   },
   {
    "duration": 8,
    "start_time": "2025-07-07T19:18:29.192Z"
   },
   {
    "duration": 6,
    "start_time": "2025-07-07T19:26:20.031Z"
   },
   {
    "duration": 28,
    "start_time": "2025-07-07T19:26:29.265Z"
   },
   {
    "duration": 26,
    "start_time": "2025-07-07T19:26:39.521Z"
   },
   {
    "duration": 33,
    "start_time": "2025-07-07T19:27:23.640Z"
   },
   {
    "duration": 6,
    "start_time": "2025-07-07T19:27:48.030Z"
   },
   {
    "duration": 29,
    "start_time": "2025-07-07T19:27:52.210Z"
   },
   {
    "duration": 26,
    "start_time": "2025-07-07T19:28:09.295Z"
   },
   {
    "duration": 20,
    "start_time": "2025-07-07T19:28:16.248Z"
   },
   {
    "duration": 11,
    "start_time": "2025-07-07T19:28:46.980Z"
   },
   {
    "duration": 15,
    "start_time": "2025-07-07T19:29:54.725Z"
   },
   {
    "duration": 15,
    "start_time": "2025-07-07T19:30:45.473Z"
   },
   {
    "duration": 3323,
    "start_time": "2025-07-07T19:30:56.533Z"
   },
   {
    "duration": 4,
    "start_time": "2025-07-07T19:30:59.859Z"
   },
   {
    "duration": 33,
    "start_time": "2025-07-07T19:30:59.866Z"
   },
   {
    "duration": 145,
    "start_time": "2025-07-07T19:30:59.900Z"
   },
   {
    "duration": 40,
    "start_time": "2025-07-07T19:31:00.048Z"
   },
   {
    "duration": 64,
    "start_time": "2025-07-07T19:31:00.089Z"
   },
   {
    "duration": 78,
    "start_time": "2025-07-07T19:31:00.155Z"
   },
   {
    "duration": 44,
    "start_time": "2025-07-07T19:31:00.235Z"
   },
   {
    "duration": 17,
    "start_time": "2025-07-07T19:31:00.282Z"
   },
   {
    "duration": 772,
    "start_time": "2025-07-07T19:31:00.301Z"
   },
   {
    "duration": 7,
    "start_time": "2025-07-07T19:31:01.075Z"
   },
   {
    "duration": 72,
    "start_time": "2025-07-07T19:31:01.084Z"
   },
   {
    "duration": 27,
    "start_time": "2025-07-07T19:32:30.735Z"
   },
   {
    "duration": 86,
    "start_time": "2025-07-07T19:33:50.040Z"
   },
   {
    "duration": 46,
    "start_time": "2025-07-07T19:34:23.035Z"
   },
   {
    "duration": 26,
    "start_time": "2025-07-07T19:36:13.752Z"
   },
   {
    "duration": 27,
    "start_time": "2025-07-07T19:39:27.321Z"
   },
   {
    "duration": 6,
    "start_time": "2025-07-07T20:45:57.336Z"
   },
   {
    "duration": 100,
    "start_time": "2025-07-07T20:46:08.211Z"
   },
   {
    "duration": 108,
    "start_time": "2025-07-07T20:48:31.139Z"
   },
   {
    "duration": 6,
    "start_time": "2025-07-07T20:51:07.829Z"
   },
   {
    "duration": 15,
    "start_time": "2025-07-07T20:54:48.953Z"
   },
   {
    "duration": 8,
    "start_time": "2025-07-07T20:56:00.063Z"
   },
   {
    "duration": 16,
    "start_time": "2025-07-07T20:56:49.302Z"
   },
   {
    "duration": 9,
    "start_time": "2025-07-07T20:59:51.540Z"
   },
   {
    "duration": 8,
    "start_time": "2025-07-07T21:00:04.058Z"
   },
   {
    "duration": 8,
    "start_time": "2025-07-07T21:02:51.800Z"
   },
   {
    "duration": 9,
    "start_time": "2025-07-07T21:02:56.765Z"
   },
   {
    "duration": 20,
    "start_time": "2025-07-07T21:07:54.012Z"
   },
   {
    "duration": 7,
    "start_time": "2025-07-07T21:08:23.926Z"
   },
   {
    "duration": 14,
    "start_time": "2025-07-07T21:08:52.136Z"
   },
   {
    "duration": 6,
    "start_time": "2025-07-07T21:09:24.789Z"
   },
   {
    "duration": 21,
    "start_time": "2025-07-07T21:14:01.510Z"
   },
   {
    "duration": 119,
    "start_time": "2025-07-07T21:14:20.942Z"
   },
   {
    "duration": 114,
    "start_time": "2025-07-07T21:18:10.289Z"
   },
   {
    "duration": 609,
    "start_time": "2025-07-07T21:20:36.062Z"
   },
   {
    "duration": 599,
    "start_time": "2025-07-07T21:22:50.379Z"
   },
   {
    "duration": 173,
    "start_time": "2025-07-07T21:23:15.835Z"
   },
   {
    "duration": 185,
    "start_time": "2025-07-07T21:24:44.544Z"
   },
   {
    "duration": 331,
    "start_time": "2025-07-07T21:26:12.997Z"
   },
   {
    "duration": 7,
    "start_time": "2025-07-07T21:31:23.496Z"
   },
   {
    "duration": 3753,
    "start_time": "2025-07-07T21:31:38.431Z"
   },
   {
    "duration": 3,
    "start_time": "2025-07-07T21:31:42.186Z"
   },
   {
    "duration": 23,
    "start_time": "2025-07-07T21:31:42.191Z"
   },
   {
    "duration": 143,
    "start_time": "2025-07-07T21:31:42.216Z"
   },
   {
    "duration": 29,
    "start_time": "2025-07-07T21:31:42.361Z"
   },
   {
    "duration": 23,
    "start_time": "2025-07-07T21:31:42.391Z"
   },
   {
    "duration": 71,
    "start_time": "2025-07-07T21:31:42.416Z"
   },
   {
    "duration": 91,
    "start_time": "2025-07-07T21:31:42.489Z"
   },
   {
    "duration": 13,
    "start_time": "2025-07-07T21:31:42.583Z"
   },
   {
    "duration": 623,
    "start_time": "2025-07-07T21:31:42.597Z"
   },
   {
    "duration": 5,
    "start_time": "2025-07-07T21:31:43.221Z"
   },
   {
    "duration": 33,
    "start_time": "2025-07-07T21:31:43.228Z"
   },
   {
    "duration": 9,
    "start_time": "2025-07-07T21:31:43.263Z"
   },
   {
    "duration": 7,
    "start_time": "2025-07-07T21:31:43.275Z"
   },
   {
    "duration": 8,
    "start_time": "2025-07-07T21:31:43.284Z"
   },
   {
    "duration": 24,
    "start_time": "2025-07-07T21:31:43.293Z"
   },
   {
    "duration": 384,
    "start_time": "2025-07-07T21:31:43.338Z"
   },
   {
    "duration": 107,
    "start_time": "2025-07-07T21:42:06.176Z"
   },
   {
    "duration": 13,
    "start_time": "2025-07-07T21:42:40.198Z"
   },
   {
    "duration": 21,
    "start_time": "2025-07-07T21:43:43.033Z"
   },
   {
    "duration": 82,
    "start_time": "2025-07-07T21:44:01.118Z"
   },
   {
    "duration": 4,
    "start_time": "2025-07-07T21:44:07.257Z"
   },
   {
    "duration": 6,
    "start_time": "2025-07-07T21:44:12.877Z"
   },
   {
    "duration": 83,
    "start_time": "2025-07-07T21:45:25.274Z"
   },
   {
    "duration": 12,
    "start_time": "2025-07-07T21:45:31.719Z"
   },
   {
    "duration": 26,
    "start_time": "2025-07-07T21:45:49.952Z"
   },
   {
    "duration": 13,
    "start_time": "2025-07-07T21:46:33.301Z"
   },
   {
    "duration": 40,
    "start_time": "2025-07-07T21:46:39.387Z"
   },
   {
    "duration": 9,
    "start_time": "2025-07-07T22:10:35.826Z"
   },
   {
    "duration": 23,
    "start_time": "2025-07-07T22:10:44.597Z"
   },
   {
    "duration": 19,
    "start_time": "2025-07-07T22:12:11.387Z"
   },
   {
    "duration": 18,
    "start_time": "2025-07-07T22:12:15.402Z"
   },
   {
    "duration": 13,
    "start_time": "2025-07-07T22:12:57.319Z"
   },
   {
    "duration": 3450,
    "start_time": "2025-07-07T22:13:19.612Z"
   },
   {
    "duration": 3,
    "start_time": "2025-07-07T22:13:23.064Z"
   },
   {
    "duration": 30,
    "start_time": "2025-07-07T22:13:23.068Z"
   },
   {
    "duration": 154,
    "start_time": "2025-07-07T22:13:23.100Z"
   },
   {
    "duration": 28,
    "start_time": "2025-07-07T22:13:23.257Z"
   },
   {
    "duration": 25,
    "start_time": "2025-07-07T22:13:23.287Z"
   },
   {
    "duration": 79,
    "start_time": "2025-07-07T22:13:23.313Z"
   },
   {
    "duration": 32,
    "start_time": "2025-07-07T22:13:23.393Z"
   },
   {
    "duration": 79,
    "start_time": "2025-07-07T22:13:23.439Z"
   },
   {
    "duration": 712,
    "start_time": "2025-07-07T22:13:23.520Z"
   },
   {
    "duration": 11,
    "start_time": "2025-07-07T22:13:24.234Z"
   },
   {
    "duration": 84,
    "start_time": "2025-07-07T22:13:24.252Z"
   },
   {
    "duration": 379,
    "start_time": "2025-07-07T22:13:24.338Z"
   },
   {
    "duration": 62,
    "start_time": "2025-07-07T22:13:24.721Z"
   },
   {
    "duration": 123,
    "start_time": "2025-07-07T22:13:24.785Z"
   },
   {
    "duration": 12,
    "start_time": "2025-07-07T22:15:29.115Z"
   },
   {
    "duration": 19,
    "start_time": "2025-07-07T22:15:45.566Z"
   },
   {
    "duration": 29,
    "start_time": "2025-07-07T22:15:56.928Z"
   },
   {
    "duration": 18,
    "start_time": "2025-07-07T22:16:10.685Z"
   },
   {
    "duration": 24,
    "start_time": "2025-07-07T22:16:27.912Z"
   },
   {
    "duration": 157,
    "start_time": "2025-07-07T22:20:02.223Z"
   },
   {
    "duration": 201,
    "start_time": "2025-07-07T22:20:15.620Z"
   },
   {
    "duration": 54,
    "start_time": "2025-07-07T22:21:15.548Z"
   },
   {
    "duration": 58,
    "start_time": "2025-07-07T22:21:53.433Z"
   },
   {
    "duration": 58,
    "start_time": "2025-07-07T22:21:58.944Z"
   },
   {
    "duration": 116,
    "start_time": "2025-07-07T22:23:47.716Z"
   },
   {
    "duration": 58,
    "start_time": "2025-07-07T22:23:59.253Z"
   },
   {
    "duration": 149,
    "start_time": "2025-07-07T22:24:04.226Z"
   },
   {
    "duration": 10,
    "start_time": "2025-07-07T22:34:23.626Z"
   },
   {
    "duration": 47,
    "start_time": "2025-07-07T22:36:49.727Z"
   },
   {
    "duration": 24,
    "start_time": "2025-07-07T22:36:59.352Z"
   },
   {
    "duration": 24,
    "start_time": "2025-07-07T22:38:22.874Z"
   },
   {
    "duration": 19,
    "start_time": "2025-07-07T22:39:19.347Z"
   },
   {
    "duration": 25,
    "start_time": "2025-07-07T22:39:32.697Z"
   },
   {
    "duration": 97,
    "start_time": "2025-07-07T22:40:11.047Z"
   },
   {
    "duration": 96,
    "start_time": "2025-07-07T22:40:35.403Z"
   },
   {
    "duration": 86,
    "start_time": "2025-07-07T22:40:50.653Z"
   },
   {
    "duration": 18,
    "start_time": "2025-07-07T22:41:39.989Z"
   },
   {
    "duration": 44,
    "start_time": "2025-07-07T22:42:29.732Z"
   },
   {
    "duration": 1487,
    "start_time": "2025-07-07T22:44:56.799Z"
   },
   {
    "duration": 32,
    "start_time": "2025-07-07T22:45:29.152Z"
   },
   {
    "duration": 45,
    "start_time": "2025-07-08T08:25:19.826Z"
   },
   {
    "duration": 3516,
    "start_time": "2025-07-08T08:25:36.364Z"
   },
   {
    "duration": 3,
    "start_time": "2025-07-08T08:25:39.882Z"
   },
   {
    "duration": 54,
    "start_time": "2025-07-08T08:25:39.887Z"
   },
   {
    "duration": 121,
    "start_time": "2025-07-08T08:25:39.942Z"
   },
   {
    "duration": 36,
    "start_time": "2025-07-08T08:25:40.065Z"
   },
   {
    "duration": 21,
    "start_time": "2025-07-08T08:25:40.103Z"
   },
   {
    "duration": 78,
    "start_time": "2025-07-08T08:25:40.126Z"
   },
   {
    "duration": 85,
    "start_time": "2025-07-08T08:25:40.206Z"
   },
   {
    "duration": 13,
    "start_time": "2025-07-08T08:25:40.293Z"
   },
   {
    "duration": 615,
    "start_time": "2025-07-08T08:25:40.307Z"
   },
   {
    "duration": 6,
    "start_time": "2025-07-08T08:25:40.924Z"
   },
   {
    "duration": 78,
    "start_time": "2025-07-08T08:25:40.932Z"
   },
   {
    "duration": 337,
    "start_time": "2025-07-08T08:25:41.012Z"
   },
   {
    "duration": 48,
    "start_time": "2025-07-08T08:25:41.352Z"
   },
   {
    "duration": 231,
    "start_time": "2025-07-08T08:25:41.402Z"
   },
   {
    "duration": 51,
    "start_time": "2025-07-08T08:25:41.635Z"
   },
   {
    "duration": 1771,
    "start_time": "2025-07-08T08:25:41.687Z"
   },
   {
    "duration": 8,
    "start_time": "2025-07-08T08:28:25.247Z"
   },
   {
    "duration": 10,
    "start_time": "2025-07-08T08:28:37.626Z"
   },
   {
    "duration": 11,
    "start_time": "2025-07-08T08:28:40.500Z"
   },
   {
    "duration": 8,
    "start_time": "2025-07-08T08:29:03.301Z"
   },
   {
    "duration": 32,
    "start_time": "2025-07-08T08:29:39.456Z"
   },
   {
    "duration": 7,
    "start_time": "2025-07-08T08:29:48.304Z"
   },
   {
    "duration": 30,
    "start_time": "2025-07-08T08:32:01.940Z"
   },
   {
    "duration": 1517,
    "start_time": "2025-07-08T08:32:08.508Z"
   },
   {
    "duration": 45,
    "start_time": "2025-07-08T08:32:40.382Z"
   },
   {
    "duration": 31,
    "start_time": "2025-07-08T08:33:25.628Z"
   },
   {
    "duration": 39,
    "start_time": "2025-07-08T08:33:35.274Z"
   },
   {
    "duration": 31,
    "start_time": "2025-07-08T08:33:54.540Z"
   },
   {
    "duration": 167,
    "start_time": "2025-07-08T08:33:59.303Z"
   },
   {
    "duration": 184,
    "start_time": "2025-07-08T08:36:14.652Z"
   },
   {
    "duration": 180,
    "start_time": "2025-07-08T08:37:23.653Z"
   },
   {
    "duration": 84,
    "start_time": "2025-07-08T08:38:05.666Z"
   },
   {
    "duration": 169,
    "start_time": "2025-07-08T08:38:47.985Z"
   },
   {
    "duration": 164,
    "start_time": "2025-07-08T08:38:56.855Z"
   },
   {
    "duration": 176,
    "start_time": "2025-07-08T08:39:16.004Z"
   },
   {
    "duration": 175,
    "start_time": "2025-07-08T08:39:22.235Z"
   },
   {
    "duration": 178,
    "start_time": "2025-07-08T08:42:12.366Z"
   },
   {
    "duration": 200,
    "start_time": "2025-07-08T08:42:40.800Z"
   },
   {
    "duration": 99,
    "start_time": "2025-07-08T08:43:37.672Z"
   },
   {
    "duration": 293,
    "start_time": "2025-07-08T08:43:46.082Z"
   },
   {
    "duration": 298,
    "start_time": "2025-07-08T08:43:56.349Z"
   },
   {
    "duration": 90,
    "start_time": "2025-07-08T08:45:08.971Z"
   },
   {
    "duration": 346,
    "start_time": "2025-07-08T08:45:14.768Z"
   },
   {
    "duration": 222,
    "start_time": "2025-07-08T08:45:40.507Z"
   },
   {
    "duration": 346,
    "start_time": "2025-07-08T08:46:25.789Z"
   },
   {
    "duration": 180,
    "start_time": "2025-07-08T08:49:21.197Z"
   },
   {
    "duration": 155,
    "start_time": "2025-07-08T08:50:42.786Z"
   },
   {
    "duration": 51,
    "start_time": "2025-07-08T08:54:00.041Z"
   },
   {
    "duration": 76,
    "start_time": "2025-07-08T08:54:35.932Z"
   },
   {
    "duration": 9,
    "start_time": "2025-07-08T08:57:53.431Z"
   },
   {
    "duration": 10,
    "start_time": "2025-07-08T08:58:13.500Z"
   },
   {
    "duration": 14,
    "start_time": "2025-07-08T09:00:32.933Z"
   },
   {
    "duration": 12,
    "start_time": "2025-07-08T09:02:01.653Z"
   },
   {
    "duration": 4,
    "start_time": "2025-07-08T09:02:52.107Z"
   },
   {
    "duration": 9,
    "start_time": "2025-07-08T09:03:01.866Z"
   },
   {
    "duration": 9,
    "start_time": "2025-07-08T09:03:29.210Z"
   },
   {
    "duration": 12,
    "start_time": "2025-07-08T09:03:43.113Z"
   },
   {
    "duration": 11,
    "start_time": "2025-07-08T09:03:57.910Z"
   },
   {
    "duration": 10,
    "start_time": "2025-07-08T09:04:47.292Z"
   },
   {
    "duration": 104,
    "start_time": "2025-07-08T09:13:40.513Z"
   },
   {
    "duration": 162,
    "start_time": "2025-07-08T09:14:56.041Z"
   },
   {
    "duration": 326,
    "start_time": "2025-07-08T09:15:16.644Z"
   },
   {
    "duration": 342,
    "start_time": "2025-07-08T09:15:28.189Z"
   },
   {
    "duration": 320,
    "start_time": "2025-07-08T09:15:52.203Z"
   },
   {
    "duration": 104,
    "start_time": "2025-07-08T09:15:58.407Z"
   },
   {
    "duration": 116,
    "start_time": "2025-07-08T09:20:15.602Z"
   },
   {
    "duration": 128,
    "start_time": "2025-07-08T09:20:24.063Z"
   },
   {
    "duration": 115,
    "start_time": "2025-07-08T09:23:15.468Z"
   },
   {
    "duration": 58,
    "start_time": "2025-07-08T09:24:54.107Z"
   },
   {
    "duration": 8,
    "start_time": "2025-07-08T09:25:45.684Z"
   },
   {
    "duration": 13,
    "start_time": "2025-07-08T09:25:56.595Z"
   },
   {
    "duration": 15,
    "start_time": "2025-07-08T09:26:03.943Z"
   },
   {
    "duration": 13,
    "start_time": "2025-07-08T09:27:07.800Z"
   },
   {
    "duration": 14,
    "start_time": "2025-07-08T09:27:14.596Z"
   },
   {
    "duration": 14,
    "start_time": "2025-07-08T09:27:20.219Z"
   },
   {
    "duration": 14,
    "start_time": "2025-07-08T09:27:32.322Z"
   },
   {
    "duration": 129,
    "start_time": "2025-07-08T09:31:35.737Z"
   },
   {
    "duration": 140,
    "start_time": "2025-07-08T09:32:20.960Z"
   },
   {
    "duration": 13,
    "start_time": "2025-07-08T09:35:40.976Z"
   },
   {
    "duration": 18,
    "start_time": "2025-07-08T09:35:46.197Z"
   },
   {
    "duration": 152,
    "start_time": "2025-07-08T09:36:13.774Z"
   },
   {
    "duration": 318,
    "start_time": "2025-07-08T09:36:24.108Z"
   },
   {
    "duration": 1439,
    "start_time": "2025-07-08T09:36:51.194Z"
   },
   {
    "duration": 372,
    "start_time": "2025-07-08T09:37:00.987Z"
   },
   {
    "duration": 5,
    "start_time": "2025-07-08T09:37:49.084Z"
   },
   {
    "duration": 9,
    "start_time": "2025-07-08T09:38:04.690Z"
   },
   {
    "duration": 3,
    "start_time": "2025-07-08T09:38:43.231Z"
   },
   {
    "duration": 3,
    "start_time": "2025-07-08T09:38:45.454Z"
   },
   {
    "duration": 4,
    "start_time": "2025-07-08T09:39:01.514Z"
   },
   {
    "duration": 5,
    "start_time": "2025-07-08T09:39:13.830Z"
   },
   {
    "duration": 834,
    "start_time": "2025-07-08T09:40:48.305Z"
   },
   {
    "duration": 689,
    "start_time": "2025-07-08T09:41:00.636Z"
   },
   {
    "duration": 903,
    "start_time": "2025-07-08T09:41:06.995Z"
   },
   {
    "duration": 699,
    "start_time": "2025-07-08T09:41:42.847Z"
   },
   {
    "duration": 870,
    "start_time": "2025-07-08T09:43:00.412Z"
   },
   {
    "duration": 646,
    "start_time": "2025-07-08T09:43:10.174Z"
   },
   {
    "duration": 907,
    "start_time": "2025-07-08T09:43:26.891Z"
   },
   {
    "duration": 1462,
    "start_time": "2025-07-08T09:44:01.330Z"
   },
   {
    "duration": 1491,
    "start_time": "2025-07-08T09:45:06.580Z"
   },
   {
    "duration": 1510,
    "start_time": "2025-07-08T09:45:11.528Z"
   },
   {
    "duration": 1480,
    "start_time": "2025-07-08T09:45:38.592Z"
   },
   {
    "duration": 55,
    "start_time": "2025-07-08T10:08:25.370Z"
   },
   {
    "duration": 60,
    "start_time": "2025-07-08T10:08:36.334Z"
   },
   {
    "duration": 62,
    "start_time": "2025-07-08T10:09:03.071Z"
   },
   {
    "duration": 77,
    "start_time": "2025-07-08T10:15:31.985Z"
   },
   {
    "duration": 74,
    "start_time": "2025-07-08T10:16:19.535Z"
   },
   {
    "duration": 71,
    "start_time": "2025-07-08T10:16:25.509Z"
   },
   {
    "duration": 28,
    "start_time": "2025-07-08T10:16:28.201Z"
   },
   {
    "duration": 3373,
    "start_time": "2025-07-08T10:17:34.972Z"
   },
   {
    "duration": 3,
    "start_time": "2025-07-08T10:17:38.347Z"
   },
   {
    "duration": 27,
    "start_time": "2025-07-08T10:17:38.351Z"
   },
   {
    "duration": 149,
    "start_time": "2025-07-08T10:17:38.381Z"
   },
   {
    "duration": 30,
    "start_time": "2025-07-08T10:17:38.531Z"
   },
   {
    "duration": 103,
    "start_time": "2025-07-08T10:17:38.563Z"
   },
   {
    "duration": 57,
    "start_time": "2025-07-08T10:17:38.668Z"
   },
   {
    "duration": 21,
    "start_time": "2025-07-08T10:17:38.726Z"
   },
   {
    "duration": 72,
    "start_time": "2025-07-08T10:17:38.749Z"
   },
   {
    "duration": 751,
    "start_time": "2025-07-08T10:17:38.824Z"
   },
   {
    "duration": 6,
    "start_time": "2025-07-08T10:17:39.577Z"
   },
   {
    "duration": 75,
    "start_time": "2025-07-08T10:17:39.585Z"
   },
   {
    "duration": 366,
    "start_time": "2025-07-08T10:17:39.662Z"
   },
   {
    "duration": 38,
    "start_time": "2025-07-08T10:17:40.030Z"
   },
   {
    "duration": 341,
    "start_time": "2025-07-08T10:17:40.069Z"
   },
   {
    "duration": 50,
    "start_time": "2025-07-08T10:17:40.414Z"
   },
   {
    "duration": 202,
    "start_time": "2025-07-08T10:17:40.466Z"
   },
   {
    "duration": 184,
    "start_time": "2025-07-08T10:17:40.670Z"
   },
   {
    "duration": 86,
    "start_time": "2025-07-08T10:17:40.856Z"
   },
   {
    "duration": 117,
    "start_time": "2025-07-08T10:17:40.944Z"
   },
   {
    "duration": 73,
    "start_time": "2025-07-08T10:17:41.063Z"
   },
   {
    "duration": 379,
    "start_time": "2025-07-08T10:17:41.138Z"
   },
   {
    "duration": 17,
    "start_time": "2025-07-08T10:17:41.518Z"
   },
   {
    "duration": 1574,
    "start_time": "2025-07-08T10:17:41.537Z"
   },
   {
    "duration": 65,
    "start_time": "2025-07-08T10:17:43.115Z"
   },
   {
    "duration": 62,
    "start_time": "2025-07-08T10:17:43.182Z"
   },
   {
    "duration": 14,
    "start_time": "2025-07-08T10:17:43.246Z"
   },
   {
    "duration": 109,
    "start_time": "2025-07-08T10:19:19.123Z"
   },
   {
    "duration": 69,
    "start_time": "2025-07-08T10:19:27.703Z"
   },
   {
    "duration": 3,
    "start_time": "2025-07-08T10:26:42.923Z"
   },
   {
    "duration": 3139,
    "start_time": "2025-07-08T10:28:41.022Z"
   },
   {
    "duration": 4,
    "start_time": "2025-07-08T10:28:44.164Z"
   },
   {
    "duration": 46,
    "start_time": "2025-07-08T10:28:44.170Z"
   },
   {
    "duration": 147,
    "start_time": "2025-07-08T10:28:44.218Z"
   },
   {
    "duration": 49,
    "start_time": "2025-07-08T10:28:44.369Z"
   },
   {
    "duration": 28,
    "start_time": "2025-07-08T10:28:44.420Z"
   },
   {
    "duration": 73,
    "start_time": "2025-07-08T10:28:44.450Z"
   },
   {
    "duration": 24,
    "start_time": "2025-07-08T10:28:44.525Z"
   },
   {
    "duration": 30,
    "start_time": "2025-07-08T10:28:44.552Z"
   },
   {
    "duration": 756,
    "start_time": "2025-07-08T10:28:44.584Z"
   },
   {
    "duration": 7,
    "start_time": "2025-07-08T10:28:45.341Z"
   },
   {
    "duration": 42,
    "start_time": "2025-07-08T10:28:45.350Z"
   },
   {
    "duration": 354,
    "start_time": "2025-07-08T10:28:45.394Z"
   },
   {
    "duration": 56,
    "start_time": "2025-07-08T10:28:45.752Z"
   },
   {
    "duration": 249,
    "start_time": "2025-07-08T10:28:45.809Z"
   },
   {
    "duration": 67,
    "start_time": "2025-07-08T10:28:46.059Z"
   },
   {
    "duration": 234,
    "start_time": "2025-07-08T10:28:46.128Z"
   },
   {
    "duration": 179,
    "start_time": "2025-07-08T10:28:46.363Z"
   },
   {
    "duration": 11,
    "start_time": "2025-07-08T10:28:46.544Z"
   },
   {
    "duration": 98,
    "start_time": "2025-07-08T10:28:46.557Z"
   },
   {
    "duration": 173,
    "start_time": "2025-07-08T10:28:46.657Z"
   },
   {
    "duration": 82,
    "start_time": "2025-07-08T10:28:46.832Z"
   },
   {
    "duration": 423,
    "start_time": "2025-07-08T10:28:46.918Z"
   },
   {
    "duration": 18,
    "start_time": "2025-07-08T10:28:47.343Z"
   },
   {
    "duration": 1531,
    "start_time": "2025-07-08T10:28:47.363Z"
   },
   {
    "duration": 78,
    "start_time": "2025-07-08T10:28:48.897Z"
   },
   {
    "duration": 71,
    "start_time": "2025-07-08T10:28:48.977Z"
   },
   {
    "duration": 17,
    "start_time": "2025-07-08T10:28:49.050Z"
   },
   {
    "duration": 20,
    "start_time": "2025-07-08T10:31:13.641Z"
   },
   {
    "duration": 16,
    "start_time": "2025-07-08T10:31:19.180Z"
   },
   {
    "duration": 5,
    "start_time": "2025-07-08T10:32:15.298Z"
   },
   {
    "duration": 118,
    "start_time": "2025-07-08T10:34:23.635Z"
   },
   {
    "duration": 76,
    "start_time": "2025-07-08T10:34:30.174Z"
   },
   {
    "duration": 350,
    "start_time": "2025-07-08T10:34:33.320Z"
   },
   {
    "duration": 26,
    "start_time": "2025-07-08T10:34:34.294Z"
   },
   {
    "duration": 17,
    "start_time": "2025-07-08T10:35:39.812Z"
   },
   {
    "duration": 1393,
    "start_time": "2025-07-08T10:35:52.875Z"
   },
   {
    "duration": 125,
    "start_time": "2025-07-08T10:36:03.130Z"
   },
   {
    "duration": 7,
    "start_time": "2025-07-08T10:37:09.549Z"
   },
   {
    "duration": 52,
    "start_time": "2025-07-08T10:37:15.477Z"
   },
   {
    "duration": 16,
    "start_time": "2025-07-08T10:38:02.083Z"
   },
   {
    "duration": 1460,
    "start_time": "2025-07-08T10:42:29.279Z"
   },
   {
    "duration": 31,
    "start_time": "2025-07-08T10:43:42.657Z"
   },
   {
    "duration": 28,
    "start_time": "2025-07-08T10:44:35.708Z"
   },
   {
    "duration": 1151,
    "start_time": "2025-07-08T10:44:46.730Z"
   },
   {
    "duration": 1494,
    "start_time": "2025-07-08T10:45:00.375Z"
   },
   {
    "duration": 21,
    "start_time": "2025-07-08T10:45:30.672Z"
   },
   {
    "duration": 32,
    "start_time": "2025-07-08T10:45:52.886Z"
   },
   {
    "duration": 91,
    "start_time": "2025-07-08T10:46:20.287Z"
   },
   {
    "duration": 9,
    "start_time": "2025-07-08T10:48:16.637Z"
   },
   {
    "duration": 11,
    "start_time": "2025-07-08T10:48:30.563Z"
   },
   {
    "duration": 58,
    "start_time": "2025-07-08T10:49:04.645Z"
   },
   {
    "duration": 29,
    "start_time": "2025-07-08T10:49:13.742Z"
   },
   {
    "duration": 6,
    "start_time": "2025-07-08T10:49:54.849Z"
   },
   {
    "duration": 14,
    "start_time": "2025-07-08T10:50:43.555Z"
   },
   {
    "duration": 17,
    "start_time": "2025-07-08T10:52:14.431Z"
   },
   {
    "duration": 1466,
    "start_time": "2025-07-08T10:52:40.989Z"
   },
   {
    "duration": 60,
    "start_time": "2025-07-08T10:53:23.852Z"
   },
   {
    "duration": 52,
    "start_time": "2025-07-08T10:53:26.679Z"
   },
   {
    "duration": 15,
    "start_time": "2025-07-08T10:53:30.659Z"
   },
   {
    "duration": 15,
    "start_time": "2025-07-08T10:57:26.128Z"
   },
   {
    "duration": 61,
    "start_time": "2025-07-08T10:57:34.854Z"
   },
   {
    "duration": 58,
    "start_time": "2025-07-08T10:58:37.855Z"
   },
   {
    "duration": 17,
    "start_time": "2025-07-08T10:58:40.565Z"
   },
   {
    "duration": 3106,
    "start_time": "2025-07-08T10:58:55.311Z"
   },
   {
    "duration": 3,
    "start_time": "2025-07-08T10:58:58.420Z"
   },
   {
    "duration": 36,
    "start_time": "2025-07-08T10:58:58.424Z"
   },
   {
    "duration": 119,
    "start_time": "2025-07-08T10:58:58.462Z"
   },
   {
    "duration": 38,
    "start_time": "2025-07-08T10:58:58.584Z"
   },
   {
    "duration": 26,
    "start_time": "2025-07-08T10:58:58.623Z"
   },
   {
    "duration": 68,
    "start_time": "2025-07-08T10:58:58.650Z"
   },
   {
    "duration": 107,
    "start_time": "2025-07-08T10:58:58.720Z"
   },
   {
    "duration": 14,
    "start_time": "2025-07-08T10:58:58.829Z"
   },
   {
    "duration": 611,
    "start_time": "2025-07-08T10:58:58.844Z"
   },
   {
    "duration": 5,
    "start_time": "2025-07-08T10:58:59.457Z"
   },
   {
    "duration": 39,
    "start_time": "2025-07-08T10:58:59.463Z"
   },
   {
    "duration": 349,
    "start_time": "2025-07-08T10:58:59.504Z"
   },
   {
    "duration": 52,
    "start_time": "2025-07-08T10:58:59.857Z"
   },
   {
    "duration": 243,
    "start_time": "2025-07-08T10:58:59.911Z"
   },
   {
    "duration": 65,
    "start_time": "2025-07-08T10:59:00.156Z"
   },
   {
    "duration": 267,
    "start_time": "2025-07-08T10:59:00.223Z"
   },
   {
    "duration": 173,
    "start_time": "2025-07-08T10:59:00.492Z"
   },
   {
    "duration": 17,
    "start_time": "2025-07-08T10:59:00.667Z"
   },
   {
    "duration": 105,
    "start_time": "2025-07-08T10:59:00.686Z"
   },
   {
    "duration": 313,
    "start_time": "2025-07-08T10:59:00.793Z"
   },
   {
    "duration": 115,
    "start_time": "2025-07-08T10:59:01.108Z"
   },
   {
    "duration": 94,
    "start_time": "2025-07-08T10:59:01.225Z"
   },
   {
    "duration": 412,
    "start_time": "2025-07-08T10:59:01.321Z"
   },
   {
    "duration": 16,
    "start_time": "2025-07-08T10:59:01.735Z"
   },
   {
    "duration": 168,
    "start_time": "2025-07-08T10:59:01.753Z"
   },
   {
    "duration": 1544,
    "start_time": "2025-07-08T10:59:01.923Z"
   },
   {
    "duration": 106,
    "start_time": "2025-07-08T10:59:03.469Z"
   },
   {
    "duration": 1,
    "start_time": "2025-07-08T10:59:03.576Z"
   },
   {
    "duration": 1431,
    "start_time": "2025-07-08T10:59:30.050Z"
   },
   {
    "duration": 18,
    "start_time": "2025-07-08T11:01:55.493Z"
   },
   {
    "duration": 61,
    "start_time": "2025-07-08T11:01:59.978Z"
   },
   {
    "duration": 1518,
    "start_time": "2025-07-08T11:02:04.829Z"
   },
   {
    "duration": 11,
    "start_time": "2025-07-08T11:02:37.790Z"
   },
   {
    "duration": 15,
    "start_time": "2025-07-08T11:02:40.480Z"
   },
   {
    "duration": 79,
    "start_time": "2025-07-08T11:03:10.174Z"
   },
   {
    "duration": 19,
    "start_time": "2025-07-08T11:06:12.301Z"
   },
   {
    "duration": 22,
    "start_time": "2025-07-08T11:06:23.126Z"
   },
   {
    "duration": 14,
    "start_time": "2025-07-08T11:07:13.917Z"
   },
   {
    "duration": 24,
    "start_time": "2025-07-08T11:07:26.749Z"
   },
   {
    "duration": 11,
    "start_time": "2025-07-08T11:07:35.474Z"
   },
   {
    "duration": 18,
    "start_time": "2025-07-08T11:07:41.416Z"
   },
   {
    "duration": 78,
    "start_time": "2025-07-08T11:08:19.647Z"
   },
   {
    "duration": 11,
    "start_time": "2025-07-08T11:08:48.073Z"
   },
   {
    "duration": 4,
    "start_time": "2025-07-08T11:11:14.787Z"
   },
   {
    "duration": 18,
    "start_time": "2025-07-08T11:12:01.662Z"
   },
   {
    "duration": 11,
    "start_time": "2025-07-08T11:12:17.642Z"
   },
   {
    "duration": 4,
    "start_time": "2025-07-08T11:12:34.661Z"
   },
   {
    "duration": 10,
    "start_time": "2025-07-08T11:12:52.994Z"
   },
   {
    "duration": 67,
    "start_time": "2025-07-08T11:14:11.236Z"
   },
   {
    "duration": 74,
    "start_time": "2025-07-08T11:14:50.282Z"
   },
   {
    "duration": 5,
    "start_time": "2025-07-08T11:14:58.869Z"
   },
   {
    "duration": 14,
    "start_time": "2025-07-08T11:17:55.570Z"
   },
   {
    "duration": 14,
    "start_time": "2025-07-08T11:18:02.996Z"
   },
   {
    "duration": 9,
    "start_time": "2025-07-08T11:18:50.351Z"
   },
   {
    "duration": 10,
    "start_time": "2025-07-08T11:19:15.244Z"
   },
   {
    "duration": 9,
    "start_time": "2025-07-08T11:19:35.630Z"
   },
   {
    "duration": 64,
    "start_time": "2025-07-08T11:19:48.969Z"
   },
   {
    "duration": 15,
    "start_time": "2025-07-08T11:19:57.050Z"
   },
   {
    "duration": 4282,
    "start_time": "2025-07-08T11:21:31.638Z"
   },
   {
    "duration": 4,
    "start_time": "2025-07-08T11:21:35.923Z"
   },
   {
    "duration": 41,
    "start_time": "2025-07-08T11:21:35.929Z"
   },
   {
    "duration": 150,
    "start_time": "2025-07-08T11:21:35.972Z"
   },
   {
    "duration": 33,
    "start_time": "2025-07-08T11:21:36.124Z"
   },
   {
    "duration": 223,
    "start_time": "2025-07-08T11:21:36.159Z"
   },
   {
    "duration": 55,
    "start_time": "2025-07-08T11:21:36.384Z"
   },
   {
    "duration": 22,
    "start_time": "2025-07-08T11:21:36.440Z"
   },
   {
    "duration": 42,
    "start_time": "2025-07-08T11:21:36.464Z"
   },
   {
    "duration": 742,
    "start_time": "2025-07-08T11:21:36.508Z"
   },
   {
    "duration": 7,
    "start_time": "2025-07-08T11:21:37.252Z"
   },
   {
    "duration": 40,
    "start_time": "2025-07-08T11:21:37.261Z"
   },
   {
    "duration": 363,
    "start_time": "2025-07-08T11:21:37.303Z"
   },
   {
    "duration": 51,
    "start_time": "2025-07-08T11:21:37.669Z"
   },
   {
    "duration": 264,
    "start_time": "2025-07-08T11:21:37.722Z"
   },
   {
    "duration": 53,
    "start_time": "2025-07-08T11:21:37.988Z"
   },
   {
    "duration": 211,
    "start_time": "2025-07-08T11:21:38.042Z"
   },
   {
    "duration": 175,
    "start_time": "2025-07-08T11:21:38.255Z"
   },
   {
    "duration": 14,
    "start_time": "2025-07-08T11:21:38.432Z"
   },
   {
    "duration": 5,
    "start_time": "2025-07-08T11:21:38.447Z"
   },
   {
    "duration": 85,
    "start_time": "2025-07-08T11:21:38.454Z"
   },
   {
    "duration": 122,
    "start_time": "2025-07-08T11:21:38.540Z"
   },
   {
    "duration": 82,
    "start_time": "2025-07-08T11:21:38.664Z"
   },
   {
    "duration": 419,
    "start_time": "2025-07-08T11:21:38.747Z"
   },
   {
    "duration": 16,
    "start_time": "2025-07-08T11:21:39.168Z"
   },
   {
    "duration": 113,
    "start_time": "2025-07-08T11:21:39.186Z"
   },
   {
    "duration": 1502,
    "start_time": "2025-07-08T11:21:39.301Z"
   },
   {
    "duration": 15,
    "start_time": "2025-07-08T11:21:51.232Z"
   },
   {
    "duration": 12,
    "start_time": "2025-07-08T11:22:09.773Z"
   },
   {
    "duration": 18,
    "start_time": "2025-07-08T11:22:12.696Z"
   },
   {
    "duration": 271,
    "start_time": "2025-07-08T11:24:20.156Z"
   },
   {
    "duration": 321,
    "start_time": "2025-07-08T11:24:33.561Z"
   },
   {
    "duration": 309,
    "start_time": "2025-07-08T11:24:37.054Z"
   },
   {
    "duration": 334,
    "start_time": "2025-07-08T11:27:24.534Z"
   },
   {
    "duration": 319,
    "start_time": "2025-07-08T11:27:30.672Z"
   },
   {
    "duration": 109,
    "start_time": "2025-07-08T11:31:32.182Z"
   },
   {
    "duration": 12,
    "start_time": "2025-07-08T11:31:47.204Z"
   },
   {
    "duration": 61,
    "start_time": "2025-07-08T11:32:49.261Z"
   },
   {
    "duration": 64,
    "start_time": "2025-07-08T11:41:09.513Z"
   },
   {
    "duration": 16,
    "start_time": "2025-07-08T11:41:23.511Z"
   },
   {
    "duration": 93,
    "start_time": "2025-07-08T11:41:31.865Z"
   },
   {
    "duration": 1410,
    "start_time": "2025-07-08T11:41:41.611Z"
   },
   {
    "duration": 11,
    "start_time": "2025-07-08T11:43:12.061Z"
   },
   {
    "duration": 14,
    "start_time": "2025-07-08T11:58:39.551Z"
   },
   {
    "duration": 10,
    "start_time": "2025-07-08T12:05:53.217Z"
   },
   {
    "duration": 18,
    "start_time": "2025-07-08T12:06:09.244Z"
   },
   {
    "duration": 10,
    "start_time": "2025-07-08T12:06:27.901Z"
   },
   {
    "duration": 4,
    "start_time": "2025-07-08T12:06:42.463Z"
   },
   {
    "duration": 20,
    "start_time": "2025-07-08T12:07:34.489Z"
   },
   {
    "duration": 26,
    "start_time": "2025-07-08T12:08:51.412Z"
   },
   {
    "duration": 7,
    "start_time": "2025-07-08T12:09:07.568Z"
   },
   {
    "duration": 23,
    "start_time": "2025-07-08T12:09:22.474Z"
   },
   {
    "duration": 27,
    "start_time": "2025-07-08T12:10:19.915Z"
   },
   {
    "duration": 27,
    "start_time": "2025-07-08T12:10:27.006Z"
   },
   {
    "duration": 25,
    "start_time": "2025-07-08T12:12:08.934Z"
   },
   {
    "duration": 24,
    "start_time": "2025-07-08T12:13:42.742Z"
   },
   {
    "duration": 24,
    "start_time": "2025-07-08T12:13:55.283Z"
   },
   {
    "duration": 3452,
    "start_time": "2025-07-08T12:15:24.265Z"
   },
   {
    "duration": 3,
    "start_time": "2025-07-08T12:15:27.719Z"
   },
   {
    "duration": 40,
    "start_time": "2025-07-08T12:15:27.723Z"
   },
   {
    "duration": 119,
    "start_time": "2025-07-08T12:15:27.764Z"
   },
   {
    "duration": 32,
    "start_time": "2025-07-08T12:15:27.885Z"
   },
   {
    "duration": 42,
    "start_time": "2025-07-08T12:15:27.918Z"
   },
   {
    "duration": 50,
    "start_time": "2025-07-08T12:15:27.962Z"
   },
   {
    "duration": 22,
    "start_time": "2025-07-08T12:15:28.013Z"
   },
   {
    "duration": 93,
    "start_time": "2025-07-08T12:15:28.036Z"
   },
   {
    "duration": 608,
    "start_time": "2025-07-08T12:15:28.131Z"
   },
   {
    "duration": 6,
    "start_time": "2025-07-08T12:15:28.741Z"
   },
   {
    "duration": 31,
    "start_time": "2025-07-08T12:15:28.748Z"
   },
   {
    "duration": 347,
    "start_time": "2025-07-08T12:15:28.781Z"
   },
   {
    "duration": 37,
    "start_time": "2025-07-08T12:15:29.131Z"
   },
   {
    "duration": 242,
    "start_time": "2025-07-08T12:15:29.170Z"
   },
   {
    "duration": 52,
    "start_time": "2025-07-08T12:15:29.414Z"
   },
   {
    "duration": 198,
    "start_time": "2025-07-08T12:15:29.468Z"
   },
   {
    "duration": 169,
    "start_time": "2025-07-08T12:15:29.667Z"
   },
   {
    "duration": 16,
    "start_time": "2025-07-08T12:15:29.838Z"
   },
   {
    "duration": 19,
    "start_time": "2025-07-08T12:15:29.855Z"
   },
   {
    "duration": 80,
    "start_time": "2025-07-08T12:15:29.875Z"
   },
   {
    "duration": 128,
    "start_time": "2025-07-08T12:15:29.957Z"
   },
   {
    "duration": 77,
    "start_time": "2025-07-08T12:15:30.087Z"
   },
   {
    "duration": 382,
    "start_time": "2025-07-08T12:15:30.166Z"
   },
   {
    "duration": 73,
    "start_time": "2025-07-08T12:15:30.550Z"
   },
   {
    "duration": 65,
    "start_time": "2025-07-08T12:15:30.625Z"
   },
   {
    "duration": 1400,
    "start_time": "2025-07-08T12:15:30.691Z"
   },
   {
    "duration": 16,
    "start_time": "2025-07-08T12:15:32.092Z"
   },
   {
    "duration": 23,
    "start_time": "2025-07-08T12:15:32.110Z"
   },
   {
    "duration": 35,
    "start_time": "2025-07-08T12:15:32.134Z"
   },
   {
    "duration": 32,
    "start_time": "2025-07-08T12:18:28.049Z"
   },
   {
    "duration": 48,
    "start_time": "2025-07-08T12:20:16.058Z"
   },
   {
    "duration": 20,
    "start_time": "2025-07-08T12:21:08.252Z"
   },
   {
    "duration": 85,
    "start_time": "2025-07-08T12:23:46.455Z"
   },
   {
    "duration": 194,
    "start_time": "2025-07-08T12:24:02.244Z"
   },
   {
    "duration": 85,
    "start_time": "2025-07-08T12:24:37.500Z"
   },
   {
    "duration": 27,
    "start_time": "2025-07-08T12:24:53.092Z"
   },
   {
    "duration": 53,
    "start_time": "2025-07-08T12:25:24.272Z"
   },
   {
    "duration": 84,
    "start_time": "2025-07-08T12:26:16.365Z"
   },
   {
    "duration": 47,
    "start_time": "2025-07-08T12:26:25.105Z"
   },
   {
    "duration": 69,
    "start_time": "2025-07-08T12:26:45.026Z"
   },
   {
    "duration": 24,
    "start_time": "2025-07-08T12:29:03.367Z"
   },
   {
    "duration": 76,
    "start_time": "2025-07-08T13:03:35.347Z"
   },
   {
    "duration": 1020,
    "start_time": "2025-07-08T13:06:09.434Z"
   },
   {
    "duration": 23,
    "start_time": "2025-07-08T13:07:28.400Z"
   },
   {
    "duration": 45,
    "start_time": "2025-07-08T13:07:35.904Z"
   },
   {
    "duration": 124,
    "start_time": "2025-07-08T13:11:14.677Z"
   },
   {
    "duration": 34,
    "start_time": "2025-07-08T13:11:52.526Z"
   },
   {
    "duration": 52,
    "start_time": "2025-07-08T13:13:44.267Z"
   },
   {
    "duration": 29,
    "start_time": "2025-07-08T13:25:14.019Z"
   },
   {
    "duration": 26,
    "start_time": "2025-07-08T13:33:09.870Z"
   },
   {
    "duration": 50,
    "start_time": "2025-07-08T13:33:16.181Z"
   },
   {
    "duration": 34,
    "start_time": "2025-07-08T13:33:47.678Z"
   },
   {
    "duration": 32,
    "start_time": "2025-07-08T13:34:51.537Z"
   },
   {
    "duration": 90,
    "start_time": "2025-07-08T13:34:56.627Z"
   },
   {
    "duration": 280,
    "start_time": "2025-07-08T13:35:34.094Z"
   },
   {
    "duration": 21,
    "start_time": "2025-07-08T13:36:11.862Z"
   },
   {
    "duration": 45,
    "start_time": "2025-07-08T13:36:19.549Z"
   },
   {
    "duration": 4,
    "start_time": "2025-07-08T13:36:50.993Z"
   },
   {
    "duration": 297,
    "start_time": "2025-07-08T13:37:24.787Z"
   },
   {
    "duration": 235,
    "start_time": "2025-07-08T13:38:18.441Z"
   },
   {
    "duration": 4,
    "start_time": "2025-07-08T13:38:37.621Z"
   },
   {
    "duration": 58,
    "start_time": "2025-07-08T13:38:53.543Z"
   },
   {
    "duration": 83,
    "start_time": "2025-07-08T13:39:39.784Z"
   },
   {
    "duration": 6,
    "start_time": "2025-07-08T13:39:44.529Z"
   },
   {
    "duration": 13,
    "start_time": "2025-07-08T13:40:34.730Z"
   },
   {
    "duration": 10,
    "start_time": "2025-07-08T13:40:42.469Z"
   },
   {
    "duration": 9,
    "start_time": "2025-07-08T13:41:37.220Z"
   },
   {
    "duration": 4,
    "start_time": "2025-07-08T13:41:41.478Z"
   },
   {
    "duration": 10,
    "start_time": "2025-07-08T13:41:45.570Z"
   },
   {
    "duration": 10,
    "start_time": "2025-07-08T13:41:50.437Z"
   },
   {
    "duration": 1103,
    "start_time": "2025-07-08T13:42:02.190Z"
   },
   {
    "duration": 3446,
    "start_time": "2025-07-08T13:42:27.486Z"
   },
   {
    "duration": 3,
    "start_time": "2025-07-08T13:42:30.934Z"
   },
   {
    "duration": 85,
    "start_time": "2025-07-08T13:42:30.938Z"
   },
   {
    "duration": 149,
    "start_time": "2025-07-08T13:42:31.025Z"
   },
   {
    "duration": 36,
    "start_time": "2025-07-08T13:42:31.176Z"
   },
   {
    "duration": 83,
    "start_time": "2025-07-08T13:42:31.213Z"
   },
   {
    "duration": 132,
    "start_time": "2025-07-08T13:42:31.298Z"
   },
   {
    "duration": 21,
    "start_time": "2025-07-08T13:42:31.432Z"
   },
   {
    "duration": 19,
    "start_time": "2025-07-08T13:42:31.455Z"
   },
   {
    "duration": 655,
    "start_time": "2025-07-08T13:42:31.476Z"
   },
   {
    "duration": 5,
    "start_time": "2025-07-08T13:42:32.133Z"
   },
   {
    "duration": 53,
    "start_time": "2025-07-08T13:42:32.140Z"
   },
   {
    "duration": 334,
    "start_time": "2025-07-08T13:42:32.195Z"
   },
   {
    "duration": 39,
    "start_time": "2025-07-08T13:42:32.532Z"
   },
   {
    "duration": 249,
    "start_time": "2025-07-08T13:42:32.572Z"
   },
   {
    "duration": 56,
    "start_time": "2025-07-08T13:42:32.823Z"
   },
   {
    "duration": 218,
    "start_time": "2025-07-08T13:42:32.880Z"
   },
   {
    "duration": 164,
    "start_time": "2025-07-08T13:42:33.100Z"
   },
   {
    "duration": 15,
    "start_time": "2025-07-08T13:42:33.266Z"
   },
   {
    "duration": 132,
    "start_time": "2025-07-08T13:42:33.283Z"
   },
   {
    "duration": 93,
    "start_time": "2025-07-08T13:42:33.417Z"
   },
   {
    "duration": 116,
    "start_time": "2025-07-08T13:42:33.512Z"
   },
   {
    "duration": 83,
    "start_time": "2025-07-08T13:42:33.630Z"
   },
   {
    "duration": 351,
    "start_time": "2025-07-08T13:42:33.715Z"
   },
   {
    "duration": 72,
    "start_time": "2025-07-08T13:42:34.068Z"
   },
   {
    "duration": 16,
    "start_time": "2025-07-08T13:42:34.142Z"
   },
   {
    "duration": 1361,
    "start_time": "2025-07-08T13:42:34.160Z"
   },
   {
    "duration": 11,
    "start_time": "2025-07-08T13:42:35.523Z"
   },
   {
    "duration": 31,
    "start_time": "2025-07-08T13:42:35.535Z"
   },
   {
    "duration": 58,
    "start_time": "2025-07-08T13:42:35.567Z"
   },
   {
    "duration": 27,
    "start_time": "2025-07-08T13:42:35.626Z"
   },
   {
    "duration": 94,
    "start_time": "2025-07-08T13:42:35.655Z"
   },
   {
    "duration": 0,
    "start_time": "2025-07-08T13:42:35.750Z"
   },
   {
    "duration": 0,
    "start_time": "2025-07-08T13:42:35.752Z"
   },
   {
    "duration": 0,
    "start_time": "2025-07-08T13:42:35.754Z"
   },
   {
    "duration": 0,
    "start_time": "2025-07-08T13:42:35.755Z"
   },
   {
    "duration": 0,
    "start_time": "2025-07-08T13:42:35.756Z"
   },
   {
    "duration": 0,
    "start_time": "2025-07-08T13:42:35.757Z"
   },
   {
    "duration": 0,
    "start_time": "2025-07-08T13:42:35.758Z"
   },
   {
    "duration": 0,
    "start_time": "2025-07-08T13:42:35.759Z"
   },
   {
    "duration": 0,
    "start_time": "2025-07-08T13:42:35.760Z"
   },
   {
    "duration": 0,
    "start_time": "2025-07-08T13:42:35.761Z"
   },
   {
    "duration": 0,
    "start_time": "2025-07-08T13:42:35.762Z"
   },
   {
    "duration": 1,
    "start_time": "2025-07-08T13:42:35.762Z"
   },
   {
    "duration": 0,
    "start_time": "2025-07-08T13:42:35.763Z"
   },
   {
    "duration": 80,
    "start_time": "2025-07-08T13:44:14.713Z"
   },
   {
    "duration": 23,
    "start_time": "2025-07-08T13:44:17.341Z"
   },
   {
    "duration": 52,
    "start_time": "2025-07-08T13:44:19.690Z"
   },
   {
    "duration": 70,
    "start_time": "2025-07-08T13:44:20.259Z"
   },
   {
    "duration": 25,
    "start_time": "2025-07-08T13:44:20.879Z"
   },
   {
    "duration": 34,
    "start_time": "2025-07-08T13:44:58.222Z"
   },
   {
    "duration": 914,
    "start_time": "2025-07-08T13:45:02.791Z"
   },
   {
    "duration": 31,
    "start_time": "2025-07-08T13:45:29.844Z"
   },
   {
    "duration": 4,
    "start_time": "2025-07-08T13:45:38.190Z"
   },
   {
    "duration": 4,
    "start_time": "2025-07-08T13:45:40.287Z"
   },
   {
    "duration": 98,
    "start_time": "2025-07-08T13:45:43.060Z"
   },
   {
    "duration": 9,
    "start_time": "2025-07-08T13:47:49.231Z"
   },
   {
    "duration": 9,
    "start_time": "2025-07-08T13:48:14.776Z"
   },
   {
    "duration": 9,
    "start_time": "2025-07-08T13:48:44.975Z"
   },
   {
    "duration": 9,
    "start_time": "2025-07-08T13:49:23.306Z"
   },
   {
    "duration": 10,
    "start_time": "2025-07-08T13:49:44.522Z"
   },
   {
    "duration": 11,
    "start_time": "2025-07-08T13:49:46.947Z"
   },
   {
    "duration": 1182,
    "start_time": "2025-07-08T13:49:50.610Z"
   },
   {
    "duration": 4,
    "start_time": "2025-07-08T13:52:13.929Z"
   },
   {
    "duration": 9,
    "start_time": "2025-07-08T13:52:25.353Z"
   },
   {
    "duration": 3806,
    "start_time": "2025-07-08T13:52:34.073Z"
   },
   {
    "duration": 3,
    "start_time": "2025-07-08T13:52:37.881Z"
   },
   {
    "duration": 38,
    "start_time": "2025-07-08T13:52:37.886Z"
   },
   {
    "duration": 125,
    "start_time": "2025-07-08T13:52:37.925Z"
   },
   {
    "duration": 28,
    "start_time": "2025-07-08T13:52:38.053Z"
   },
   {
    "duration": 25,
    "start_time": "2025-07-08T13:52:38.099Z"
   },
   {
    "duration": 79,
    "start_time": "2025-07-08T13:52:38.125Z"
   },
   {
    "duration": 27,
    "start_time": "2025-07-08T13:52:38.206Z"
   },
   {
    "duration": 21,
    "start_time": "2025-07-08T13:52:38.234Z"
   },
   {
    "duration": 641,
    "start_time": "2025-07-08T13:52:38.257Z"
   },
   {
    "duration": 6,
    "start_time": "2025-07-08T13:52:38.900Z"
   },
   {
    "duration": 35,
    "start_time": "2025-07-08T13:52:38.908Z"
   },
   {
    "duration": 369,
    "start_time": "2025-07-08T13:52:38.946Z"
   },
   {
    "duration": 48,
    "start_time": "2025-07-08T13:52:39.319Z"
   },
   {
    "duration": 318,
    "start_time": "2025-07-08T13:52:39.369Z"
   },
   {
    "duration": 54,
    "start_time": "2025-07-08T13:52:39.689Z"
   },
   {
    "duration": 221,
    "start_time": "2025-07-08T13:52:39.745Z"
   },
   {
    "duration": 189,
    "start_time": "2025-07-08T13:52:39.968Z"
   },
   {
    "duration": 17,
    "start_time": "2025-07-08T13:52:40.162Z"
   },
   {
    "duration": 21,
    "start_time": "2025-07-08T13:52:40.180Z"
   },
   {
    "duration": 111,
    "start_time": "2025-07-08T13:52:40.203Z"
   },
   {
    "duration": 120,
    "start_time": "2025-07-08T13:52:40.316Z"
   },
   {
    "duration": 83,
    "start_time": "2025-07-08T13:52:40.438Z"
   },
   {
    "duration": 412,
    "start_time": "2025-07-08T13:52:40.523Z"
   },
   {
    "duration": 111,
    "start_time": "2025-07-08T13:52:40.937Z"
   },
   {
    "duration": 19,
    "start_time": "2025-07-08T13:52:41.049Z"
   },
   {
    "duration": 1586,
    "start_time": "2025-07-08T13:52:41.070Z"
   },
   {
    "duration": 18,
    "start_time": "2025-07-08T13:52:42.659Z"
   },
   {
    "duration": 34,
    "start_time": "2025-07-08T13:52:42.680Z"
   },
   {
    "duration": 37,
    "start_time": "2025-07-08T13:52:42.716Z"
   },
   {
    "duration": 44,
    "start_time": "2025-07-08T13:52:42.755Z"
   },
   {
    "duration": 167,
    "start_time": "2025-07-08T13:52:42.801Z"
   },
   {
    "duration": 59,
    "start_time": "2025-07-08T13:52:42.970Z"
   },
   {
    "duration": 108,
    "start_time": "2025-07-08T13:52:43.031Z"
   },
   {
    "duration": 124,
    "start_time": "2025-07-08T13:52:43.141Z"
   },
   {
    "duration": 202,
    "start_time": "2025-07-08T13:52:43.267Z"
   },
   {
    "duration": 52,
    "start_time": "2025-07-08T13:52:43.471Z"
   },
   {
    "duration": 1025,
    "start_time": "2025-07-08T13:52:43.525Z"
   },
   {
    "duration": 88,
    "start_time": "2025-07-08T13:52:44.552Z"
   },
   {
    "duration": 39,
    "start_time": "2025-07-08T13:52:44.642Z"
   },
   {
    "duration": 4,
    "start_time": "2025-07-08T13:52:44.698Z"
   },
   {
    "duration": 18,
    "start_time": "2025-07-08T13:52:44.703Z"
   },
   {
    "duration": 137,
    "start_time": "2025-07-08T13:55:29.570Z"
   },
   {
    "duration": 141,
    "start_time": "2025-07-08T13:56:48.725Z"
   },
   {
    "duration": 348,
    "start_time": "2025-07-08T13:57:21.481Z"
   },
   {
    "duration": 23,
    "start_time": "2025-07-08T13:59:16.007Z"
   },
   {
    "duration": 28,
    "start_time": "2025-07-08T13:59:56.698Z"
   },
   {
    "duration": 65,
    "start_time": "2025-07-08T14:01:21.252Z"
   },
   {
    "duration": 3121,
    "start_time": "2025-07-08T14:03:54.706Z"
   },
   {
    "duration": 3,
    "start_time": "2025-07-08T14:03:57.829Z"
   },
   {
    "duration": 39,
    "start_time": "2025-07-08T14:03:57.833Z"
   },
   {
    "duration": 116,
    "start_time": "2025-07-08T14:03:57.874Z"
   },
   {
    "duration": 28,
    "start_time": "2025-07-08T14:03:57.999Z"
   },
   {
    "duration": 21,
    "start_time": "2025-07-08T14:03:58.028Z"
   },
   {
    "duration": 67,
    "start_time": "2025-07-08T14:03:58.051Z"
   },
   {
    "duration": 19,
    "start_time": "2025-07-08T14:03:58.119Z"
   },
   {
    "duration": 11,
    "start_time": "2025-07-08T14:03:58.139Z"
   },
   {
    "duration": 617,
    "start_time": "2025-07-08T14:03:58.152Z"
   },
   {
    "duration": 5,
    "start_time": "2025-07-08T14:03:58.771Z"
   },
   {
    "duration": 37,
    "start_time": "2025-07-08T14:03:58.777Z"
   },
   {
    "duration": 315,
    "start_time": "2025-07-08T14:03:58.816Z"
   },
   {
    "duration": 34,
    "start_time": "2025-07-08T14:03:59.134Z"
   },
   {
    "duration": 228,
    "start_time": "2025-07-08T14:03:59.170Z"
   },
   {
    "duration": 52,
    "start_time": "2025-07-08T14:03:59.401Z"
   },
   {
    "duration": 214,
    "start_time": "2025-07-08T14:03:59.455Z"
   },
   {
    "duration": 155,
    "start_time": "2025-07-08T14:03:59.671Z"
   },
   {
    "duration": 15,
    "start_time": "2025-07-08T14:03:59.828Z"
   },
   {
    "duration": 4,
    "start_time": "2025-07-08T14:03:59.844Z"
   },
   {
    "duration": 97,
    "start_time": "2025-07-08T14:03:59.850Z"
   },
   {
    "duration": 117,
    "start_time": "2025-07-08T14:03:59.949Z"
   },
   {
    "duration": 227,
    "start_time": "2025-07-08T14:04:00.068Z"
   },
   {
    "duration": 375,
    "start_time": "2025-07-08T14:04:00.297Z"
   },
   {
    "duration": 75,
    "start_time": "2025-07-08T14:04:00.673Z"
   },
   {
    "duration": 16,
    "start_time": "2025-07-08T14:04:00.749Z"
   },
   {
    "duration": 1343,
    "start_time": "2025-07-08T14:04:00.766Z"
   },
   {
    "duration": 11,
    "start_time": "2025-07-08T14:04:02.111Z"
   },
   {
    "duration": 67,
    "start_time": "2025-07-08T14:04:02.123Z"
   },
   {
    "duration": 28,
    "start_time": "2025-07-08T14:04:02.192Z"
   },
   {
    "duration": 48,
    "start_time": "2025-07-08T14:04:02.221Z"
   },
   {
    "duration": 59,
    "start_time": "2025-07-08T14:04:02.271Z"
   },
   {
    "duration": 240,
    "start_time": "2025-07-08T14:04:02.332Z"
   },
   {
    "duration": 142,
    "start_time": "2025-07-08T14:04:02.573Z"
   },
   {
    "duration": 132,
    "start_time": "2025-07-08T14:04:02.716Z"
   },
   {
    "duration": 291,
    "start_time": "2025-07-08T14:04:02.850Z"
   },
   {
    "duration": 68,
    "start_time": "2025-07-08T14:04:03.143Z"
   },
   {
    "duration": 943,
    "start_time": "2025-07-08T14:04:03.212Z"
   },
   {
    "duration": 74,
    "start_time": "2025-07-08T14:04:04.156Z"
   },
   {
    "duration": 328,
    "start_time": "2025-07-08T14:04:04.232Z"
   },
   {
    "duration": 40,
    "start_time": "2025-07-08T14:04:04.563Z"
   },
   {
    "duration": 90,
    "start_time": "2025-07-08T14:04:04.605Z"
   },
   {
    "duration": 3427,
    "start_time": "2025-07-08T14:50:06.241Z"
   },
   {
    "duration": 3,
    "start_time": "2025-07-08T14:50:09.670Z"
   },
   {
    "duration": 35,
    "start_time": "2025-07-08T14:50:09.674Z"
   },
   {
    "duration": 133,
    "start_time": "2025-07-08T14:50:09.711Z"
   },
   {
    "duration": 28,
    "start_time": "2025-07-08T14:50:09.846Z"
   },
   {
    "duration": 46,
    "start_time": "2025-07-08T14:50:09.876Z"
   },
   {
    "duration": 47,
    "start_time": "2025-07-08T14:50:09.924Z"
   },
   {
    "duration": 41,
    "start_time": "2025-07-08T14:50:09.973Z"
   },
   {
    "duration": 28,
    "start_time": "2025-07-08T14:50:10.016Z"
   },
   {
    "duration": 786,
    "start_time": "2025-07-08T14:50:10.047Z"
   },
   {
    "duration": 6,
    "start_time": "2025-07-08T14:50:10.834Z"
   },
   {
    "duration": 22,
    "start_time": "2025-07-08T14:50:10.898Z"
   },
   {
    "duration": 605,
    "start_time": "2025-07-08T14:50:10.922Z"
   },
   {
    "duration": 36,
    "start_time": "2025-07-08T14:50:11.530Z"
   },
   {
    "duration": 315,
    "start_time": "2025-07-08T14:50:11.567Z"
   },
   {
    "duration": 59,
    "start_time": "2025-07-08T14:50:11.884Z"
   },
   {
    "duration": 190,
    "start_time": "2025-07-08T14:50:11.944Z"
   },
   {
    "duration": 172,
    "start_time": "2025-07-08T14:50:12.136Z"
   },
   {
    "duration": 25,
    "start_time": "2025-07-08T14:50:12.311Z"
   },
   {
    "duration": 4,
    "start_time": "2025-07-08T14:50:12.338Z"
   },
   {
    "duration": 96,
    "start_time": "2025-07-08T14:50:12.343Z"
   },
   {
    "duration": 120,
    "start_time": "2025-07-08T14:50:12.440Z"
   },
   {
    "duration": 94,
    "start_time": "2025-07-08T14:50:12.562Z"
   },
   {
    "duration": 353,
    "start_time": "2025-07-08T14:50:12.658Z"
   },
   {
    "duration": 61,
    "start_time": "2025-07-08T14:50:13.013Z"
   },
   {
    "duration": 33,
    "start_time": "2025-07-08T14:50:13.075Z"
   },
   {
    "duration": 1323,
    "start_time": "2025-07-08T14:50:13.109Z"
   },
   {
    "duration": 11,
    "start_time": "2025-07-08T14:50:14.433Z"
   },
   {
    "duration": 35,
    "start_time": "2025-07-08T14:50:14.445Z"
   },
   {
    "duration": 31,
    "start_time": "2025-07-08T14:50:14.481Z"
   },
   {
    "duration": 63,
    "start_time": "2025-07-08T14:50:14.514Z"
   },
   {
    "duration": 51,
    "start_time": "2025-07-08T14:50:14.579Z"
   },
   {
    "duration": 32,
    "start_time": "2025-07-08T14:50:14.631Z"
   },
   {
    "duration": 57,
    "start_time": "2025-07-08T14:50:14.665Z"
   },
   {
    "duration": 129,
    "start_time": "2025-07-08T14:50:14.725Z"
   },
   {
    "duration": 26,
    "start_time": "2025-07-08T14:50:14.856Z"
   },
   {
    "duration": 48,
    "start_time": "2025-07-08T14:50:14.883Z"
   },
   {
    "duration": 969,
    "start_time": "2025-07-08T14:50:14.933Z"
   },
   {
    "duration": 43,
    "start_time": "2025-07-08T14:50:15.906Z"
   },
   {
    "duration": 327,
    "start_time": "2025-07-08T14:50:15.951Z"
   },
   {
    "duration": 35,
    "start_time": "2025-07-08T14:50:16.282Z"
   },
   {
    "duration": 69,
    "start_time": "2025-07-08T14:50:16.319Z"
   },
   {
    "duration": 47,
    "start_time": "2025-07-09T05:18:54.031Z"
   },
   {
    "duration": 1400,
    "start_time": "2025-07-09T05:18:57.837Z"
   },
   {
    "duration": 2653,
    "start_time": "2025-07-09T05:19:00.411Z"
   },
   {
    "duration": 3,
    "start_time": "2025-07-09T05:19:07.678Z"
   },
   {
    "duration": 23,
    "start_time": "2025-07-09T05:19:08.385Z"
   },
   {
    "duration": 122,
    "start_time": "2025-07-09T05:19:09.268Z"
   },
   {
    "duration": 29,
    "start_time": "2025-07-09T05:19:10.406Z"
   },
   {
    "duration": 25,
    "start_time": "2025-07-09T05:19:11.245Z"
   },
   {
    "duration": 45,
    "start_time": "2025-07-09T05:19:12.053Z"
   },
   {
    "duration": 20,
    "start_time": "2025-07-09T05:19:13.105Z"
   },
   {
    "duration": 15,
    "start_time": "2025-07-09T05:19:13.960Z"
   },
   {
    "duration": 634,
    "start_time": "2025-07-09T05:19:15.407Z"
   },
   {
    "duration": 6,
    "start_time": "2025-07-09T05:19:17.087Z"
   },
   {
    "duration": 22,
    "start_time": "2025-07-09T05:19:18.048Z"
   },
   {
    "duration": 314,
    "start_time": "2025-07-09T05:19:22.917Z"
   },
   {
    "duration": 35,
    "start_time": "2025-07-09T05:19:24.360Z"
   },
   {
    "duration": 220,
    "start_time": "2025-07-09T05:19:25.432Z"
   },
   {
    "duration": 58,
    "start_time": "2025-07-09T05:19:36.948Z"
   },
   {
    "duration": 185,
    "start_time": "2025-07-09T05:19:37.727Z"
   },
   {
    "duration": 155,
    "start_time": "2025-07-09T05:19:38.309Z"
   },
   {
    "duration": 16,
    "start_time": "2025-07-09T05:19:53.027Z"
   },
   {
    "duration": 4,
    "start_time": "2025-07-09T05:19:53.461Z"
   },
   {
    "duration": 71,
    "start_time": "2025-07-09T05:19:54.375Z"
   },
   {
    "duration": 114,
    "start_time": "2025-07-09T05:19:55.435Z"
   },
   {
    "duration": 68,
    "start_time": "2025-07-09T05:19:55.979Z"
   },
   {
    "duration": 389,
    "start_time": "2025-07-09T05:19:56.536Z"
   },
   {
    "duration": 63,
    "start_time": "2025-07-09T05:19:57.152Z"
   },
   {
    "duration": 18,
    "start_time": "2025-07-09T05:19:57.938Z"
   },
   {
    "duration": 1394,
    "start_time": "2025-07-09T05:19:58.824Z"
   },
   {
    "duration": 1443,
    "start_time": "2025-07-09T05:22:37.666Z"
   },
   {
    "duration": 1464,
    "start_time": "2025-07-09T05:23:29.622Z"
   },
   {
    "duration": 1397,
    "start_time": "2025-07-09T05:24:19.114Z"
   },
   {
    "duration": 1197,
    "start_time": "2025-07-09T05:25:43.991Z"
   },
   {
    "duration": 1974,
    "start_time": "2025-07-09T05:25:45.190Z"
   },
   {
    "duration": 4,
    "start_time": "2025-07-09T05:25:47.165Z"
   },
   {
    "duration": 29,
    "start_time": "2025-07-09T05:25:47.171Z"
   },
   {
    "duration": 119,
    "start_time": "2025-07-09T05:25:47.202Z"
   },
   {
    "duration": 43,
    "start_time": "2025-07-09T05:25:47.322Z"
   },
   {
    "duration": 81,
    "start_time": "2025-07-09T05:25:47.367Z"
   },
   {
    "duration": 61,
    "start_time": "2025-07-09T05:25:47.450Z"
   },
   {
    "duration": 20,
    "start_time": "2025-07-09T05:25:47.512Z"
   },
   {
    "duration": 16,
    "start_time": "2025-07-09T05:25:47.535Z"
   },
   {
    "duration": 637,
    "start_time": "2025-07-09T05:25:47.559Z"
   },
   {
    "duration": 7,
    "start_time": "2025-07-09T05:25:48.198Z"
   },
   {
    "duration": 116,
    "start_time": "2025-07-09T05:25:48.207Z"
   },
   {
    "duration": 322,
    "start_time": "2025-07-09T05:25:48.325Z"
   },
   {
    "duration": 43,
    "start_time": "2025-07-09T05:25:48.649Z"
   },
   {
    "duration": 238,
    "start_time": "2025-07-09T05:25:48.694Z"
   },
   {
    "duration": 62,
    "start_time": "2025-07-09T05:25:48.933Z"
   },
   {
    "duration": 215,
    "start_time": "2025-07-09T05:25:48.997Z"
   },
   {
    "duration": 172,
    "start_time": "2025-07-09T05:25:49.214Z"
   },
   {
    "duration": 16,
    "start_time": "2025-07-09T05:25:49.388Z"
   },
   {
    "duration": 27,
    "start_time": "2025-07-09T05:25:49.406Z"
   },
   {
    "duration": 74,
    "start_time": "2025-07-09T05:25:49.436Z"
   },
   {
    "duration": 122,
    "start_time": "2025-07-09T05:25:49.512Z"
   },
   {
    "duration": 73,
    "start_time": "2025-07-09T05:25:49.636Z"
   },
   {
    "duration": 400,
    "start_time": "2025-07-09T05:25:49.711Z"
   },
   {
    "duration": 71,
    "start_time": "2025-07-09T05:25:50.113Z"
   },
   {
    "duration": 17,
    "start_time": "2025-07-09T05:25:50.185Z"
   },
   {
    "duration": 1370,
    "start_time": "2025-07-09T05:25:50.205Z"
   },
   {
    "duration": 11,
    "start_time": "2025-07-09T05:25:51.576Z"
   },
   {
    "duration": 14,
    "start_time": "2025-07-09T05:25:51.589Z"
   },
   {
    "duration": 33,
    "start_time": "2025-07-09T05:25:51.605Z"
   },
   {
    "duration": 46,
    "start_time": "2025-07-09T05:25:51.640Z"
   },
   {
    "duration": 88,
    "start_time": "2025-07-09T05:25:51.688Z"
   },
   {
    "duration": 22,
    "start_time": "2025-07-09T05:25:51.777Z"
   },
   {
    "duration": 64,
    "start_time": "2025-07-09T05:25:51.801Z"
   },
   {
    "duration": 72,
    "start_time": "2025-07-09T05:25:51.867Z"
   },
   {
    "duration": 38,
    "start_time": "2025-07-09T05:25:51.941Z"
   },
   {
    "duration": 112,
    "start_time": "2025-07-09T05:25:51.981Z"
   },
   {
    "duration": 914,
    "start_time": "2025-07-09T05:25:52.095Z"
   },
   {
    "duration": 36,
    "start_time": "2025-07-09T05:25:53.010Z"
   },
   {
    "duration": 327,
    "start_time": "2025-07-09T05:25:53.048Z"
   },
   {
    "duration": 25,
    "start_time": "2025-07-09T05:25:53.377Z"
   },
   {
    "duration": 81,
    "start_time": "2025-07-09T05:25:53.404Z"
   },
   {
    "duration": 91,
    "start_time": "2025-07-09T05:35:01.827Z"
   },
   {
    "duration": 26,
    "start_time": "2025-07-09T05:36:08.509Z"
   },
   {
    "duration": 49,
    "start_time": "2025-07-09T05:43:35.788Z"
   },
   {
    "duration": 64,
    "start_time": "2025-07-09T05:43:42.965Z"
   },
   {
    "duration": 62,
    "start_time": "2025-07-09T05:43:52.642Z"
   },
   {
    "duration": 143,
    "start_time": "2025-07-09T05:44:31.402Z"
   },
   {
    "duration": 16,
    "start_time": "2025-07-09T05:45:52.213Z"
   },
   {
    "duration": 23,
    "start_time": "2025-07-09T05:46:37.771Z"
   },
   {
    "duration": 10,
    "start_time": "2025-07-09T05:54:12.810Z"
   },
   {
    "duration": 5,
    "start_time": "2025-07-09T05:57:33.503Z"
   },
   {
    "duration": 10,
    "start_time": "2025-07-09T05:57:50.926Z"
   },
   {
    "duration": 103,
    "start_time": "2025-07-09T06:05:37.412Z"
   },
   {
    "duration": 12,
    "start_time": "2025-07-09T06:05:50.375Z"
   },
   {
    "duration": 20,
    "start_time": "2025-07-09T06:05:56.298Z"
   },
   {
    "duration": 216,
    "start_time": "2025-07-09T06:06:29.341Z"
   },
   {
    "duration": 236,
    "start_time": "2025-07-09T06:07:04.139Z"
   },
   {
    "duration": 125,
    "start_time": "2025-07-09T06:08:28.564Z"
   },
   {
    "duration": 114,
    "start_time": "2025-07-09T06:14:12.755Z"
   },
   {
    "duration": 12,
    "start_time": "2025-07-09T06:14:40.944Z"
   },
   {
    "duration": 235,
    "start_time": "2025-07-09T06:15:13.887Z"
   },
   {
    "duration": 110,
    "start_time": "2025-07-09T06:16:53.730Z"
   },
   {
    "duration": 107,
    "start_time": "2025-07-09T06:23:10.267Z"
   },
   {
    "duration": 109,
    "start_time": "2025-07-09T06:23:23.309Z"
   },
   {
    "duration": 280,
    "start_time": "2025-07-09T06:44:14.612Z"
   },
   {
    "duration": 7,
    "start_time": "2025-07-09T06:44:21.212Z"
   },
   {
    "duration": 9,
    "start_time": "2025-07-09T06:44:51.498Z"
   },
   {
    "duration": 9,
    "start_time": "2025-07-09T06:45:17.076Z"
   },
   {
    "duration": 9,
    "start_time": "2025-07-09T06:46:11.135Z"
   },
   {
    "duration": 5,
    "start_time": "2025-07-09T06:47:43.302Z"
   },
   {
    "duration": 6,
    "start_time": "2025-07-09T06:47:55.039Z"
   },
   {
    "duration": 2733,
    "start_time": "2025-07-09T06:50:19.208Z"
   },
   {
    "duration": 8,
    "start_time": "2025-07-09T06:50:31.413Z"
   },
   {
    "duration": 6,
    "start_time": "2025-07-09T06:50:39.960Z"
   },
   {
    "duration": 5,
    "start_time": "2025-07-09T06:51:52.866Z"
   },
   {
    "duration": 6,
    "start_time": "2025-07-09T06:51:59.943Z"
   },
   {
    "duration": 8,
    "start_time": "2025-07-09T06:55:34.107Z"
   },
   {
    "duration": 6,
    "start_time": "2025-07-09T06:55:35.447Z"
   },
   {
    "duration": 5,
    "start_time": "2025-07-09T06:55:36.501Z"
   },
   {
    "duration": 6,
    "start_time": "2025-07-09T06:59:44.262Z"
   },
   {
    "duration": 6,
    "start_time": "2025-07-09T07:00:32.883Z"
   },
   {
    "duration": 6,
    "start_time": "2025-07-09T07:01:12.109Z"
   },
   {
    "duration": 7,
    "start_time": "2025-07-09T07:01:19.823Z"
   },
   {
    "duration": 5,
    "start_time": "2025-07-09T07:05:38.464Z"
   },
   {
    "duration": 3,
    "start_time": "2025-07-09T07:08:15.680Z"
   },
   {
    "duration": 4,
    "start_time": "2025-07-09T07:08:22.438Z"
   },
   {
    "duration": 6,
    "start_time": "2025-07-09T07:09:10.174Z"
   },
   {
    "duration": 4,
    "start_time": "2025-07-09T07:09:44.331Z"
   },
   {
    "duration": 12,
    "start_time": "2025-07-09T07:09:56.224Z"
   },
   {
    "duration": 6,
    "start_time": "2025-07-09T07:10:11.868Z"
   },
   {
    "duration": 6,
    "start_time": "2025-07-09T07:10:32.209Z"
   },
   {
    "duration": 5,
    "start_time": "2025-07-09T07:10:36.361Z"
   },
   {
    "duration": 5,
    "start_time": "2025-07-09T07:10:41.926Z"
   },
   {
    "duration": 7,
    "start_time": "2025-07-09T07:11:13.146Z"
   },
   {
    "duration": 5,
    "start_time": "2025-07-09T07:11:17.932Z"
   },
   {
    "duration": 6,
    "start_time": "2025-07-09T07:11:22.611Z"
   },
   {
    "duration": 5,
    "start_time": "2025-07-09T07:11:26.392Z"
   },
   {
    "duration": 6,
    "start_time": "2025-07-09T07:12:56.929Z"
   },
   {
    "duration": 6,
    "start_time": "2025-07-09T07:13:01.467Z"
   },
   {
    "duration": 6,
    "start_time": "2025-07-09T07:13:09.921Z"
   },
   {
    "duration": 6,
    "start_time": "2025-07-09T07:13:15.428Z"
   },
   {
    "duration": 3,
    "start_time": "2025-07-09T07:13:40.294Z"
   },
   {
    "duration": 6,
    "start_time": "2025-07-09T07:13:46.078Z"
   },
   {
    "duration": 6,
    "start_time": "2025-07-09T07:14:55.323Z"
   },
   {
    "duration": 116,
    "start_time": "2025-07-09T07:15:05.865Z"
   },
   {
    "duration": 110,
    "start_time": "2025-07-09T07:15:10.205Z"
   },
   {
    "duration": 6,
    "start_time": "2025-07-09T07:15:23.129Z"
   },
   {
    "duration": 5,
    "start_time": "2025-07-09T07:15:44.015Z"
   },
   {
    "duration": 6,
    "start_time": "2025-07-09T07:16:04.097Z"
   },
   {
    "duration": 6,
    "start_time": "2025-07-09T07:16:19.269Z"
   },
   {
    "duration": 6,
    "start_time": "2025-07-09T07:16:23.625Z"
   },
   {
    "duration": 6,
    "start_time": "2025-07-09T07:16:29.097Z"
   },
   {
    "duration": 6,
    "start_time": "2025-07-09T07:16:37.935Z"
   },
   {
    "duration": 10,
    "start_time": "2025-07-09T07:16:43.327Z"
   },
   {
    "duration": 6,
    "start_time": "2025-07-09T07:16:48.072Z"
   },
   {
    "duration": 6,
    "start_time": "2025-07-09T07:16:52.826Z"
   },
   {
    "duration": 8,
    "start_time": "2025-07-09T07:23:50.153Z"
   },
   {
    "duration": 8,
    "start_time": "2025-07-09T07:23:56.131Z"
   },
   {
    "duration": 8,
    "start_time": "2025-07-09T07:25:19.271Z"
   },
   {
    "duration": 6,
    "start_time": "2025-07-09T07:26:49.447Z"
   },
   {
    "duration": 6,
    "start_time": "2025-07-09T07:27:15.151Z"
   },
   {
    "duration": 5,
    "start_time": "2025-07-09T07:27:20.987Z"
   },
   {
    "duration": 6,
    "start_time": "2025-07-09T07:27:27.403Z"
   },
   {
    "duration": 6,
    "start_time": "2025-07-09T07:27:48.401Z"
   },
   {
    "duration": 7,
    "start_time": "2025-07-09T07:27:53.439Z"
   },
   {
    "duration": 6,
    "start_time": "2025-07-09T07:27:56.347Z"
   },
   {
    "duration": 7,
    "start_time": "2025-07-09T07:28:01.810Z"
   },
   {
    "duration": 6,
    "start_time": "2025-07-09T07:28:06.138Z"
   },
   {
    "duration": 6,
    "start_time": "2025-07-09T07:28:10.170Z"
   },
   {
    "duration": 6,
    "start_time": "2025-07-09T07:28:17.121Z"
   },
   {
    "duration": 5,
    "start_time": "2025-07-09T07:28:20.598Z"
   },
   {
    "duration": 6,
    "start_time": "2025-07-09T07:28:25.543Z"
   },
   {
    "duration": 6,
    "start_time": "2025-07-09T07:28:28.596Z"
   },
   {
    "duration": 6,
    "start_time": "2025-07-09T07:28:34.787Z"
   },
   {
    "duration": 6,
    "start_time": "2025-07-09T07:28:41.618Z"
   },
   {
    "duration": 7,
    "start_time": "2025-07-09T07:28:47.108Z"
   },
   {
    "duration": 1622,
    "start_time": "2025-07-09T07:32:06.529Z"
   },
   {
    "duration": 85,
    "start_time": "2025-07-09T07:32:24.802Z"
   },
   {
    "duration": 86,
    "start_time": "2025-07-09T07:32:31.517Z"
   },
   {
    "duration": 4,
    "start_time": "2025-07-09T07:32:42.603Z"
   },
   {
    "duration": 6,
    "start_time": "2025-07-09T07:32:49.934Z"
   },
   {
    "duration": 6,
    "start_time": "2025-07-09T07:33:24.583Z"
   },
   {
    "duration": 6,
    "start_time": "2025-07-09T07:33:32.351Z"
   },
   {
    "duration": 5,
    "start_time": "2025-07-09T07:34:07.402Z"
   },
   {
    "duration": 5,
    "start_time": "2025-07-09T07:34:19.495Z"
   },
   {
    "duration": 46,
    "start_time": "2025-07-10T08:24:38.779Z"
   },
   {
    "duration": 1400,
    "start_time": "2025-07-10T08:24:52.504Z"
   },
   {
    "duration": 3440,
    "start_time": "2025-07-10T08:24:53.906Z"
   },
   {
    "duration": 3,
    "start_time": "2025-07-10T08:24:57.348Z"
   },
   {
    "duration": 216,
    "start_time": "2025-07-10T08:24:57.353Z"
   },
   {
    "duration": 110,
    "start_time": "2025-07-10T08:24:57.570Z"
   },
   {
    "duration": 29,
    "start_time": "2025-07-10T08:24:57.682Z"
   },
   {
    "duration": 48,
    "start_time": "2025-07-10T08:24:57.713Z"
   },
   {
    "duration": 43,
    "start_time": "2025-07-10T08:24:57.762Z"
   },
   {
    "duration": 44,
    "start_time": "2025-07-10T08:24:57.807Z"
   },
   {
    "duration": 17,
    "start_time": "2025-07-10T08:24:57.854Z"
   },
   {
    "duration": 665,
    "start_time": "2025-07-10T08:24:57.873Z"
   },
   {
    "duration": 6,
    "start_time": "2025-07-10T08:24:58.540Z"
   },
   {
    "duration": 30,
    "start_time": "2025-07-10T08:24:58.548Z"
   },
   {
    "duration": 324,
    "start_time": "2025-07-10T08:24:58.580Z"
   },
   {
    "duration": 44,
    "start_time": "2025-07-10T08:24:58.906Z"
   },
   {
    "duration": 238,
    "start_time": "2025-07-10T08:24:58.952Z"
   },
   {
    "duration": 58,
    "start_time": "2025-07-10T08:24:59.192Z"
   },
   {
    "duration": 185,
    "start_time": "2025-07-10T08:24:59.252Z"
   },
   {
    "duration": 163,
    "start_time": "2025-07-10T08:24:59.438Z"
   },
   {
    "duration": 15,
    "start_time": "2025-07-10T08:24:59.603Z"
   },
   {
    "duration": 4,
    "start_time": "2025-07-10T08:24:59.619Z"
   },
   {
    "duration": 83,
    "start_time": "2025-07-10T08:24:59.638Z"
   },
   {
    "duration": 106,
    "start_time": "2025-07-10T08:24:59.723Z"
   },
   {
    "duration": 76,
    "start_time": "2025-07-10T08:24:59.830Z"
   },
   {
    "duration": 383,
    "start_time": "2025-07-10T08:24:59.908Z"
   },
   {
    "duration": 72,
    "start_time": "2025-07-10T08:25:00.292Z"
   },
   {
    "duration": 17,
    "start_time": "2025-07-10T08:25:00.366Z"
   },
   {
    "duration": 1393,
    "start_time": "2025-07-10T08:25:00.386Z"
   },
   {
    "duration": 10,
    "start_time": "2025-07-10T08:25:01.780Z"
   },
   {
    "duration": 31,
    "start_time": "2025-07-10T08:25:01.792Z"
   },
   {
    "duration": 126,
    "start_time": "2025-07-10T08:25:01.824Z"
   },
   {
    "duration": 139,
    "start_time": "2025-07-10T08:25:01.952Z"
   },
   {
    "duration": 175,
    "start_time": "2025-07-10T08:25:02.093Z"
   },
   {
    "duration": 60,
    "start_time": "2025-07-10T08:25:02.270Z"
   },
   {
    "duration": 177,
    "start_time": "2025-07-10T08:25:02.332Z"
   },
   {
    "duration": 177,
    "start_time": "2025-07-10T08:25:02.511Z"
   },
   {
    "duration": 82,
    "start_time": "2025-07-10T08:25:02.689Z"
   },
   {
    "duration": 79,
    "start_time": "2025-07-10T08:25:02.773Z"
   },
   {
    "duration": 961,
    "start_time": "2025-07-10T08:25:02.854Z"
   },
   {
    "duration": 124,
    "start_time": "2025-07-10T08:25:03.816Z"
   },
   {
    "duration": 356,
    "start_time": "2025-07-10T08:25:03.941Z"
   },
   {
    "duration": 28,
    "start_time": "2025-07-10T08:25:04.298Z"
   },
   {
    "duration": 122,
    "start_time": "2025-07-10T08:25:04.327Z"
   },
   {
    "duration": 30,
    "start_time": "2025-07-10T08:25:04.451Z"
   },
   {
    "duration": 141,
    "start_time": "2025-07-10T08:25:04.483Z"
   },
   {
    "duration": 25,
    "start_time": "2025-07-10T08:25:04.626Z"
   },
   {
    "duration": 93,
    "start_time": "2025-07-10T08:25:04.652Z"
   },
   {
    "duration": 4,
    "start_time": "2025-07-10T08:25:04.747Z"
   },
   {
    "duration": 23,
    "start_time": "2025-07-10T08:25:04.752Z"
   },
   {
    "duration": 289,
    "start_time": "2025-07-10T08:25:04.777Z"
   },
   {
    "duration": 272,
    "start_time": "2025-07-10T08:25:05.068Z"
   },
   {
    "duration": 8,
    "start_time": "2025-07-10T08:25:05.342Z"
   },
   {
    "duration": 158,
    "start_time": "2025-07-10T08:25:05.351Z"
   },
   {
    "duration": 115,
    "start_time": "2025-07-10T08:25:05.510Z"
   },
   {
    "duration": 56,
    "start_time": "2025-07-10T08:25:05.626Z"
   },
   {
    "duration": 58,
    "start_time": "2025-07-10T08:25:05.683Z"
   },
   {
    "duration": 155,
    "start_time": "2025-07-10T08:25:05.743Z"
   },
   {
    "duration": 32,
    "start_time": "2025-07-10T08:28:12.683Z"
   },
   {
    "duration": 5,
    "start_time": "2025-07-10T08:29:49.067Z"
   },
   {
    "duration": 6,
    "start_time": "2025-07-10T08:33:06.859Z"
   },
   {
    "duration": 4,
    "start_time": "2025-07-10T08:33:42.091Z"
   },
   {
    "duration": 3,
    "start_time": "2025-07-10T08:34:27.324Z"
   },
   {
    "duration": 7,
    "start_time": "2025-07-10T08:34:32.061Z"
   },
   {
    "duration": 28,
    "start_time": "2025-07-10T08:34:45.187Z"
   },
   {
    "duration": 4,
    "start_time": "2025-07-10T08:35:15.555Z"
   },
   {
    "duration": 6,
    "start_time": "2025-07-10T08:35:16.651Z"
   },
   {
    "duration": 40,
    "start_time": "2025-07-10T08:35:18.460Z"
   },
   {
    "duration": 17,
    "start_time": "2025-07-10T08:36:38.275Z"
   },
   {
    "duration": 19,
    "start_time": "2025-07-10T08:36:48.900Z"
   },
   {
    "duration": 4,
    "start_time": "2025-07-10T08:37:04.986Z"
   },
   {
    "duration": 8,
    "start_time": "2025-07-10T08:37:06.155Z"
   },
   {
    "duration": 17,
    "start_time": "2025-07-10T08:37:07.811Z"
   },
   {
    "duration": 16,
    "start_time": "2025-07-10T08:37:57.787Z"
   },
   {
    "duration": 77,
    "start_time": "2025-07-10T08:40:00.468Z"
   },
   {
    "duration": 15,
    "start_time": "2025-07-10T08:40:03.867Z"
   },
   {
    "duration": 16,
    "start_time": "2025-07-10T08:40:25.587Z"
   },
   {
    "duration": 19,
    "start_time": "2025-07-10T08:41:06.147Z"
   },
   {
    "duration": 19,
    "start_time": "2025-07-10T08:43:09.476Z"
   },
   {
    "duration": 19,
    "start_time": "2025-07-10T08:44:51.828Z"
   },
   {
    "duration": 140,
    "start_time": "2025-07-10T08:44:59.604Z"
   },
   {
    "duration": 15,
    "start_time": "2025-07-10T08:45:08.314Z"
   },
   {
    "duration": 17,
    "start_time": "2025-07-10T08:45:36.883Z"
   },
   {
    "duration": 19,
    "start_time": "2025-07-10T08:46:16.268Z"
   },
   {
    "duration": 26,
    "start_time": "2025-07-10T08:46:25.821Z"
   },
   {
    "duration": 15,
    "start_time": "2025-07-10T08:46:33.363Z"
   },
   {
    "duration": 20,
    "start_time": "2025-07-10T08:50:32.804Z"
   },
   {
    "duration": 118,
    "start_time": "2025-07-10T08:51:19.460Z"
   },
   {
    "duration": 20,
    "start_time": "2025-07-10T08:51:32.363Z"
   },
   {
    "duration": 19,
    "start_time": "2025-07-10T08:52:16.476Z"
   },
   {
    "duration": 18,
    "start_time": "2025-07-10T08:52:47.221Z"
   },
   {
    "duration": 22,
    "start_time": "2025-07-10T08:53:26.308Z"
   },
   {
    "duration": 8,
    "start_time": "2025-07-10T08:57:31.579Z"
   },
   {
    "duration": 5,
    "start_time": "2025-07-10T08:57:37.411Z"
   },
   {
    "duration": 98,
    "start_time": "2025-07-10T08:57:56.378Z"
   },
   {
    "duration": 51,
    "start_time": "2025-07-10T08:58:19.124Z"
   },
   {
    "duration": 11,
    "start_time": "2025-07-10T09:01:45.492Z"
   },
   {
    "duration": 12,
    "start_time": "2025-07-10T09:01:50.548Z"
   },
   {
    "duration": 8,
    "start_time": "2025-07-10T09:03:09.708Z"
   },
   {
    "duration": 14,
    "start_time": "2025-07-10T09:04:49.956Z"
   },
   {
    "duration": 10,
    "start_time": "2025-07-10T09:05:03.676Z"
   },
   {
    "duration": 174,
    "start_time": "2025-07-10T09:05:46.868Z"
   },
   {
    "duration": 21,
    "start_time": "2025-07-10T09:06:34.084Z"
   },
   {
    "duration": 20,
    "start_time": "2025-07-10T09:06:44.939Z"
   },
   {
    "duration": 15,
    "start_time": "2025-07-10T09:08:49.221Z"
   },
   {
    "duration": 9,
    "start_time": "2025-07-10T09:09:18.983Z"
   },
   {
    "duration": 11,
    "start_time": "2025-07-10T09:10:45.135Z"
   },
   {
    "duration": 11,
    "start_time": "2025-07-10T09:11:14.733Z"
   },
   {
    "duration": 12,
    "start_time": "2025-07-10T09:11:40.684Z"
   },
   {
    "duration": 11,
    "start_time": "2025-07-10T09:21:28.687Z"
   },
   {
    "duration": 16,
    "start_time": "2025-07-10T09:23:50.320Z"
   },
   {
    "duration": 20,
    "start_time": "2025-07-10T09:24:20.758Z"
   },
   {
    "duration": 146,
    "start_time": "2025-07-10T09:28:06.093Z"
   },
   {
    "duration": 142,
    "start_time": "2025-07-10T09:28:13.757Z"
   },
   {
    "duration": 145,
    "start_time": "2025-07-10T09:29:10.728Z"
   },
   {
    "duration": 1193,
    "start_time": "2025-07-10T09:46:54.652Z"
   },
   {
    "duration": 2072,
    "start_time": "2025-07-10T09:46:55.847Z"
   },
   {
    "duration": 4,
    "start_time": "2025-07-10T09:46:57.920Z"
   },
   {
    "duration": 20,
    "start_time": "2025-07-10T09:46:57.936Z"
   },
   {
    "duration": 121,
    "start_time": "2025-07-10T09:46:57.958Z"
   },
   {
    "duration": 27,
    "start_time": "2025-07-10T09:46:58.081Z"
   },
   {
    "duration": 34,
    "start_time": "2025-07-10T09:46:58.110Z"
   },
   {
    "duration": 43,
    "start_time": "2025-07-10T09:46:58.145Z"
   },
   {
    "duration": 18,
    "start_time": "2025-07-10T09:46:58.189Z"
   },
   {
    "duration": 38,
    "start_time": "2025-07-10T09:46:58.210Z"
   },
   {
    "duration": 591,
    "start_time": "2025-07-10T09:46:58.250Z"
   },
   {
    "duration": 5,
    "start_time": "2025-07-10T09:46:58.843Z"
   },
   {
    "duration": 33,
    "start_time": "2025-07-10T09:46:58.849Z"
   },
   {
    "duration": 311,
    "start_time": "2025-07-10T09:46:58.883Z"
   },
   {
    "duration": 43,
    "start_time": "2025-07-10T09:46:59.196Z"
   },
   {
    "duration": 215,
    "start_time": "2025-07-10T09:46:59.241Z"
   },
   {
    "duration": 48,
    "start_time": "2025-07-10T09:46:59.458Z"
   },
   {
    "duration": 179,
    "start_time": "2025-07-10T09:46:59.508Z"
   },
   {
    "duration": 156,
    "start_time": "2025-07-10T09:46:59.688Z"
   },
   {
    "duration": 14,
    "start_time": "2025-07-10T09:46:59.846Z"
   },
   {
    "duration": 4,
    "start_time": "2025-07-10T09:46:59.861Z"
   },
   {
    "duration": 88,
    "start_time": "2025-07-10T09:46:59.866Z"
   },
   {
    "duration": 122,
    "start_time": "2025-07-10T09:46:59.956Z"
   },
   {
    "duration": 78,
    "start_time": "2025-07-10T09:47:00.079Z"
   },
   {
    "duration": 342,
    "start_time": "2025-07-10T09:47:00.158Z"
   },
   {
    "duration": 70,
    "start_time": "2025-07-10T09:47:00.502Z"
   },
   {
    "duration": 15,
    "start_time": "2025-07-10T09:47:00.574Z"
   },
   {
    "duration": 1391,
    "start_time": "2025-07-10T09:47:00.593Z"
   },
   {
    "duration": 9,
    "start_time": "2025-07-10T09:47:01.986Z"
   },
   {
    "duration": 80,
    "start_time": "2025-07-10T09:47:01.997Z"
   },
   {
    "duration": 63,
    "start_time": "2025-07-10T09:47:02.078Z"
   },
   {
    "duration": 50,
    "start_time": "2025-07-10T09:47:02.142Z"
   },
   {
    "duration": 49,
    "start_time": "2025-07-10T09:47:02.194Z"
   },
   {
    "duration": 30,
    "start_time": "2025-07-10T09:47:02.245Z"
   },
   {
    "duration": 64,
    "start_time": "2025-07-10T09:47:02.277Z"
   },
   {
    "duration": 86,
    "start_time": "2025-07-10T09:47:02.342Z"
   },
   {
    "duration": 50,
    "start_time": "2025-07-10T09:47:02.430Z"
   },
   {
    "duration": 41,
    "start_time": "2025-07-10T09:47:02.481Z"
   },
   {
    "duration": 1027,
    "start_time": "2025-07-10T09:47:02.523Z"
   },
   {
    "duration": 45,
    "start_time": "2025-07-10T09:47:03.552Z"
   },
   {
    "duration": 371,
    "start_time": "2025-07-10T09:47:03.598Z"
   },
   {
    "duration": 23,
    "start_time": "2025-07-10T09:47:03.971Z"
   },
   {
    "duration": 157,
    "start_time": "2025-07-10T09:47:03.996Z"
   },
   {
    "duration": 28,
    "start_time": "2025-07-10T09:47:04.155Z"
   },
   {
    "duration": 128,
    "start_time": "2025-07-10T09:47:04.185Z"
   },
   {
    "duration": 24,
    "start_time": "2025-07-10T09:47:04.314Z"
   },
   {
    "duration": 16,
    "start_time": "2025-07-10T09:47:04.340Z"
   },
   {
    "duration": 4,
    "start_time": "2025-07-10T09:47:04.358Z"
   },
   {
    "duration": 16,
    "start_time": "2025-07-10T09:47:04.363Z"
   },
   {
    "duration": 133,
    "start_time": "2025-07-10T09:47:04.380Z"
   },
   {
    "duration": 104,
    "start_time": "2025-07-10T09:47:04.514Z"
   },
   {
    "duration": 81,
    "start_time": "2025-07-10T09:47:04.619Z"
   },
   {
    "duration": 34,
    "start_time": "2025-07-10T09:47:04.703Z"
   },
   {
    "duration": 14,
    "start_time": "2025-07-10T09:47:04.739Z"
   },
   {
    "duration": 9,
    "start_time": "2025-07-10T09:47:04.755Z"
   },
   {
    "duration": 26,
    "start_time": "2025-07-10T09:47:04.765Z"
   },
   {
    "duration": 22,
    "start_time": "2025-07-10T09:47:04.793Z"
   },
   {
    "duration": 76,
    "start_time": "2025-07-10T09:47:04.817Z"
   },
   {
    "duration": 21,
    "start_time": "2025-07-10T09:47:04.894Z"
   },
   {
    "duration": 12,
    "start_time": "2025-07-10T09:47:04.917Z"
   },
   {
    "duration": 35,
    "start_time": "2025-07-10T09:47:04.931Z"
   },
   {
    "duration": 29,
    "start_time": "2025-07-10T09:47:04.968Z"
   },
   {
    "duration": 143,
    "start_time": "2025-07-10T09:47:04.999Z"
   }
  ],
  "colab": {
   "provenance": []
  },
  "kernelspec": {
   "display_name": "Python 3 (ipykernel)",
   "language": "python",
   "name": "python3"
  },
  "language_info": {
   "codemirror_mode": {
    "name": "ipython",
    "version": 3
   },
   "file_extension": ".py",
   "mimetype": "text/x-python",
   "name": "python",
   "nbconvert_exporter": "python",
   "pygments_lexer": "ipython3",
   "version": "3.11.4"
  },
  "toc": {
   "base_numbering": 1,
   "nav_menu": {},
   "number_sections": false,
   "sideBar": true,
   "skip_h1_title": true,
   "title_cell": "Table of Contents",
   "title_sidebar": "Contents",
   "toc_cell": false,
   "toc_position": {},
   "toc_section_display": true,
   "toc_window_display": true
  }
 },
 "nbformat": 4,
 "nbformat_minor": 1
}
